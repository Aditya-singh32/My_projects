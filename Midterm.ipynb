{
  "nbformat": 4,
  "nbformat_minor": 0,
  "metadata": {
    "colab": {
      "provenance": [],
      "mount_file_id": "1IaYd5zAaY5zdXXRyuZ0437uWBN83yYI3",
      "authorship_tag": "ABX9TyP3LX/UToFiniymxr7bYyQM",
      "include_colab_link": true
    },
    "kernelspec": {
      "name": "python3",
      "display_name": "Python 3"
    },
    "language_info": {
      "name": "python"
    }
  },
  "cells": [
    {
      "cell_type": "markdown",
      "metadata": {
        "id": "view-in-github",
        "colab_type": "text"
      },
      "source": [
        "<a href=\"https://colab.research.google.com/github/Aditya-singh32/My_projects/blob/main/Midterm.ipynb\" target=\"_parent\"><img src=\"https://colab.research.google.com/assets/colab-badge.svg\" alt=\"Open In Colab\"/></a>"
      ]
    },
    {
      "cell_type": "markdown",
      "source": [
        "# Question 1"
      ],
      "metadata": {
        "id": "yrtFWcqeKAPC"
      }
    },
    {
      "cell_type": "code",
      "execution_count": 87,
      "metadata": {
        "id": "uamU3aYWG0Jg"
      },
      "outputs": [],
      "source": [
        "# Standard Library Import\n",
        "import numpy as np\n",
        "import pandas as pd\n",
        "import matplotlib.pyplot as plt\n",
        "%matplotlib inline\n",
        "\n",
        "# Project Especific Imports\n",
        "from sklearn.model_selection import train_test_split\n",
        "\n",
        "import tensorflow as tf\n",
        "from tensorflow import keras"
      ]
    },
    {
      "cell_type": "code",
      "source": [
        "from sklearn import datasets\n",
        "iris = datasets.load_iris()\n",
        "iris_data = iris.data\n",
        "iris_target = iris.target"
      ],
      "metadata": {
        "id": "Q3sMgHUuIHnF"
      },
      "execution_count": 88,
      "outputs": []
    },
    {
      "cell_type": "code",
      "source": [
        "iris_data = iris_data[50:]\n",
        "iris_target = iris_target[50:]"
      ],
      "metadata": {
        "id": "4loHs-kEK-YW"
      },
      "execution_count": 89,
      "outputs": []
    },
    {
      "cell_type": "code",
      "source": [
        "def build_model(my_learning_rate):\n",
        "  model = tf.keras.models.Sequential([\n",
        "      tf.keras.layers.Dense(1,input_shape=(1,), name='hidden_layer')\n",
        "      , tf.keras.layers.Dense(1,name='output_layer')\n",
        "      ])\n",
        "\n",
        "  my_opt = tf.keras.optimizers.Adam(learning_rate=my_learning_rate)\n",
        "  model.compile(optimizer=\"adam\",\n",
        "                loss=\"mean_squared_error\",\n",
        "                metrics=[tf.keras.metrics.RootMeanSquaredError()])\n",
        "\n",
        "  return model\n",
        "\n",
        "\n",
        "def train_model(model, feature, label, epochs, batch_size):\n",
        "  history = model.fit(x=feature,\n",
        "                      y=label,\n",
        "                      batch_size=batch_size,\n",
        "                      epochs=epochs, validation_split=0.5, verbose=0)\n",
        "\n",
        "  # Gather the trained model's weight and bias.\n",
        "  trained_weight = model.get_weights()[0::2]\n",
        "  trained_bias = model.get_weights()[1::2]\n",
        "\n",
        "  # The list of epochs is stored separately from the\n",
        "  # rest of history.\n",
        "  epochs = history.epoch\n",
        "\n",
        "  # Gather the history (a snapshot) of each epoch.\n",
        "  hist = pd.DataFrame(history.history)\n",
        "\n",
        "  # Specifically gather the model's root mean\n",
        "  # squared error at each epoch.\n",
        "  rmse = hist[\"root_mean_squared_error\"]\n",
        "\n",
        "  return trained_weight, trained_bias, epochs, rmse, model"
      ],
      "metadata": {
        "id": "dw3Pz9ivIPBQ"
      },
      "execution_count": 90,
      "outputs": []
    },
    {
      "cell_type": "code",
      "source": [
        "from sklearn.metrics import mean_squared_error\n",
        "\n",
        "for var in range(4):\n",
        "    my_feature = iris_data[:, var] #use sepal_length to predict the target, try all 3 by the way\n",
        "    my_label = iris_data[:, 2] #target is petal_length\n",
        "\n",
        "    learning_rate=.1\n",
        "    epochs=100\n",
        "    my_batch_size=5\n",
        "\n",
        "    my_model = build_model(learning_rate)\n",
        "    trained_weight, trained_bias, epochs, rmse, my_model = train_model(my_model, my_feature,\n",
        "                                                            my_label, epochs,\n",
        "                                                            my_batch_size)\n",
        "\n",
        "    y_pred = my_model.predict(my_feature, verbose=0).flatten()\n",
        "    print(\"Trained using column number =\", var)\n",
        "    print('rmse =', np.sqrt(mean_squared_error(my_label, y_pred)))\n",
        "    print(\"Trained_weight (w1) =\",trained_weight)\n",
        "    print(\"Trained_bias (w0) =\",trained_bias)\n",
        "    print()"
      ],
      "metadata": {
        "colab": {
          "base_uri": "https://localhost:8080/"
        },
        "id": "BR7mSNrxJFmT",
        "outputId": "390f27df-abdb-4b9f-a883-6f36289f3577"
      },
      "execution_count": 91,
      "outputs": [
        {
          "output_type": "stream",
          "name": "stdout",
          "text": [
            "Trained using column number = 0\n",
            "rmse = 0.7050660271198115\n",
            "Trained_weight (w1) = [array([[0.4290863]], dtype=float32), array([[1.3838915]], dtype=float32)]\n",
            "Trained_bias (w0) = [array([0.3219192], dtype=float32), array([0.2926004], dtype=float32)]\n",
            "\n",
            "Trained using column number = 1\n",
            "rmse = 5.533643871232266\n",
            "Trained_weight (w1) = [array([[1.0462543]], dtype=float32), array([[-0.5932301]], dtype=float32)]\n",
            "Trained_bias (w0) = [array([-0.68447596], dtype=float32), array([0.8301047], dtype=float32)]\n",
            "\n",
            "Trained using column number = 2\n",
            "rmse = 0.074388339919232\n",
            "Trained_weight (w1) = [array([[0.82524395]], dtype=float32), array([[1.1234603]], dtype=float32)]\n",
            "Trained_bias (w0) = [array([0.15019575], dtype=float32), array([0.14460301], dtype=float32)]\n",
            "\n",
            "Trained using column number = 3\n",
            "rmse = 0.6495352055194679\n",
            "Trained_weight (w1) = [array([[1.6195776]], dtype=float32), array([[1.5596812]], dtype=float32)]\n",
            "Trained_bias (w0) = [array([0.361444], dtype=float32), array([0.335506], dtype=float32)]\n",
            "\n"
          ]
        }
      ]
    },
    {
      "cell_type": "markdown",
      "source": [
        "# Question 2"
      ],
      "metadata": {
        "id": "nOfjjNArM7hp"
      }
    },
    {
      "cell_type": "code",
      "source": [
        "X_train,X_test,y_train,y_test = train_test_split(iris_data,iris_target,test_size=.2,random_state=42)"
      ],
      "metadata": {
        "id": "rTuyJqNLNdHk"
      },
      "execution_count": 73,
      "outputs": []
    },
    {
      "cell_type": "code",
      "source": [
        "X_train.shape,X_test.shape,y_train.shape,y_test.shape"
      ],
      "metadata": {
        "colab": {
          "base_uri": "https://localhost:8080/"
        },
        "id": "5CfS2cGzOIUj",
        "outputId": "43e82a32-4a93-4bac-e59e-8f9cca98c071"
      },
      "execution_count": 74,
      "outputs": [
        {
          "output_type": "execute_result",
          "data": {
            "text/plain": [
              "((80, 4), (20, 4), (80,), (20,))"
            ]
          },
          "metadata": {},
          "execution_count": 74
        }
      ]
    },
    {
      "cell_type": "code",
      "source": [
        "model = tf.keras.Sequential([\n",
        "    tf.keras.layers.Dense(100,input_shape=(4,),name='hidden_layer'),\n",
        "    tf.keras.layers.Dense(1,activation='sigmoid',name='output_layer')\n",
        "])\n",
        "\n",
        "model.compile(tf.keras.optimizers.Adam(learning_rate=0.001),loss='binary_crossentropy',metrics='accuracy')\n",
        "\n",
        "model.fit(X_train,y_train,epochs=500,validation_split=.2,verbose=0)"
      ],
      "metadata": {
        "colab": {
          "base_uri": "https://localhost:8080/"
        },
        "id": "J74sqIjmNdJp",
        "outputId": "865ab189-c022-496f-e805-ba5bae5bdd81"
      },
      "execution_count": 75,
      "outputs": [
        {
          "output_type": "execute_result",
          "data": {
            "text/plain": [
              "<keras.src.callbacks.History at 0x7ef938fba020>"
            ]
          },
          "metadata": {},
          "execution_count": 75
        }
      ]
    },
    {
      "cell_type": "code",
      "source": [
        "hist = model.history.history\n",
        "epoch = model.history.epoch"
      ],
      "metadata": {
        "id": "1yNsp1EuNiIr"
      },
      "execution_count": 76,
      "outputs": []
    },
    {
      "cell_type": "code",
      "source": [
        "fig, ((ax0,ax1),(ax2,ax3)) = plt.subplots(2,2,figsize=(10,10))\n",
        "\n",
        "ax0.scatter(epoch,hist['loss'],c='lightblue')\n",
        "ax0.title.set_text('Loss')\n",
        "\n",
        "ax1.scatter(epoch,hist['accuracy'],c='orange')\n",
        "ax1.title.set_text('Accuracy')\n",
        "\n",
        "ax2.scatter(epoch,hist['val_loss'],c='salmon')\n",
        "ax2.title.set_text('val_loss')\n",
        "\n",
        "ax3.scatter(epoch,hist['val_accuracy'],c='lightgreen')\n",
        "ax3.title.set_text('val_accuracy')"
      ],
      "metadata": {
        "colab": {
          "base_uri": "https://localhost:8080/",
          "height": 853
        },
        "id": "4BpxE9KANixC",
        "outputId": "968d3b0f-c4f1-43b7-8d0a-99e0341dcc04"
      },
      "execution_count": 77,
      "outputs": [
        {
          "output_type": "display_data",
          "data": {
            "text/plain": [
              "<Figure size 1000x1000 with 4 Axes>"
            ],
            "image/png": "[encoded data removed]"
          },
          "metadata": {}
        }
      ]
    },
    {
      "cell_type": "code",
      "source": [
        "model.summary()"
      ],
      "metadata": {
        "colab": {
          "base_uri": "https://localhost:8080/"
        },
        "id": "GXu57_KWNlAR",
        "outputId": "84b06c10-4b46-4fc1-dbd0-33063e482621"
      },
      "execution_count": 78,
      "outputs": [
        {
          "output_type": "stream",
          "name": "stdout",
          "text": [
            "Model: \"sequential_42\"\n",
            "_________________________________________________________________\n",
            " Layer (type)                Output Shape              Param #   \n",
            "=================================================================\n",
            " hidden_layer (Dense)        (None, 100)               500       \n",
            "                                                                 \n",
            " output_layer (Dense)        (None, 1)                 101       \n",
            "                                                                 \n",
            "=================================================================\n",
            "Total params: 601 (2.35 KB)\n",
            "Trainable params: 601 (2.35 KB)\n",
            "Non-trainable params: 0 (0.00 Byte)\n",
            "_________________________________________________________________\n"
          ]
        }
      ]
    },
    {
      "cell_type": "code",
      "source": [
        "from tensorflow.keras.utils import plot_model\n",
        "plot_model(model,show_shapes=True,show_dtype=True)"
      ],
      "metadata": {
        "colab": {
          "base_uri": "https://localhost:8080/",
          "height": 404
        },
        "id": "2ogi9E69Nntd",
        "outputId": "6790a777-b031-45c7-b583-bdb5282b7b61"
      },
      "execution_count": 79,
      "outputs": [
        {
          "output_type": "execute_result",
          "data": {
            "image/png": "[encoded data removed]",
            "text/plain": [
              "<IPython.core.display.Image object>"
            ]
          },
          "metadata": {},
          "execution_count": 79
        }
      ]
    },
    {
      "cell_type": "code",
      "source": [
        "model.evaluate(X_test,y_test)"
      ],
      "metadata": {
        "colab": {
          "base_uri": "https://localhost:8080/"
        },
        "id": "acfyjl3VNqVr",
        "outputId": "4c4f5bdb-6f31-4476-a229-335443623fcc"
      },
      "execution_count": 80,
      "outputs": [
        {
          "output_type": "stream",
          "name": "stdout",
          "text": [
            "1/1 [==============================] - 0s 16ms/step - loss: -1736.1439 - accuracy: 0.6000\n"
          ]
        },
        {
          "output_type": "execute_result",
          "data": {
            "text/plain": [
              "[-1736.1439208984375, 0.6000000238418579]"
            ]
          },
          "metadata": {},
          "execution_count": 80
        }
      ]
    },
    {
      "cell_type": "code",
      "source": [
        "# Access the weights of the first layer (hidden layer)\n",
        "weights_hidden_layer, biases_hidden_layer = model.get_layer('hidden_layer').get_weights()\n",
        "\n",
        "# Access the weights of the second layer (output layer)\n",
        "weights_output_layer, biases_output_layer = model.get_layer('output_layer').get_weights()\n",
        "\n",
        "print(\"Weights of hidden layer:\", weights_hidden_layer)\n",
        "print(\"Biases of hidden layer:\", biases_hidden_layer)\n",
        "print(\"Weights of output layer:\", weights_output_layer)\n",
        "print(\"Biases of output layer:\", biases_output_layer)"
      ],
      "metadata": {
        "colab": {
          "base_uri": "https://localhost:8080/"
        },
        "id": "49PI13x4OkFQ",
        "outputId": "cd470920-77f3-4f5e-b909-70c4128d5276"
      },
      "execution_count": 81,
      "outputs": [
        {
          "output_type": "stream",
          "name": "stdout",
          "text": [
            "Weights of hidden layer: [[ 1.5186832  1.6088165 -1.6054842 -1.4431993 -1.5230452 -1.5618203\n",
            "   1.4711756  1.658587   1.736215  -1.4108902  1.5241222  1.7623857\n",
            "  -1.3130038  1.6580999  1.6838467 -1.4581652  1.5501873  1.4848114\n",
            "  -1.4127707  1.6520971 -1.6936826  1.4268748  1.4086382 -1.6235676\n",
            "  -1.3945835 -1.3631871  1.5993593  1.64113    1.4534765 -1.5407258\n",
            "   1.6649015  1.2814878 -1.3672991  1.4122037 -1.6140102  1.7070044\n",
            "  -1.528465  -1.3896255 -1.451594  -1.5116006 -1.5692449 -1.3997127\n",
            "  -1.6187797 -1.3496827  1.5751531  1.4632703 -1.5168818 -1.4779588\n",
            "   1.3874624  1.252064  -1.7178316  1.3867115 -1.4180312 -1.4513757\n",
            "  -1.7330354  1.608167  -1.7579683  1.4941304 -1.5540355  1.6628481\n",
            "   1.6249847  1.5677037 -1.61966    1.525574  -1.386544   1.4061186\n",
            "   1.5261871 -1.4896414  1.4204608  1.8090372  1.6093659 -1.7734716\n",
            "  -1.5678215  1.4632165  1.5371081 -1.458086  -1.3248142 -1.5637838\n",
            "   1.4128088  1.6001365  1.44583    1.350946  -1.3235564  1.5159229\n",
            "   1.4014187 -1.3353969  1.3236182  1.2898849  1.6694889  1.4353446\n",
            "  -1.3725153 -1.6178306  1.6405404  1.5370733  1.679373  -1.2915204\n",
            "   1.6497895  1.5084815 -1.4080902  1.6705611]\n",
            " [ 1.538094   1.320448  -1.2253184 -1.6902769 -1.5180335 -1.7003186\n",
            "   1.2938737  1.6011274  1.3389895 -1.5871556  1.3783256  1.7487835\n",
            "  -1.6747911  1.751579   1.6536181 -1.3246095  1.380437   1.3243622\n",
            "  -1.35776    1.3411213 -1.3600111  1.5883086  1.6401865 -1.8153033\n",
            "  -1.6495743 -1.521492   1.6700301  1.5523095  1.3279798 -1.5865293\n",
            "   1.4147558  1.4076746 -1.4304312  1.6371442 -1.5323879  1.7076887\n",
            "  -1.6471261 -1.2443217 -1.6013001 -1.31144   -1.401334  -1.363486\n",
            "  -1.3442696 -1.2556657  1.3278104  1.4647524 -1.4932361 -1.6500375\n",
            "   1.5178713  1.3535777 -1.7197374  1.4187702 -1.5363028 -1.3114486\n",
            "  -1.4706739  1.6322583 -1.3126765  1.6065887 -1.683795   1.768236\n",
            "   1.2666061  1.2005181 -1.1769191  1.4190489 -1.6874745  1.6385933\n",
            "   1.4323479 -1.4860002  1.3674167  1.6288673  1.5118709 -1.6643136\n",
            "  -1.6441748  1.3567564  1.6819141 -1.4071326 -1.2727424 -1.6271915\n",
            "   1.6089971  1.4648553  1.5240546  1.4224038 -1.6337092  1.2498593\n",
            "   1.4015199 -1.4423345  1.3473417  1.5452646  1.3907793  1.3098711\n",
            "  -1.3802911 -1.5808761  1.595885   1.6976624  1.5820144 -1.5567645\n",
            "   1.4130584  1.455254  -1.3428627  1.457923 ]\n",
            " [ 1.3248078  1.3997195 -1.5839052 -1.6857482 -1.3652495 -1.6210449\n",
            "   1.6387589  1.5220283  1.6698393 -1.5186774  1.536542   1.605229\n",
            "  -1.7210461  1.7065806  1.6321201 -1.3013865  1.4072723  1.6745728\n",
            "  -1.3279597  1.4669007 -1.6575977  1.5688059  1.7590028 -1.803701\n",
            "  -1.5369056 -1.2601566  1.4875641  1.4961373  1.454767  -1.5998591\n",
            "   1.5710564  1.5206745 -1.6447184  1.5237542 -1.3972155  1.6049854\n",
            "  -1.5598297 -1.545293  -1.2889688 -1.4704069 -1.5607988 -1.6534772\n",
            "  -1.2515855 -1.6229157  1.3086284  1.4866661 -1.6835802 -1.4618627\n",
            "   1.3740519  1.589917  -1.5782514  1.5352912 -1.4870884 -1.6322675\n",
            "  -1.6024516  1.5067737 -1.7506515  1.5341436 -1.440349   1.4046463\n",
            "   1.6643225  1.3841228 -1.3735368  1.2537397 -1.6790774  1.470075\n",
            "   1.4777278 -1.4964193  1.6208588  1.8088433  1.1600095 -1.5753014\n",
            "  -1.6448501  1.8020835  1.7211384 -1.5243165 -1.6448345 -1.520145\n",
            "   1.3114014  1.353325   1.5291256  1.5261917 -1.3922472  1.535094\n",
            "   1.4168267 -1.5627419  1.4995501  1.5102608  1.8028992  1.6602333\n",
            "  -1.4861983 -1.1525811  1.3748395  1.6296504  1.6980531 -1.6334866\n",
            "   1.4687749  1.6319478 -1.2824159  1.2879475]\n",
            " [ 1.3438797  1.4466501 -1.5385536 -1.7494516 -1.244427  -1.3294923\n",
            "   1.2893596  1.4513274  1.612761  -1.3919752  1.6074004  1.5320237\n",
            "  -1.4720328  1.554036   1.4936664 -1.2765027  1.7080803  1.6104472\n",
            "  -1.5643765  1.5546215 -1.7085682  1.2175463  1.5888276 -1.3840442\n",
            "  -1.4667292 -1.6360549  1.2255863  1.4883034  1.4370899 -1.370598\n",
            "   1.576545   1.3593103 -1.406538   1.60675   -1.5012988  1.5754813\n",
            "  -1.3728015 -1.3769561 -1.2772862 -1.1922363 -1.302874  -1.575635\n",
            "  -1.5780115 -1.3514462  1.3135179  1.5431771 -1.3720156 -1.532822\n",
            "   1.6200696  1.4001868 -1.3466161  1.3126172 -1.4943563 -1.370595\n",
            "  -1.7009516  1.4210134 -1.5192021  1.735386  -1.3391421  1.3784317\n",
            "   1.2802846  1.1912453 -1.2697616  1.5883491 -1.7433157  1.3686233\n",
            "   1.306377  -1.6390389  1.4365194  1.3905932  1.5776231 -1.3224251\n",
            "  -1.4454443  1.6051009  1.41867   -1.5143417 -1.4700489 -1.550231\n",
            "   1.4301411  1.2322944  1.6000332  1.3844932 -1.3914038  1.2813399\n",
            "   1.4712682 -1.5576422  1.4050957  1.6230994  1.5522583  1.2776474\n",
            "  -1.5296688 -1.4766268  1.3087182  1.5415994  1.7597669 -1.3130412\n",
            "   1.3361126  1.5256152 -1.5759972  1.3417609]]\n",
            "Biases of hidden layer: [ 1.5008465  1.4350934 -1.4308304 -1.5609487 -1.4279789 -1.4940065\n",
            "  1.4015683  1.4359994  1.5424321 -1.4395509  1.4381065  1.5838634\n",
            " -1.5419341  1.5734639  1.4959427 -1.4686651  1.4966662  1.4675503\n",
            " -1.4018449  1.5220201 -1.4778616  1.4428096  1.5551066 -1.5811361\n",
            " -1.4245114 -1.4174991  1.4494483  1.4298875  1.4628829 -1.498684\n",
            "  1.4608747  1.3958203 -1.4677637  1.4669719 -1.5395948  1.4936852\n",
            " -1.5899471 -1.4206799 -1.439113  -1.3980762 -1.5212145 -1.4152193\n",
            " -1.4124563 -1.482255   1.437024   1.5021986 -1.4810646 -1.4287916\n",
            "  1.5028795  1.4687471 -1.5785815  1.432303  -1.4732711 -1.4530219\n",
            " -1.5169904  1.5723821 -1.5260897  1.5994889 -1.5510148  1.5963671\n",
            "  1.4654266  1.3970859 -1.398815   1.4598992 -1.5741155  1.5483065\n",
            "  1.3881449 -1.4524204  1.4503481  1.5861471  1.3948933 -1.5536968\n",
            " -1.5088047  1.5750479  1.5169059 -1.380243  -1.451963  -1.4147599\n",
            "  1.531025   1.3765812  1.5081958  1.41405   -1.4138168  1.4622731\n",
            "  1.4405031 -1.5323199  1.442002   1.4703737  1.572622   1.444996\n",
            " -1.4532843 -1.3809661  1.408987   1.4594907  1.5221077 -1.4784434\n",
            "  1.5507255  1.485094  -1.4815693  1.4838046]\n",
            "Weights of output layer: [[ 1.6609688]\n",
            " [ 1.6818373]\n",
            " [-1.5011256]\n",
            " [-1.5456532]\n",
            " [-1.7288346]\n",
            " [-1.561478 ]\n",
            " [ 1.6914936]\n",
            " [ 1.4551361]\n",
            " [ 1.5124758]\n",
            " [-1.6785597]\n",
            " [ 1.635122 ]\n",
            " [ 1.4752997]\n",
            " [-1.6159494]\n",
            " [ 1.4779903]\n",
            " [ 1.5114874]\n",
            " [-1.6407179]\n",
            " [ 1.654414 ]\n",
            " [ 1.6068327]\n",
            " [-1.7987161]\n",
            " [ 1.6156689]\n",
            " [-1.5254688]\n",
            " [ 1.6752768]\n",
            " [ 1.5569856]\n",
            " [-1.4713771]\n",
            " [-1.6604251]\n",
            " [-1.7861522]\n",
            " [ 1.6135122]\n",
            " [ 1.5946856]\n",
            " [ 1.7176797]\n",
            " [-1.5899515]\n",
            " [ 1.5655822]\n",
            " [ 1.806412 ]\n",
            " [-1.678566 ]\n",
            " [ 1.6324912]\n",
            " [-1.6242783]\n",
            " [ 1.4408096]\n",
            " [-1.5768886]\n",
            " [-1.7639052]\n",
            " [-1.752876 ]\n",
            " [-1.7520838]\n",
            " [-1.6375043]\n",
            " [-1.6604466]\n",
            " [-1.7192538]\n",
            " [-1.6854124]\n",
            " [ 1.7514181]\n",
            " [ 1.6637007]\n",
            " [-1.5887369]\n",
            " [-1.6426767]\n",
            " [ 1.6520253]\n",
            " [ 1.6922686]\n",
            " [-1.5167565]\n",
            " [ 1.7373718]\n",
            " [-1.6831676]\n",
            " [-1.6735412]\n",
            " [-1.4771405]\n",
            " [ 1.5869355]\n",
            " [-1.4755644]\n",
            " [ 1.5644236]\n",
            " [-1.6169455]\n",
            " [ 1.5725824]\n",
            " [ 1.6052166]\n",
            " [ 1.7910981]\n",
            " [-1.7574975]\n",
            " [ 1.7222457]\n",
            " [-1.5682372]\n",
            " [ 1.5823889]\n",
            " [ 1.7054965]\n",
            " [-1.6359031]\n",
            " [ 1.6715397]\n",
            " [ 1.4426079]\n",
            " [ 1.7322103]\n",
            " [-1.5083116]\n",
            " [-1.54765  ]\n",
            " [ 1.5719664]\n",
            " [ 1.5329814]\n",
            " [-1.7015715]\n",
            " [-1.723402 ]\n",
            " [-1.604471 ]\n",
            " [ 1.5403978]\n",
            " [ 1.7303153]\n",
            " [ 1.64104  ]\n",
            " [ 1.7509077]\n",
            " [-1.7756766]\n",
            " [ 1.7079346]\n",
            " [ 1.7479428]\n",
            " [-1.6102746]\n",
            " [ 1.7467225]\n",
            " [ 1.7052697]\n",
            " [ 1.4993116]\n",
            " [ 1.6847951]\n",
            " [-1.7280325]\n",
            " [-1.7389988]\n",
            " [ 1.6532577]\n",
            " [ 1.5545632]\n",
            " [ 1.4800053]\n",
            " [-1.6954486]\n",
            " [ 1.6171207]\n",
            " [ 1.5969646]\n",
            " [-1.6241883]\n",
            " [ 1.6799093]]\n",
            "Biases of output layer: [0.9884354]\n"
          ]
        }
      ]
    },
    {
      "cell_type": "code",
      "source": [
        "y_preds = model.predict(X_test)"
      ],
      "metadata": {
        "colab": {
          "base_uri": "https://localhost:8080/"
        },
        "id": "O2pLYmQ1S_et",
        "outputId": "b85311cd-3d1a-40a8-9437-3fea7fe4a3ed"
      },
      "execution_count": 83,
      "outputs": [
        {
          "output_type": "stream",
          "name": "stdout",
          "text": [
            "1/1 [==============================] - 0s 33ms/step\n"
          ]
        }
      ]
    },
    {
      "cell_type": "code",
      "source": [
        "from sklearn.metrics import f1_score\n",
        "f1_score(y_test,y_preds)"
      ],
      "metadata": {
        "colab": {
          "base_uri": "https://localhost:8080/"
        },
        "id": "V5Qk5ua1RPVb",
        "outputId": "cdbdb131-4785-48c8-cf5f-cd617b446f24"
      },
      "execution_count": 84,
      "outputs": [
        {
          "output_type": "execute_result",
          "data": {
            "text/plain": [
              "0.7499999999999999"
            ]
          },
          "metadata": {},
          "execution_count": 84
        }
      ]
    },
    {
      "cell_type": "code",
      "source": [
        "from sklearn.metrics import classification_report\n",
        "print(classification_report(y_test,y_preds))"
      ],
      "metadata": {
        "colab": {
          "base_uri": "https://localhost:8080/"
        },
        "id": "2CSgLIWcR-rI",
        "outputId": "84bdc6eb-828f-4511-f3fc-29f8e0741a2b"
      },
      "execution_count": 85,
      "outputs": [
        {
          "output_type": "stream",
          "name": "stdout",
          "text": [
            "              precision    recall  f1-score   support\n",
            "\n",
            "           1       0.60      1.00      0.75        12\n",
            "           2       0.00      0.00      0.00         8\n",
            "\n",
            "    accuracy                           0.60        20\n",
            "   macro avg       0.30      0.50      0.37        20\n",
            "weighted avg       0.36      0.60      0.45        20\n",
            "\n"
          ]
        },
        {
          "output_type": "stream",
          "name": "stderr",
          "text": [
            "/usr/local/lib/python3.10/dist-packages/sklearn/metrics/_classification.py:1344: UndefinedMetricWarning: Precision and F-score are ill-defined and being set to 0.0 in labels with no predicted samples. Use `zero_division` parameter to control this behavior.\n",
            "  _warn_prf(average, modifier, msg_start, len(result))\n",
            "/usr/local/lib/python3.10/dist-packages/sklearn/metrics/_classification.py:1344: UndefinedMetricWarning: Precision and F-score are ill-defined and being set to 0.0 in labels with no predicted samples. Use `zero_division` parameter to control this behavior.\n",
            "  _warn_prf(average, modifier, msg_start, len(result))\n",
            "/usr/local/lib/python3.10/dist-packages/sklearn/metrics/_classification.py:1344: UndefinedMetricWarning: Precision and F-score are ill-defined and being set to 0.0 in labels with no predicted samples. Use `zero_division` parameter to control this behavior.\n",
            "  _warn_prf(average, modifier, msg_start, len(result))\n"
          ]
        }
      ]
    },
    {
      "cell_type": "code",
      "source": [
        "from sklearn.metrics import accuracy_score\n",
        "accuracy_score(y_test,y_preds)"
      ],
      "metadata": {
        "colab": {
          "base_uri": "https://localhost:8080/"
        },
        "id": "8w1le9bjTLDi",
        "outputId": "8777366e-bb5c-4edc-b27e-2b97ea02bb65"
      },
      "execution_count": 86,
      "outputs": [
        {
          "output_type": "execute_result",
          "data": {
            "text/plain": [
              "0.6"
            ]
          },
          "metadata": {},
          "execution_count": 86
        }
      ]
    },
    {
      "cell_type": "code",
      "source": [],
      "metadata": {
        "id": "PjA3p-knTceW"
      },
      "execution_count": null,
      "outputs": []
    }
  ]
}