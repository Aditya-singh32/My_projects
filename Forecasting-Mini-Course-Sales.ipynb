{
 "cells": [
  {
   "cell_type": "markdown",
   "id": "f2354c37",
   "metadata": {},
   "source": [
    "# Forecasting Mini-Course Sales"
   ]
  },
  {
   "cell_type": "code",
   "execution_count": 69,
   "id": "238d30c2",
   "metadata": {},
   "outputs": [],
   "source": [
    "import numpy as np\n",
    "import pandas as pd \n",
    "import matplotlib.pyplot as plt\n",
    "%matplotlib inline\n",
    "\n",
    "from sklearn.ensemble import RandomForestRegressor\n",
    "from sklearn.model_selection import train_test_split\n",
    "\n",
    "def smape(actual: np.ndarray, predicted: np.ndarray):\n",
    "    return 100/len(actual) * np.sum(2 * np.abs(predicted - actual) / (np.abs(actual) + np.abs(predicted)))\n",
    "\n",
    "def preprocessing_data(df):\n",
    "    df[\"sale_day\"] = df[\"date\"].dt.day\n",
    "    df[\"sale_month\"] = df[\"date\"].dt.month\n",
    "    df[\"sale_year\"] = df[\"date\"].dt.year\n",
    "    df[\"weekday\"] = df[\"date\"].dt.weekday\n",
    "    df[\"quater\"] = df[\"date\"].dt.quarter\n",
    "    df[\"day_sin\"] = np.sin(df[\"sale_day\"])\n",
    "    df[\"day_cos\"] = np.cos(df[\"sale_day\"])\n",
    "    df[\"month_sin\"] = np.sin(df[\"sale_month\"])\n",
    "    df[\"month_cos\"] = np.cos(df[\"sale_month\"])\n",
    "    df[\"year_sin\"] = np.sin(df[\"sale_year\"])\n",
    "    df[\"year_cos\"] = np.cos(df[\"sale_year\"])\n",
    "    \n",
    "    from datetime import date\n",
    "    import holidays\n",
    "    \n",
    "    df[\"holidays\"] = pd.Series(df.index).apply(lambda x: holidays.CountryHoliday(df.country[x]).get(x)).values\n",
    "    \n",
    "    for label, content in df.items():\n",
    "        if pd.api.types.is_string_dtype(content):\n",
    "            df[label] = content.astype(\"category\").cat.as_ordered()\n",
    "        \n",
    "    for label, content in df.items():\n",
    "        if not pd.api.types.is_numeric_dtype(content):\n",
    "            df[label] = pd.Categorical(content).codes\n",
    "        \n",
    "    df.drop(\"id\",axis=1,inplace=True)\n",
    "    \n",
    "    return df"
   ]
  },
  {
   "cell_type": "code",
   "execution_count": 4,
   "id": "8491d227",
   "metadata": {},
   "outputs": [],
   "source": [
    "train = pd.read_csv(\"playground-series-s3e19/train.csv\", parse_dates=[\"date\"])"
   ]
  },
  {
   "cell_type": "code",
   "execution_count": 5,
   "id": "ec466278",
   "metadata": {},
   "outputs": [],
   "source": [
    "test = pd.read_csv(\"playground-series-s3e19/test.csv\", parse_dates=[\"date\"])"
   ]
  },
  {
   "cell_type": "code",
   "execution_count": 7,
   "id": "38774a2e",
   "metadata": {},
   "outputs": [],
   "source": [
    "train = preprocessing_data(train)\n",
    "test = preprocessing_data(test)"
   ]
  },
  {
   "cell_type": "code",
   "execution_count": 75,
   "id": "cfe8d9e0",
   "metadata": {},
   "outputs": [
    {
     "data": {
      "text/plain": [
       "array([ 1,  0, -1], dtype=int8)"
      ]
     },
     "execution_count": 75,
     "metadata": {},
     "output_type": "execute_result"
    }
   ],
   "source": [
    "train.holidays.unique()"
   ]
  },
  {
   "cell_type": "code",
   "execution_count": 10,
   "id": "bf4d4bfe",
   "metadata": {},
   "outputs": [],
   "source": [
    "X = train.drop([\"date\",\"num_sold\"],axis=1)\n",
    "y = train[\"num_sold\"]\n",
    "\n",
    "X_train, X_test, y_train, y_test = train_test_split(X,y,test_size=.2,random_state=42)\n",
    "\n",
    "model = RandomForestRegressor(random_state=42,n_jobs=-1)\n",
    "model.fit(X_train,y_train)\n",
    "score = model.score(X_test,y_test)\n",
    "\n",
    "y_preds = model.predict(X_test)\n",
    "\n",
    "smape = smape(y_test,y_preds)"
   ]
  },
  {
   "cell_type": "code",
   "execution_count": 11,
   "id": "f0f32121",
   "metadata": {},
   "outputs": [
    {
     "data": {
      "text/plain": [
       "0.9911361875570697"
      ]
     },
     "execution_count": 11,
     "metadata": {},
     "output_type": "execute_result"
    }
   ],
   "source": [
    "score"
   ]
  },
  {
   "cell_type": "code",
   "execution_count": 12,
   "id": "f850bc90",
   "metadata": {},
   "outputs": [
    {
     "data": {
      "text/plain": [
       "5.491742856034473"
      ]
     },
     "execution_count": 12,
     "metadata": {},
     "output_type": "execute_result"
    }
   ],
   "source": [
    "smape"
   ]
  },
  {
   "cell_type": "code",
   "execution_count": 14,
   "id": "390136dd",
   "metadata": {},
   "outputs": [],
   "source": [
    "y_preds_test = model.predict(test.drop([\"date\"],axis=1))"
   ]
  },
  {
   "cell_type": "code",
   "execution_count": 19,
   "id": "6cf4033a",
   "metadata": {},
   "outputs": [
    {
     "data": {
      "text/plain": [
       "array([ 32.83,  33.8 ,   4.91, ..., 112.49, 671.37, 538.14])"
      ]
     },
     "execution_count": 19,
     "metadata": {},
     "output_type": "execute_result"
    }
   ],
   "source": [
    "y_preds_test"
   ]
  },
  {
   "cell_type": "code",
   "execution_count": 20,
   "id": "8f4533f5",
   "metadata": {},
   "outputs": [
    {
     "data": {
      "text/html": [
       "<div>\n",
       "<style scoped>\n",
       "    .dataframe tbody tr th:only-of-type {\n",
       "        vertical-align: middle;\n",
       "    }\n",
       "\n",
       "    .dataframe tbody tr th {\n",
       "        vertical-align: top;\n",
       "    }\n",
       "\n",
       "    .dataframe thead th {\n",
       "        text-align: right;\n",
       "    }\n",
       "</style>\n",
       "<table border=\"1\" class=\"dataframe\">\n",
       "  <thead>\n",
       "    <tr style=\"text-align: right;\">\n",
       "      <th></th>\n",
       "      <th>id</th>\n",
       "      <th>num_sold</th>\n",
       "    </tr>\n",
       "  </thead>\n",
       "  <tbody>\n",
       "    <tr>\n",
       "      <th>0</th>\n",
       "      <td>136950</td>\n",
       "      <td>32.83</td>\n",
       "    </tr>\n",
       "    <tr>\n",
       "      <th>1</th>\n",
       "      <td>136951</td>\n",
       "      <td>33.80</td>\n",
       "    </tr>\n",
       "    <tr>\n",
       "      <th>2</th>\n",
       "      <td>136952</td>\n",
       "      <td>4.91</td>\n",
       "    </tr>\n",
       "    <tr>\n",
       "      <th>3</th>\n",
       "      <td>136953</td>\n",
       "      <td>32.41</td>\n",
       "    </tr>\n",
       "    <tr>\n",
       "      <th>4</th>\n",
       "      <td>136954</td>\n",
       "      <td>29.70</td>\n",
       "    </tr>\n",
       "    <tr>\n",
       "      <th>...</th>\n",
       "      <td>...</td>\n",
       "      <td>...</td>\n",
       "    </tr>\n",
       "    <tr>\n",
       "      <th>27370</th>\n",
       "      <td>164320</td>\n",
       "      <td>678.09</td>\n",
       "    </tr>\n",
       "    <tr>\n",
       "      <th>27371</th>\n",
       "      <td>164321</td>\n",
       "      <td>706.32</td>\n",
       "    </tr>\n",
       "    <tr>\n",
       "      <th>27372</th>\n",
       "      <td>164322</td>\n",
       "      <td>112.49</td>\n",
       "    </tr>\n",
       "    <tr>\n",
       "      <th>27373</th>\n",
       "      <td>164323</td>\n",
       "      <td>671.37</td>\n",
       "    </tr>\n",
       "    <tr>\n",
       "      <th>27374</th>\n",
       "      <td>164324</td>\n",
       "      <td>538.14</td>\n",
       "    </tr>\n",
       "  </tbody>\n",
       "</table>\n",
       "<p>27375 rows × 2 columns</p>\n",
       "</div>"
      ],
      "text/plain": [
       "           id  num_sold\n",
       "0      136950     32.83\n",
       "1      136951     33.80\n",
       "2      136952      4.91\n",
       "3      136953     32.41\n",
       "4      136954     29.70\n",
       "...       ...       ...\n",
       "27370  164320    678.09\n",
       "27371  164321    706.32\n",
       "27372  164322    112.49\n",
       "27373  164323    671.37\n",
       "27374  164324    538.14\n",
       "\n",
       "[27375 rows x 2 columns]"
      ]
     },
     "execution_count": 20,
     "metadata": {},
     "output_type": "execute_result"
    }
   ],
   "source": [
    "results = pd.DataFrame()\n",
    "df_s = pd.read_csv(\"playground-series-s3e19/sample_submission.csv\")\n",
    "results[\"id\"] = df_s[\"id\"]\n",
    "results[\"num_sold\"] = y_preds_test\n",
    "results"
   ]
  },
  {
   "cell_type": "code",
   "execution_count": 22,
   "id": "42bb0859",
   "metadata": {},
   "outputs": [],
   "source": [
    "results.to_csv(\"playground-series-s3e19/results\",index=False)"
   ]
  },
  {
   "cell_type": "code",
   "execution_count": 44,
   "id": "c3594b67",
   "metadata": {},
   "outputs": [],
   "source": [
    "rf_grid = {\"n_estimators\":np.arange(10,100,10),\n",
    "          \"max_depth\":[None, 3, 5, 10],\n",
    "          \"min_samples_split\":np.arange(2,20,2),\n",
    "          \"min_samples_leaf\":np.arange(1,20,2),\n",
    "          \"max_features\":[.5,1,\"sqrt\",\"auto\"]}\n",
    "\n",
    "from sklearn.model_selection import RandomizedSearchCV\n",
    "\n",
    "rf_rs = RandomizedSearchCV(model,rf_grid,cv=5,verbose=2,n_iter=100,random_state=42, n_jobs=-1)"
   ]
  },
  {
   "cell_type": "code",
   "execution_count": 45,
   "id": "a9d11809",
   "metadata": {},
   "outputs": [
    {
     "name": "stdout",
     "output_type": "stream",
     "text": [
      "Fitting 5 folds for each of 100 candidates, totalling 500 fits\n"
     ]
    },
    {
     "name": "stderr",
     "output_type": "stream",
     "text": [
      "/Users/adityasingh/Desktop/bulldozer-price-prediction-project/env/lib/python3.11/site-packages/sklearn/ensemble/_forest.py:413: FutureWarning: `max_features='auto'` has been deprecated in 1.1 and will be removed in 1.3. To keep the past behaviour, explicitly set `max_features=1.0` or remove this parameter as it is also the default value for RandomForestRegressors and ExtraTreesRegressors.\n",
      "  warn(\n",
      "/Users/adityasingh/Desktop/bulldozer-price-prediction-project/env/lib/python3.11/site-packages/sklearn/ensemble/_forest.py:413: FutureWarning: `max_features='auto'` has been deprecated in 1.1 and will be removed in 1.3. To keep the past behaviour, explicitly set `max_features=1.0` or remove this parameter as it is also the default value for RandomForestRegressors and ExtraTreesRegressors.\n",
      "  warn(\n",
      "/Users/adityasingh/Desktop/bulldozer-price-prediction-project/env/lib/python3.11/site-packages/sklearn/ensemble/_forest.py:413: FutureWarning: `max_features='auto'` has been deprecated in 1.1 and will be removed in 1.3. To keep the past behaviour, explicitly set `max_features=1.0` or remove this parameter as it is also the default value for RandomForestRegressors and ExtraTreesRegressors.\n",
      "  warn(\n",
      "/Users/adityasingh/Desktop/bulldozer-price-prediction-project/env/lib/python3.11/site-packages/sklearn/ensemble/_forest.py:413: FutureWarning: `max_features='auto'` has been deprecated in 1.1 and will be removed in 1.3. To keep the past behaviour, explicitly set `max_features=1.0` or remove this parameter as it is also the default value for RandomForestRegressors and ExtraTreesRegressors.\n",
      "  warn(\n",
      "/Users/adityasingh/Desktop/bulldozer-price-prediction-project/env/lib/python3.11/site-packages/sklearn/ensemble/_forest.py:413: FutureWarning: `max_features='auto'` has been deprecated in 1.1 and will be removed in 1.3. To keep the past behaviour, explicitly set `max_features=1.0` or remove this parameter as it is also the default value for RandomForestRegressors and ExtraTreesRegressors.\n",
      "  warn(\n",
      "/Users/adityasingh/Desktop/bulldozer-price-prediction-project/env/lib/python3.11/site-packages/sklearn/ensemble/_forest.py:413: FutureWarning: `max_features='auto'` has been deprecated in 1.1 and will be removed in 1.3. To keep the past behaviour, explicitly set `max_features=1.0` or remove this parameter as it is also the default value for RandomForestRegressors and ExtraTreesRegressors.\n",
      "  warn(\n",
      "/Users/adityasingh/Desktop/bulldozer-price-prediction-project/env/lib/python3.11/site-packages/sklearn/ensemble/_forest.py:413: FutureWarning: `max_features='auto'` has been deprecated in 1.1 and will be removed in 1.3. To keep the past behaviour, explicitly set `max_features=1.0` or remove this parameter as it is also the default value for RandomForestRegressors and ExtraTreesRegressors.\n",
      "  warn(\n",
      "/Users/adityasingh/Desktop/bulldozer-price-prediction-project/env/lib/python3.11/site-packages/sklearn/ensemble/_forest.py:413: FutureWarning: `max_features='auto'` has been deprecated in 1.1 and will be removed in 1.3. To keep the past behaviour, explicitly set `max_features=1.0` or remove this parameter as it is also the default value for RandomForestRegressors and ExtraTreesRegressors.\n",
      "  warn(\n",
      "/Users/adityasingh/Desktop/bulldozer-price-prediction-project/env/lib/python3.11/site-packages/sklearn/ensemble/_forest.py:413: FutureWarning: `max_features='auto'` has been deprecated in 1.1 and will be removed in 1.3. To keep the past behaviour, explicitly set `max_features=1.0` or remove this parameter as it is also the default value for RandomForestRegressors and ExtraTreesRegressors.\n",
      "  warn(\n",
      "/Users/adityasingh/Desktop/bulldozer-price-prediction-project/env/lib/python3.11/site-packages/sklearn/ensemble/_forest.py:413: FutureWarning: `max_features='auto'` has been deprecated in 1.1 and will be removed in 1.3. To keep the past behaviour, explicitly set `max_features=1.0` or remove this parameter as it is also the default value for RandomForestRegressors and ExtraTreesRegressors.\n",
      "  warn(\n",
      "/Users/adityasingh/Desktop/bulldozer-price-prediction-project/env/lib/python3.11/site-packages/sklearn/ensemble/_forest.py:413: FutureWarning: `max_features='auto'` has been deprecated in 1.1 and will be removed in 1.3. To keep the past behaviour, explicitly set `max_features=1.0` or remove this parameter as it is also the default value for RandomForestRegressors and ExtraTreesRegressors.\n",
      "  warn(\n",
      "/Users/adityasingh/Desktop/bulldozer-price-prediction-project/env/lib/python3.11/site-packages/sklearn/ensemble/_forest.py:413: FutureWarning: `max_features='auto'` has been deprecated in 1.1 and will be removed in 1.3. To keep the past behaviour, explicitly set `max_features=1.0` or remove this parameter as it is also the default value for RandomForestRegressors and ExtraTreesRegressors.\n",
      "  warn(\n",
      "/Users/adityasingh/Desktop/bulldozer-price-prediction-project/env/lib/python3.11/site-packages/sklearn/ensemble/_forest.py:413: FutureWarning: `max_features='auto'` has been deprecated in 1.1 and will be removed in 1.3. To keep the past behaviour, explicitly set `max_features=1.0` or remove this parameter as it is also the default value for RandomForestRegressors and ExtraTreesRegressors.\n",
      "  warn(\n",
      "/Users/adityasingh/Desktop/bulldozer-price-prediction-project/env/lib/python3.11/site-packages/sklearn/ensemble/_forest.py:413: FutureWarning: `max_features='auto'` has been deprecated in 1.1 and will be removed in 1.3. To keep the past behaviour, explicitly set `max_features=1.0` or remove this parameter as it is also the default value for RandomForestRegressors and ExtraTreesRegressors.\n",
      "  warn(\n",
      "/Users/adityasingh/Desktop/bulldozer-price-prediction-project/env/lib/python3.11/site-packages/sklearn/ensemble/_forest.py:413: FutureWarning: `max_features='auto'` has been deprecated in 1.1 and will be removed in 1.3. To keep the past behaviour, explicitly set `max_features=1.0` or remove this parameter as it is also the default value for RandomForestRegressors and ExtraTreesRegressors.\n",
      "  warn(\n",
      "/Users/adityasingh/Desktop/bulldozer-price-prediction-project/env/lib/python3.11/site-packages/sklearn/ensemble/_forest.py:413: FutureWarning: `max_features='auto'` has been deprecated in 1.1 and will be removed in 1.3. To keep the past behaviour, explicitly set `max_features=1.0` or remove this parameter as it is also the default value for RandomForestRegressors and ExtraTreesRegressors.\n",
      "  warn(\n",
      "/Users/adityasingh/Desktop/bulldozer-price-prediction-project/env/lib/python3.11/site-packages/sklearn/ensemble/_forest.py:413: FutureWarning: `max_features='auto'` has been deprecated in 1.1 and will be removed in 1.3. To keep the past behaviour, explicitly set `max_features=1.0` or remove this parameter as it is also the default value for RandomForestRegressors and ExtraTreesRegressors.\n",
      "  warn(\n",
      "/Users/adityasingh/Desktop/bulldozer-price-prediction-project/env/lib/python3.11/site-packages/sklearn/ensemble/_forest.py:413: FutureWarning: `max_features='auto'` has been deprecated in 1.1 and will be removed in 1.3. To keep the past behaviour, explicitly set `max_features=1.0` or remove this parameter as it is also the default value for RandomForestRegressors and ExtraTreesRegressors.\n",
      "  warn(\n",
      "/Users/adityasingh/Desktop/bulldozer-price-prediction-project/env/lib/python3.11/site-packages/sklearn/ensemble/_forest.py:413: FutureWarning: `max_features='auto'` has been deprecated in 1.1 and will be removed in 1.3. To keep the past behaviour, explicitly set `max_features=1.0` or remove this parameter as it is also the default value for RandomForestRegressors and ExtraTreesRegressors.\n",
      "  warn(\n",
      "/Users/adityasingh/Desktop/bulldozer-price-prediction-project/env/lib/python3.11/site-packages/sklearn/ensemble/_forest.py:413: FutureWarning: `max_features='auto'` has been deprecated in 1.1 and will be removed in 1.3. To keep the past behaviour, explicitly set `max_features=1.0` or remove this parameter as it is also the default value for RandomForestRegressors and ExtraTreesRegressors.\n",
      "  warn(\n",
      "/Users/adityasingh/Desktop/bulldozer-price-prediction-project/env/lib/python3.11/site-packages/sklearn/ensemble/_forest.py:413: FutureWarning: `max_features='auto'` has been deprecated in 1.1 and will be removed in 1.3. To keep the past behaviour, explicitly set `max_features=1.0` or remove this parameter as it is also the default value for RandomForestRegressors and ExtraTreesRegressors.\n",
      "  warn(\n"
     ]
    },
    {
     "name": "stderr",
     "output_type": "stream",
     "text": [
      "/Users/adityasingh/Desktop/bulldozer-price-prediction-project/env/lib/python3.11/site-packages/sklearn/ensemble/_forest.py:413: FutureWarning: `max_features='auto'` has been deprecated in 1.1 and will be removed in 1.3. To keep the past behaviour, explicitly set `max_features=1.0` or remove this parameter as it is also the default value for RandomForestRegressors and ExtraTreesRegressors.\n",
      "  warn(\n",
      "/Users/adityasingh/Desktop/bulldozer-price-prediction-project/env/lib/python3.11/site-packages/sklearn/ensemble/_forest.py:413: FutureWarning: `max_features='auto'` has been deprecated in 1.1 and will be removed in 1.3. To keep the past behaviour, explicitly set `max_features=1.0` or remove this parameter as it is also the default value for RandomForestRegressors and ExtraTreesRegressors.\n",
      "  warn(\n",
      "/Users/adityasingh/Desktop/bulldozer-price-prediction-project/env/lib/python3.11/site-packages/sklearn/ensemble/_forest.py:413: FutureWarning: `max_features='auto'` has been deprecated in 1.1 and will be removed in 1.3. To keep the past behaviour, explicitly set `max_features=1.0` or remove this parameter as it is also the default value for RandomForestRegressors and ExtraTreesRegressors.\n",
      "  warn(\n",
      "/Users/adityasingh/Desktop/bulldozer-price-prediction-project/env/lib/python3.11/site-packages/sklearn/ensemble/_forest.py:413: FutureWarning: `max_features='auto'` has been deprecated in 1.1 and will be removed in 1.3. To keep the past behaviour, explicitly set `max_features=1.0` or remove this parameter as it is also the default value for RandomForestRegressors and ExtraTreesRegressors.\n",
      "  warn(\n",
      "/Users/adityasingh/Desktop/bulldozer-price-prediction-project/env/lib/python3.11/site-packages/sklearn/ensemble/_forest.py:413: FutureWarning: `max_features='auto'` has been deprecated in 1.1 and will be removed in 1.3. To keep the past behaviour, explicitly set `max_features=1.0` or remove this parameter as it is also the default value for RandomForestRegressors and ExtraTreesRegressors.\n",
      "  warn(\n",
      "/Users/adityasingh/Desktop/bulldozer-price-prediction-project/env/lib/python3.11/site-packages/sklearn/ensemble/_forest.py:413: FutureWarning: `max_features='auto'` has been deprecated in 1.1 and will be removed in 1.3. To keep the past behaviour, explicitly set `max_features=1.0` or remove this parameter as it is also the default value for RandomForestRegressors and ExtraTreesRegressors.\n",
      "  warn(\n",
      "/Users/adityasingh/Desktop/bulldozer-price-prediction-project/env/lib/python3.11/site-packages/sklearn/ensemble/_forest.py:413: FutureWarning: `max_features='auto'` has been deprecated in 1.1 and will be removed in 1.3. To keep the past behaviour, explicitly set `max_features=1.0` or remove this parameter as it is also the default value for RandomForestRegressors and ExtraTreesRegressors.\n",
      "  warn(\n",
      "/Users/adityasingh/Desktop/bulldozer-price-prediction-project/env/lib/python3.11/site-packages/sklearn/ensemble/_forest.py:413: FutureWarning: `max_features='auto'` has been deprecated in 1.1 and will be removed in 1.3. To keep the past behaviour, explicitly set `max_features=1.0` or remove this parameter as it is also the default value for RandomForestRegressors and ExtraTreesRegressors.\n",
      "  warn(\n",
      "/Users/adityasingh/Desktop/bulldozer-price-prediction-project/env/lib/python3.11/site-packages/sklearn/ensemble/_forest.py:413: FutureWarning: `max_features='auto'` has been deprecated in 1.1 and will be removed in 1.3. To keep the past behaviour, explicitly set `max_features=1.0` or remove this parameter as it is also the default value for RandomForestRegressors and ExtraTreesRegressors.\n",
      "  warn(\n",
      "/Users/adityasingh/Desktop/bulldozer-price-prediction-project/env/lib/python3.11/site-packages/sklearn/ensemble/_forest.py:413: FutureWarning: `max_features='auto'` has been deprecated in 1.1 and will be removed in 1.3. To keep the past behaviour, explicitly set `max_features=1.0` or remove this parameter as it is also the default value for RandomForestRegressors and ExtraTreesRegressors.\n",
      "  warn(\n",
      "/Users/adityasingh/Desktop/bulldozer-price-prediction-project/env/lib/python3.11/site-packages/sklearn/ensemble/_forest.py:413: FutureWarning: `max_features='auto'` has been deprecated in 1.1 and will be removed in 1.3. To keep the past behaviour, explicitly set `max_features=1.0` or remove this parameter as it is also the default value for RandomForestRegressors and ExtraTreesRegressors.\n",
      "  warn(\n",
      "/Users/adityasingh/Desktop/bulldozer-price-prediction-project/env/lib/python3.11/site-packages/sklearn/ensemble/_forest.py:413: FutureWarning: `max_features='auto'` has been deprecated in 1.1 and will be removed in 1.3. To keep the past behaviour, explicitly set `max_features=1.0` or remove this parameter as it is also the default value for RandomForestRegressors and ExtraTreesRegressors.\n",
      "  warn(\n",
      "/Users/adityasingh/Desktop/bulldozer-price-prediction-project/env/lib/python3.11/site-packages/sklearn/ensemble/_forest.py:413: FutureWarning: `max_features='auto'` has been deprecated in 1.1 and will be removed in 1.3. To keep the past behaviour, explicitly set `max_features=1.0` or remove this parameter as it is also the default value for RandomForestRegressors and ExtraTreesRegressors.\n",
      "  warn(\n",
      "/Users/adityasingh/Desktop/bulldozer-price-prediction-project/env/lib/python3.11/site-packages/sklearn/ensemble/_forest.py:413: FutureWarning: `max_features='auto'` has been deprecated in 1.1 and will be removed in 1.3. To keep the past behaviour, explicitly set `max_features=1.0` or remove this parameter as it is also the default value for RandomForestRegressors and ExtraTreesRegressors.\n",
      "  warn(\n",
      "/Users/adityasingh/Desktop/bulldozer-price-prediction-project/env/lib/python3.11/site-packages/sklearn/ensemble/_forest.py:413: FutureWarning: `max_features='auto'` has been deprecated in 1.1 and will be removed in 1.3. To keep the past behaviour, explicitly set `max_features=1.0` or remove this parameter as it is also the default value for RandomForestRegressors and ExtraTreesRegressors.\n",
      "  warn(\n",
      "/Users/adityasingh/Desktop/bulldozer-price-prediction-project/env/lib/python3.11/site-packages/sklearn/ensemble/_forest.py:413: FutureWarning: `max_features='auto'` has been deprecated in 1.1 and will be removed in 1.3. To keep the past behaviour, explicitly set `max_features=1.0` or remove this parameter as it is also the default value for RandomForestRegressors and ExtraTreesRegressors.\n",
      "  warn(\n",
      "/Users/adityasingh/Desktop/bulldozer-price-prediction-project/env/lib/python3.11/site-packages/sklearn/ensemble/_forest.py:413: FutureWarning: `max_features='auto'` has been deprecated in 1.1 and will be removed in 1.3. To keep the past behaviour, explicitly set `max_features=1.0` or remove this parameter as it is also the default value for RandomForestRegressors and ExtraTreesRegressors.\n",
      "  warn(\n",
      "/Users/adityasingh/Desktop/bulldozer-price-prediction-project/env/lib/python3.11/site-packages/sklearn/ensemble/_forest.py:413: FutureWarning: `max_features='auto'` has been deprecated in 1.1 and will be removed in 1.3. To keep the past behaviour, explicitly set `max_features=1.0` or remove this parameter as it is also the default value for RandomForestRegressors and ExtraTreesRegressors.\n",
      "  warn(\n",
      "/Users/adityasingh/Desktop/bulldozer-price-prediction-project/env/lib/python3.11/site-packages/sklearn/ensemble/_forest.py:413: FutureWarning: `max_features='auto'` has been deprecated in 1.1 and will be removed in 1.3. To keep the past behaviour, explicitly set `max_features=1.0` or remove this parameter as it is also the default value for RandomForestRegressors and ExtraTreesRegressors.\n",
      "  warn(\n",
      "/Users/adityasingh/Desktop/bulldozer-price-prediction-project/env/lib/python3.11/site-packages/sklearn/ensemble/_forest.py:413: FutureWarning: `max_features='auto'` has been deprecated in 1.1 and will be removed in 1.3. To keep the past behaviour, explicitly set `max_features=1.0` or remove this parameter as it is also the default value for RandomForestRegressors and ExtraTreesRegressors.\n",
      "  warn(\n",
      "/Users/adityasingh/Desktop/bulldozer-price-prediction-project/env/lib/python3.11/site-packages/sklearn/ensemble/_forest.py:413: FutureWarning: `max_features='auto'` has been deprecated in 1.1 and will be removed in 1.3. To keep the past behaviour, explicitly set `max_features=1.0` or remove this parameter as it is also the default value for RandomForestRegressors and ExtraTreesRegressors.\n",
      "  warn(\n",
      "/Users/adityasingh/Desktop/bulldozer-price-prediction-project/env/lib/python3.11/site-packages/sklearn/ensemble/_forest.py:413: FutureWarning: `max_features='auto'` has been deprecated in 1.1 and will be removed in 1.3. To keep the past behaviour, explicitly set `max_features=1.0` or remove this parameter as it is also the default value for RandomForestRegressors and ExtraTreesRegressors.\n",
      "  warn(\n"
     ]
    },
    {
     "name": "stderr",
     "output_type": "stream",
     "text": [
      "/Users/adityasingh/Desktop/bulldozer-price-prediction-project/env/lib/python3.11/site-packages/sklearn/ensemble/_forest.py:413: FutureWarning: `max_features='auto'` has been deprecated in 1.1 and will be removed in 1.3. To keep the past behaviour, explicitly set `max_features=1.0` or remove this parameter as it is also the default value for RandomForestRegressors and ExtraTreesRegressors.\n",
      "  warn(\n",
      "/Users/adityasingh/Desktop/bulldozer-price-prediction-project/env/lib/python3.11/site-packages/sklearn/ensemble/_forest.py:413: FutureWarning: `max_features='auto'` has been deprecated in 1.1 and will be removed in 1.3. To keep the past behaviour, explicitly set `max_features=1.0` or remove this parameter as it is also the default value for RandomForestRegressors and ExtraTreesRegressors.\n",
      "  warn(\n",
      "/Users/adityasingh/Desktop/bulldozer-price-prediction-project/env/lib/python3.11/site-packages/sklearn/ensemble/_forest.py:413: FutureWarning: `max_features='auto'` has been deprecated in 1.1 and will be removed in 1.3. To keep the past behaviour, explicitly set `max_features=1.0` or remove this parameter as it is also the default value for RandomForestRegressors and ExtraTreesRegressors.\n",
      "  warn(\n",
      "/Users/adityasingh/Desktop/bulldozer-price-prediction-project/env/lib/python3.11/site-packages/sklearn/ensemble/_forest.py:413: FutureWarning: `max_features='auto'` has been deprecated in 1.1 and will be removed in 1.3. To keep the past behaviour, explicitly set `max_features=1.0` or remove this parameter as it is also the default value for RandomForestRegressors and ExtraTreesRegressors.\n",
      "  warn(\n",
      "/Users/adityasingh/Desktop/bulldozer-price-prediction-project/env/lib/python3.11/site-packages/sklearn/ensemble/_forest.py:413: FutureWarning: `max_features='auto'` has been deprecated in 1.1 and will be removed in 1.3. To keep the past behaviour, explicitly set `max_features=1.0` or remove this parameter as it is also the default value for RandomForestRegressors and ExtraTreesRegressors.\n",
      "  warn(\n",
      "/Users/adityasingh/Desktop/bulldozer-price-prediction-project/env/lib/python3.11/site-packages/sklearn/ensemble/_forest.py:413: FutureWarning: `max_features='auto'` has been deprecated in 1.1 and will be removed in 1.3. To keep the past behaviour, explicitly set `max_features=1.0` or remove this parameter as it is also the default value for RandomForestRegressors and ExtraTreesRegressors.\n",
      "  warn(\n",
      "/Users/adityasingh/Desktop/bulldozer-price-prediction-project/env/lib/python3.11/site-packages/sklearn/ensemble/_forest.py:413: FutureWarning: `max_features='auto'` has been deprecated in 1.1 and will be removed in 1.3. To keep the past behaviour, explicitly set `max_features=1.0` or remove this parameter as it is also the default value for RandomForestRegressors and ExtraTreesRegressors.\n",
      "  warn(\n",
      "/Users/adityasingh/Desktop/bulldozer-price-prediction-project/env/lib/python3.11/site-packages/sklearn/ensemble/_forest.py:413: FutureWarning: `max_features='auto'` has been deprecated in 1.1 and will be removed in 1.3. To keep the past behaviour, explicitly set `max_features=1.0` or remove this parameter as it is also the default value for RandomForestRegressors and ExtraTreesRegressors.\n",
      "  warn(\n",
      "/Users/adityasingh/Desktop/bulldozer-price-prediction-project/env/lib/python3.11/site-packages/sklearn/ensemble/_forest.py:413: FutureWarning: `max_features='auto'` has been deprecated in 1.1 and will be removed in 1.3. To keep the past behaviour, explicitly set `max_features=1.0` or remove this parameter as it is also the default value for RandomForestRegressors and ExtraTreesRegressors.\n",
      "  warn(\n",
      "/Users/adityasingh/Desktop/bulldozer-price-prediction-project/env/lib/python3.11/site-packages/sklearn/ensemble/_forest.py:413: FutureWarning: `max_features='auto'` has been deprecated in 1.1 and will be removed in 1.3. To keep the past behaviour, explicitly set `max_features=1.0` or remove this parameter as it is also the default value for RandomForestRegressors and ExtraTreesRegressors.\n",
      "  warn(\n",
      "/Users/adityasingh/Desktop/bulldozer-price-prediction-project/env/lib/python3.11/site-packages/sklearn/ensemble/_forest.py:413: FutureWarning: `max_features='auto'` has been deprecated in 1.1 and will be removed in 1.3. To keep the past behaviour, explicitly set `max_features=1.0` or remove this parameter as it is also the default value for RandomForestRegressors and ExtraTreesRegressors.\n",
      "  warn(\n",
      "/Users/adityasingh/Desktop/bulldozer-price-prediction-project/env/lib/python3.11/site-packages/sklearn/ensemble/_forest.py:413: FutureWarning: `max_features='auto'` has been deprecated in 1.1 and will be removed in 1.3. To keep the past behaviour, explicitly set `max_features=1.0` or remove this parameter as it is also the default value for RandomForestRegressors and ExtraTreesRegressors.\n",
      "  warn(\n",
      "/Users/adityasingh/Desktop/bulldozer-price-prediction-project/env/lib/python3.11/site-packages/sklearn/ensemble/_forest.py:413: FutureWarning: `max_features='auto'` has been deprecated in 1.1 and will be removed in 1.3. To keep the past behaviour, explicitly set `max_features=1.0` or remove this parameter as it is also the default value for RandomForestRegressors and ExtraTreesRegressors.\n",
      "  warn(\n",
      "/Users/adityasingh/Desktop/bulldozer-price-prediction-project/env/lib/python3.11/site-packages/sklearn/ensemble/_forest.py:413: FutureWarning: `max_features='auto'` has been deprecated in 1.1 and will be removed in 1.3. To keep the past behaviour, explicitly set `max_features=1.0` or remove this parameter as it is also the default value for RandomForestRegressors and ExtraTreesRegressors.\n",
      "  warn(\n",
      "/Users/adityasingh/Desktop/bulldozer-price-prediction-project/env/lib/python3.11/site-packages/sklearn/ensemble/_forest.py:413: FutureWarning: `max_features='auto'` has been deprecated in 1.1 and will be removed in 1.3. To keep the past behaviour, explicitly set `max_features=1.0` or remove this parameter as it is also the default value for RandomForestRegressors and ExtraTreesRegressors.\n",
      "  warn(\n",
      "/Users/adityasingh/Desktop/bulldozer-price-prediction-project/env/lib/python3.11/site-packages/sklearn/ensemble/_forest.py:413: FutureWarning: `max_features='auto'` has been deprecated in 1.1 and will be removed in 1.3. To keep the past behaviour, explicitly set `max_features=1.0` or remove this parameter as it is also the default value for RandomForestRegressors and ExtraTreesRegressors.\n",
      "  warn(\n",
      "/Users/adityasingh/Desktop/bulldozer-price-prediction-project/env/lib/python3.11/site-packages/sklearn/ensemble/_forest.py:413: FutureWarning: `max_features='auto'` has been deprecated in 1.1 and will be removed in 1.3. To keep the past behaviour, explicitly set `max_features=1.0` or remove this parameter as it is also the default value for RandomForestRegressors and ExtraTreesRegressors.\n",
      "  warn(\n",
      "/Users/adityasingh/Desktop/bulldozer-price-prediction-project/env/lib/python3.11/site-packages/sklearn/ensemble/_forest.py:413: FutureWarning: `max_features='auto'` has been deprecated in 1.1 and will be removed in 1.3. To keep the past behaviour, explicitly set `max_features=1.0` or remove this parameter as it is also the default value for RandomForestRegressors and ExtraTreesRegressors.\n",
      "  warn(\n",
      "/Users/adityasingh/Desktop/bulldozer-price-prediction-project/env/lib/python3.11/site-packages/sklearn/ensemble/_forest.py:413: FutureWarning: `max_features='auto'` has been deprecated in 1.1 and will be removed in 1.3. To keep the past behaviour, explicitly set `max_features=1.0` or remove this parameter as it is also the default value for RandomForestRegressors and ExtraTreesRegressors.\n",
      "  warn(\n",
      "/Users/adityasingh/Desktop/bulldozer-price-prediction-project/env/lib/python3.11/site-packages/sklearn/ensemble/_forest.py:413: FutureWarning: `max_features='auto'` has been deprecated in 1.1 and will be removed in 1.3. To keep the past behaviour, explicitly set `max_features=1.0` or remove this parameter as it is also the default value for RandomForestRegressors and ExtraTreesRegressors.\n",
      "  warn(\n",
      "/Users/adityasingh/Desktop/bulldozer-price-prediction-project/env/lib/python3.11/site-packages/sklearn/ensemble/_forest.py:413: FutureWarning: `max_features='auto'` has been deprecated in 1.1 and will be removed in 1.3. To keep the past behaviour, explicitly set `max_features=1.0` or remove this parameter as it is also the default value for RandomForestRegressors and ExtraTreesRegressors.\n",
      "  warn(\n",
      "/Users/adityasingh/Desktop/bulldozer-price-prediction-project/env/lib/python3.11/site-packages/sklearn/ensemble/_forest.py:413: FutureWarning: `max_features='auto'` has been deprecated in 1.1 and will be removed in 1.3. To keep the past behaviour, explicitly set `max_features=1.0` or remove this parameter as it is also the default value for RandomForestRegressors and ExtraTreesRegressors.\n",
      "  warn(\n"
     ]
    },
    {
     "name": "stderr",
     "output_type": "stream",
     "text": [
      "/Users/adityasingh/Desktop/bulldozer-price-prediction-project/env/lib/python3.11/site-packages/sklearn/ensemble/_forest.py:413: FutureWarning: `max_features='auto'` has been deprecated in 1.1 and will be removed in 1.3. To keep the past behaviour, explicitly set `max_features=1.0` or remove this parameter as it is also the default value for RandomForestRegressors and ExtraTreesRegressors.\n",
      "  warn(\n",
      "/Users/adityasingh/Desktop/bulldozer-price-prediction-project/env/lib/python3.11/site-packages/sklearn/ensemble/_forest.py:413: FutureWarning: `max_features='auto'` has been deprecated in 1.1 and will be removed in 1.3. To keep the past behaviour, explicitly set `max_features=1.0` or remove this parameter as it is also the default value for RandomForestRegressors and ExtraTreesRegressors.\n",
      "  warn(\n",
      "/Users/adityasingh/Desktop/bulldozer-price-prediction-project/env/lib/python3.11/site-packages/sklearn/ensemble/_forest.py:413: FutureWarning: `max_features='auto'` has been deprecated in 1.1 and will be removed in 1.3. To keep the past behaviour, explicitly set `max_features=1.0` or remove this parameter as it is also the default value for RandomForestRegressors and ExtraTreesRegressors.\n",
      "  warn(\n",
      "/Users/adityasingh/Desktop/bulldozer-price-prediction-project/env/lib/python3.11/site-packages/sklearn/ensemble/_forest.py:413: FutureWarning: `max_features='auto'` has been deprecated in 1.1 and will be removed in 1.3. To keep the past behaviour, explicitly set `max_features=1.0` or remove this parameter as it is also the default value for RandomForestRegressors and ExtraTreesRegressors.\n",
      "  warn(\n",
      "/Users/adityasingh/Desktop/bulldozer-price-prediction-project/env/lib/python3.11/site-packages/sklearn/ensemble/_forest.py:413: FutureWarning: `max_features='auto'` has been deprecated in 1.1 and will be removed in 1.3. To keep the past behaviour, explicitly set `max_features=1.0` or remove this parameter as it is also the default value for RandomForestRegressors and ExtraTreesRegressors.\n",
      "  warn(\n",
      "/Users/adityasingh/Desktop/bulldozer-price-prediction-project/env/lib/python3.11/site-packages/sklearn/ensemble/_forest.py:413: FutureWarning: `max_features='auto'` has been deprecated in 1.1 and will be removed in 1.3. To keep the past behaviour, explicitly set `max_features=1.0` or remove this parameter as it is also the default value for RandomForestRegressors and ExtraTreesRegressors.\n",
      "  warn(\n",
      "/Users/adityasingh/Desktop/bulldozer-price-prediction-project/env/lib/python3.11/site-packages/sklearn/ensemble/_forest.py:413: FutureWarning: `max_features='auto'` has been deprecated in 1.1 and will be removed in 1.3. To keep the past behaviour, explicitly set `max_features=1.0` or remove this parameter as it is also the default value for RandomForestRegressors and ExtraTreesRegressors.\n",
      "  warn(\n",
      "/Users/adityasingh/Desktop/bulldozer-price-prediction-project/env/lib/python3.11/site-packages/sklearn/ensemble/_forest.py:413: FutureWarning: `max_features='auto'` has been deprecated in 1.1 and will be removed in 1.3. To keep the past behaviour, explicitly set `max_features=1.0` or remove this parameter as it is also the default value for RandomForestRegressors and ExtraTreesRegressors.\n",
      "  warn(\n",
      "/Users/adityasingh/Desktop/bulldozer-price-prediction-project/env/lib/python3.11/site-packages/sklearn/ensemble/_forest.py:413: FutureWarning: `max_features='auto'` has been deprecated in 1.1 and will be removed in 1.3. To keep the past behaviour, explicitly set `max_features=1.0` or remove this parameter as it is also the default value for RandomForestRegressors and ExtraTreesRegressors.\n",
      "  warn(\n",
      "/Users/adityasingh/Desktop/bulldozer-price-prediction-project/env/lib/python3.11/site-packages/sklearn/ensemble/_forest.py:413: FutureWarning: `max_features='auto'` has been deprecated in 1.1 and will be removed in 1.3. To keep the past behaviour, explicitly set `max_features=1.0` or remove this parameter as it is also the default value for RandomForestRegressors and ExtraTreesRegressors.\n",
      "  warn(\n",
      "/Users/adityasingh/Desktop/bulldozer-price-prediction-project/env/lib/python3.11/site-packages/sklearn/ensemble/_forest.py:413: FutureWarning: `max_features='auto'` has been deprecated in 1.1 and will be removed in 1.3. To keep the past behaviour, explicitly set `max_features=1.0` or remove this parameter as it is also the default value for RandomForestRegressors and ExtraTreesRegressors.\n",
      "  warn(\n",
      "/Users/adityasingh/Desktop/bulldozer-price-prediction-project/env/lib/python3.11/site-packages/sklearn/ensemble/_forest.py:413: FutureWarning: `max_features='auto'` has been deprecated in 1.1 and will be removed in 1.3. To keep the past behaviour, explicitly set `max_features=1.0` or remove this parameter as it is also the default value for RandomForestRegressors and ExtraTreesRegressors.\n",
      "  warn(\n",
      "/Users/adityasingh/Desktop/bulldozer-price-prediction-project/env/lib/python3.11/site-packages/sklearn/ensemble/_forest.py:413: FutureWarning: `max_features='auto'` has been deprecated in 1.1 and will be removed in 1.3. To keep the past behaviour, explicitly set `max_features=1.0` or remove this parameter as it is also the default value for RandomForestRegressors and ExtraTreesRegressors.\n",
      "  warn(\n",
      "/Users/adityasingh/Desktop/bulldozer-price-prediction-project/env/lib/python3.11/site-packages/sklearn/ensemble/_forest.py:413: FutureWarning: `max_features='auto'` has been deprecated in 1.1 and will be removed in 1.3. To keep the past behaviour, explicitly set `max_features=1.0` or remove this parameter as it is also the default value for RandomForestRegressors and ExtraTreesRegressors.\n",
      "  warn(\n",
      "/Users/adityasingh/Desktop/bulldozer-price-prediction-project/env/lib/python3.11/site-packages/sklearn/ensemble/_forest.py:413: FutureWarning: `max_features='auto'` has been deprecated in 1.1 and will be removed in 1.3. To keep the past behaviour, explicitly set `max_features=1.0` or remove this parameter as it is also the default value for RandomForestRegressors and ExtraTreesRegressors.\n",
      "  warn(\n",
      "/Users/adityasingh/Desktop/bulldozer-price-prediction-project/env/lib/python3.11/site-packages/sklearn/ensemble/_forest.py:413: FutureWarning: `max_features='auto'` has been deprecated in 1.1 and will be removed in 1.3. To keep the past behaviour, explicitly set `max_features=1.0` or remove this parameter as it is also the default value for RandomForestRegressors and ExtraTreesRegressors.\n",
      "  warn(\n",
      "/Users/adityasingh/Desktop/bulldozer-price-prediction-project/env/lib/python3.11/site-packages/sklearn/ensemble/_forest.py:413: FutureWarning: `max_features='auto'` has been deprecated in 1.1 and will be removed in 1.3. To keep the past behaviour, explicitly set `max_features=1.0` or remove this parameter as it is also the default value for RandomForestRegressors and ExtraTreesRegressors.\n",
      "  warn(\n",
      "/Users/adityasingh/Desktop/bulldozer-price-prediction-project/env/lib/python3.11/site-packages/sklearn/ensemble/_forest.py:413: FutureWarning: `max_features='auto'` has been deprecated in 1.1 and will be removed in 1.3. To keep the past behaviour, explicitly set `max_features=1.0` or remove this parameter as it is also the default value for RandomForestRegressors and ExtraTreesRegressors.\n",
      "  warn(\n",
      "/Users/adityasingh/Desktop/bulldozer-price-prediction-project/env/lib/python3.11/site-packages/sklearn/ensemble/_forest.py:413: FutureWarning: `max_features='auto'` has been deprecated in 1.1 and will be removed in 1.3. To keep the past behaviour, explicitly set `max_features=1.0` or remove this parameter as it is also the default value for RandomForestRegressors and ExtraTreesRegressors.\n",
      "  warn(\n",
      "/Users/adityasingh/Desktop/bulldozer-price-prediction-project/env/lib/python3.11/site-packages/sklearn/ensemble/_forest.py:413: FutureWarning: `max_features='auto'` has been deprecated in 1.1 and will be removed in 1.3. To keep the past behaviour, explicitly set `max_features=1.0` or remove this parameter as it is also the default value for RandomForestRegressors and ExtraTreesRegressors.\n",
      "  warn(\n",
      "/Users/adityasingh/Desktop/bulldozer-price-prediction-project/env/lib/python3.11/site-packages/sklearn/ensemble/_forest.py:413: FutureWarning: `max_features='auto'` has been deprecated in 1.1 and will be removed in 1.3. To keep the past behaviour, explicitly set `max_features=1.0` or remove this parameter as it is also the default value for RandomForestRegressors and ExtraTreesRegressors.\n",
      "  warn(\n",
      "/Users/adityasingh/Desktop/bulldozer-price-prediction-project/env/lib/python3.11/site-packages/sklearn/ensemble/_forest.py:413: FutureWarning: `max_features='auto'` has been deprecated in 1.1 and will be removed in 1.3. To keep the past behaviour, explicitly set `max_features=1.0` or remove this parameter as it is also the default value for RandomForestRegressors and ExtraTreesRegressors.\n",
      "  warn(\n"
     ]
    },
    {
     "name": "stderr",
     "output_type": "stream",
     "text": [
      "/Users/adityasingh/Desktop/bulldozer-price-prediction-project/env/lib/python3.11/site-packages/sklearn/ensemble/_forest.py:413: FutureWarning: `max_features='auto'` has been deprecated in 1.1 and will be removed in 1.3. To keep the past behaviour, explicitly set `max_features=1.0` or remove this parameter as it is also the default value for RandomForestRegressors and ExtraTreesRegressors.\n",
      "  warn(\n",
      "/Users/adityasingh/Desktop/bulldozer-price-prediction-project/env/lib/python3.11/site-packages/sklearn/ensemble/_forest.py:413: FutureWarning: `max_features='auto'` has been deprecated in 1.1 and will be removed in 1.3. To keep the past behaviour, explicitly set `max_features=1.0` or remove this parameter as it is also the default value for RandomForestRegressors and ExtraTreesRegressors.\n",
      "  warn(\n",
      "/Users/adityasingh/Desktop/bulldozer-price-prediction-project/env/lib/python3.11/site-packages/sklearn/ensemble/_forest.py:413: FutureWarning: `max_features='auto'` has been deprecated in 1.1 and will be removed in 1.3. To keep the past behaviour, explicitly set `max_features=1.0` or remove this parameter as it is also the default value for RandomForestRegressors and ExtraTreesRegressors.\n",
      "  warn(\n",
      "/Users/adityasingh/Desktop/bulldozer-price-prediction-project/env/lib/python3.11/site-packages/sklearn/ensemble/_forest.py:413: FutureWarning: `max_features='auto'` has been deprecated in 1.1 and will be removed in 1.3. To keep the past behaviour, explicitly set `max_features=1.0` or remove this parameter as it is also the default value for RandomForestRegressors and ExtraTreesRegressors.\n",
      "  warn(\n",
      "/Users/adityasingh/Desktop/bulldozer-price-prediction-project/env/lib/python3.11/site-packages/sklearn/ensemble/_forest.py:413: FutureWarning: `max_features='auto'` has been deprecated in 1.1 and will be removed in 1.3. To keep the past behaviour, explicitly set `max_features=1.0` or remove this parameter as it is also the default value for RandomForestRegressors and ExtraTreesRegressors.\n",
      "  warn(\n",
      "/Users/adityasingh/Desktop/bulldozer-price-prediction-project/env/lib/python3.11/site-packages/sklearn/ensemble/_forest.py:413: FutureWarning: `max_features='auto'` has been deprecated in 1.1 and will be removed in 1.3. To keep the past behaviour, explicitly set `max_features=1.0` or remove this parameter as it is also the default value for RandomForestRegressors and ExtraTreesRegressors.\n",
      "  warn(\n",
      "/Users/adityasingh/Desktop/bulldozer-price-prediction-project/env/lib/python3.11/site-packages/sklearn/ensemble/_forest.py:413: FutureWarning: `max_features='auto'` has been deprecated in 1.1 and will be removed in 1.3. To keep the past behaviour, explicitly set `max_features=1.0` or remove this parameter as it is also the default value for RandomForestRegressors and ExtraTreesRegressors.\n",
      "  warn(\n",
      "/Users/adityasingh/Desktop/bulldozer-price-prediction-project/env/lib/python3.11/site-packages/sklearn/ensemble/_forest.py:413: FutureWarning: `max_features='auto'` has been deprecated in 1.1 and will be removed in 1.3. To keep the past behaviour, explicitly set `max_features=1.0` or remove this parameter as it is also the default value for RandomForestRegressors and ExtraTreesRegressors.\n",
      "  warn(\n",
      "/Users/adityasingh/Desktop/bulldozer-price-prediction-project/env/lib/python3.11/site-packages/sklearn/ensemble/_forest.py:413: FutureWarning: `max_features='auto'` has been deprecated in 1.1 and will be removed in 1.3. To keep the past behaviour, explicitly set `max_features=1.0` or remove this parameter as it is also the default value for RandomForestRegressors and ExtraTreesRegressors.\n",
      "  warn(\n",
      "/Users/adityasingh/Desktop/bulldozer-price-prediction-project/env/lib/python3.11/site-packages/sklearn/ensemble/_forest.py:413: FutureWarning: `max_features='auto'` has been deprecated in 1.1 and will be removed in 1.3. To keep the past behaviour, explicitly set `max_features=1.0` or remove this parameter as it is also the default value for RandomForestRegressors and ExtraTreesRegressors.\n",
      "  warn(\n",
      "/Users/adityasingh/Desktop/bulldozer-price-prediction-project/env/lib/python3.11/site-packages/sklearn/ensemble/_forest.py:413: FutureWarning: `max_features='auto'` has been deprecated in 1.1 and will be removed in 1.3. To keep the past behaviour, explicitly set `max_features=1.0` or remove this parameter as it is also the default value for RandomForestRegressors and ExtraTreesRegressors.\n",
      "  warn(\n",
      "/Users/adityasingh/Desktop/bulldozer-price-prediction-project/env/lib/python3.11/site-packages/sklearn/ensemble/_forest.py:413: FutureWarning: `max_features='auto'` has been deprecated in 1.1 and will be removed in 1.3. To keep the past behaviour, explicitly set `max_features=1.0` or remove this parameter as it is also the default value for RandomForestRegressors and ExtraTreesRegressors.\n",
      "  warn(\n",
      "/Users/adityasingh/Desktop/bulldozer-price-prediction-project/env/lib/python3.11/site-packages/sklearn/ensemble/_forest.py:413: FutureWarning: `max_features='auto'` has been deprecated in 1.1 and will be removed in 1.3. To keep the past behaviour, explicitly set `max_features=1.0` or remove this parameter as it is also the default value for RandomForestRegressors and ExtraTreesRegressors.\n",
      "  warn(\n",
      "/Users/adityasingh/Desktop/bulldozer-price-prediction-project/env/lib/python3.11/site-packages/sklearn/ensemble/_forest.py:413: FutureWarning: `max_features='auto'` has been deprecated in 1.1 and will be removed in 1.3. To keep the past behaviour, explicitly set `max_features=1.0` or remove this parameter as it is also the default value for RandomForestRegressors and ExtraTreesRegressors.\n",
      "  warn(\n",
      "/Users/adityasingh/Desktop/bulldozer-price-prediction-project/env/lib/python3.11/site-packages/sklearn/ensemble/_forest.py:413: FutureWarning: `max_features='auto'` has been deprecated in 1.1 and will be removed in 1.3. To keep the past behaviour, explicitly set `max_features=1.0` or remove this parameter as it is also the default value for RandomForestRegressors and ExtraTreesRegressors.\n",
      "  warn(\n",
      "/Users/adityasingh/Desktop/bulldozer-price-prediction-project/env/lib/python3.11/site-packages/sklearn/ensemble/_forest.py:413: FutureWarning: `max_features='auto'` has been deprecated in 1.1 and will be removed in 1.3. To keep the past behaviour, explicitly set `max_features=1.0` or remove this parameter as it is also the default value for RandomForestRegressors and ExtraTreesRegressors.\n",
      "  warn(\n",
      "/Users/adityasingh/Desktop/bulldozer-price-prediction-project/env/lib/python3.11/site-packages/sklearn/ensemble/_forest.py:413: FutureWarning: `max_features='auto'` has been deprecated in 1.1 and will be removed in 1.3. To keep the past behaviour, explicitly set `max_features=1.0` or remove this parameter as it is also the default value for RandomForestRegressors and ExtraTreesRegressors.\n",
      "  warn(\n",
      "/Users/adityasingh/Desktop/bulldozer-price-prediction-project/env/lib/python3.11/site-packages/sklearn/ensemble/_forest.py:413: FutureWarning: `max_features='auto'` has been deprecated in 1.1 and will be removed in 1.3. To keep the past behaviour, explicitly set `max_features=1.0` or remove this parameter as it is also the default value for RandomForestRegressors and ExtraTreesRegressors.\n",
      "  warn(\n",
      "/Users/adityasingh/Desktop/bulldozer-price-prediction-project/env/lib/python3.11/site-packages/sklearn/ensemble/_forest.py:413: FutureWarning: `max_features='auto'` has been deprecated in 1.1 and will be removed in 1.3. To keep the past behaviour, explicitly set `max_features=1.0` or remove this parameter as it is also the default value for RandomForestRegressors and ExtraTreesRegressors.\n",
      "  warn(\n",
      "/Users/adityasingh/Desktop/bulldozer-price-prediction-project/env/lib/python3.11/site-packages/sklearn/ensemble/_forest.py:413: FutureWarning: `max_features='auto'` has been deprecated in 1.1 and will be removed in 1.3. To keep the past behaviour, explicitly set `max_features=1.0` or remove this parameter as it is also the default value for RandomForestRegressors and ExtraTreesRegressors.\n",
      "  warn(\n",
      "/Users/adityasingh/Desktop/bulldozer-price-prediction-project/env/lib/python3.11/site-packages/sklearn/ensemble/_forest.py:413: FutureWarning: `max_features='auto'` has been deprecated in 1.1 and will be removed in 1.3. To keep the past behaviour, explicitly set `max_features=1.0` or remove this parameter as it is also the default value for RandomForestRegressors and ExtraTreesRegressors.\n",
      "  warn(\n"
     ]
    },
    {
     "name": "stderr",
     "output_type": "stream",
     "text": [
      "/Users/adityasingh/Desktop/bulldozer-price-prediction-project/env/lib/python3.11/site-packages/sklearn/ensemble/_forest.py:413: FutureWarning: `max_features='auto'` has been deprecated in 1.1 and will be removed in 1.3. To keep the past behaviour, explicitly set `max_features=1.0` or remove this parameter as it is also the default value for RandomForestRegressors and ExtraTreesRegressors.\n",
      "  warn(\n",
      "/Users/adityasingh/Desktop/bulldozer-price-prediction-project/env/lib/python3.11/site-packages/sklearn/ensemble/_forest.py:413: FutureWarning: `max_features='auto'` has been deprecated in 1.1 and will be removed in 1.3. To keep the past behaviour, explicitly set `max_features=1.0` or remove this parameter as it is also the default value for RandomForestRegressors and ExtraTreesRegressors.\n",
      "  warn(\n",
      "/Users/adityasingh/Desktop/bulldozer-price-prediction-project/env/lib/python3.11/site-packages/sklearn/ensemble/_forest.py:413: FutureWarning: `max_features='auto'` has been deprecated in 1.1 and will be removed in 1.3. To keep the past behaviour, explicitly set `max_features=1.0` or remove this parameter as it is also the default value for RandomForestRegressors and ExtraTreesRegressors.\n",
      "  warn(\n",
      "/Users/adityasingh/Desktop/bulldozer-price-prediction-project/env/lib/python3.11/site-packages/sklearn/ensemble/_forest.py:413: FutureWarning: `max_features='auto'` has been deprecated in 1.1 and will be removed in 1.3. To keep the past behaviour, explicitly set `max_features=1.0` or remove this parameter as it is also the default value for RandomForestRegressors and ExtraTreesRegressors.\n",
      "  warn(\n",
      "/Users/adityasingh/Desktop/bulldozer-price-prediction-project/env/lib/python3.11/site-packages/sklearn/ensemble/_forest.py:413: FutureWarning: `max_features='auto'` has been deprecated in 1.1 and will be removed in 1.3. To keep the past behaviour, explicitly set `max_features=1.0` or remove this parameter as it is also the default value for RandomForestRegressors and ExtraTreesRegressors.\n",
      "  warn(\n",
      "/Users/adityasingh/Desktop/bulldozer-price-prediction-project/env/lib/python3.11/site-packages/sklearn/ensemble/_forest.py:413: FutureWarning: `max_features='auto'` has been deprecated in 1.1 and will be removed in 1.3. To keep the past behaviour, explicitly set `max_features=1.0` or remove this parameter as it is also the default value for RandomForestRegressors and ExtraTreesRegressors.\n",
      "  warn(\n",
      "/Users/adityasingh/Desktop/bulldozer-price-prediction-project/env/lib/python3.11/site-packages/sklearn/ensemble/_forest.py:413: FutureWarning: `max_features='auto'` has been deprecated in 1.1 and will be removed in 1.3. To keep the past behaviour, explicitly set `max_features=1.0` or remove this parameter as it is also the default value for RandomForestRegressors and ExtraTreesRegressors.\n",
      "  warn(\n",
      "/Users/adityasingh/Desktop/bulldozer-price-prediction-project/env/lib/python3.11/site-packages/sklearn/ensemble/_forest.py:413: FutureWarning: `max_features='auto'` has been deprecated in 1.1 and will be removed in 1.3. To keep the past behaviour, explicitly set `max_features=1.0` or remove this parameter as it is also the default value for RandomForestRegressors and ExtraTreesRegressors.\n",
      "  warn(\n",
      "/Users/adityasingh/Desktop/bulldozer-price-prediction-project/env/lib/python3.11/site-packages/sklearn/ensemble/_forest.py:413: FutureWarning: `max_features='auto'` has been deprecated in 1.1 and will be removed in 1.3. To keep the past behaviour, explicitly set `max_features=1.0` or remove this parameter as it is also the default value for RandomForestRegressors and ExtraTreesRegressors.\n",
      "  warn(\n",
      "/Users/adityasingh/Desktop/bulldozer-price-prediction-project/env/lib/python3.11/site-packages/sklearn/ensemble/_forest.py:413: FutureWarning: `max_features='auto'` has been deprecated in 1.1 and will be removed in 1.3. To keep the past behaviour, explicitly set `max_features=1.0` or remove this parameter as it is also the default value for RandomForestRegressors and ExtraTreesRegressors.\n",
      "  warn(\n",
      "/Users/adityasingh/Desktop/bulldozer-price-prediction-project/env/lib/python3.11/site-packages/sklearn/ensemble/_forest.py:413: FutureWarning: `max_features='auto'` has been deprecated in 1.1 and will be removed in 1.3. To keep the past behaviour, explicitly set `max_features=1.0` or remove this parameter as it is also the default value for RandomForestRegressors and ExtraTreesRegressors.\n",
      "  warn(\n",
      "/Users/adityasingh/Desktop/bulldozer-price-prediction-project/env/lib/python3.11/site-packages/sklearn/ensemble/_forest.py:413: FutureWarning: `max_features='auto'` has been deprecated in 1.1 and will be removed in 1.3. To keep the past behaviour, explicitly set `max_features=1.0` or remove this parameter as it is also the default value for RandomForestRegressors and ExtraTreesRegressors.\n",
      "  warn(\n",
      "/Users/adityasingh/Desktop/bulldozer-price-prediction-project/env/lib/python3.11/site-packages/sklearn/ensemble/_forest.py:413: FutureWarning: `max_features='auto'` has been deprecated in 1.1 and will be removed in 1.3. To keep the past behaviour, explicitly set `max_features=1.0` or remove this parameter as it is also the default value for RandomForestRegressors and ExtraTreesRegressors.\n",
      "  warn(\n"
     ]
    },
    {
     "data": {
      "text/html": [
       "<style>#sk-container-id-7 {color: black;background-color: white;}#sk-container-id-7 pre{padding: 0;}#sk-container-id-7 div.sk-toggleable {background-color: white;}#sk-container-id-7 label.sk-toggleable__label {cursor: pointer;display: block;width: 100%;margin-bottom: 0;padding: 0.3em;box-sizing: border-box;text-align: center;}#sk-container-id-7 label.sk-toggleable__label-arrow:before {content: \"▸\";float: left;margin-right: 0.25em;color: #696969;}#sk-container-id-7 label.sk-toggleable__label-arrow:hover:before {color: black;}#sk-container-id-7 div.sk-estimator:hover label.sk-toggleable__label-arrow:before {color: black;}#sk-container-id-7 div.sk-toggleable__content {max-height: 0;max-width: 0;overflow: hidden;text-align: left;background-color: #f0f8ff;}#sk-container-id-7 div.sk-toggleable__content pre {margin: 0.2em;color: black;border-radius: 0.25em;background-color: #f0f8ff;}#sk-container-id-7 input.sk-toggleable__control:checked~div.sk-toggleable__content {max-height: 200px;max-width: 100%;overflow: auto;}#sk-container-id-7 input.sk-toggleable__control:checked~label.sk-toggleable__label-arrow:before {content: \"▾\";}#sk-container-id-7 div.sk-estimator input.sk-toggleable__control:checked~label.sk-toggleable__label {background-color: #d4ebff;}#sk-container-id-7 div.sk-label input.sk-toggleable__control:checked~label.sk-toggleable__label {background-color: #d4ebff;}#sk-container-id-7 input.sk-hidden--visually {border: 0;clip: rect(1px 1px 1px 1px);clip: rect(1px, 1px, 1px, 1px);height: 1px;margin: -1px;overflow: hidden;padding: 0;position: absolute;width: 1px;}#sk-container-id-7 div.sk-estimator {font-family: monospace;background-color: #f0f8ff;border: 1px dotted black;border-radius: 0.25em;box-sizing: border-box;margin-bottom: 0.5em;}#sk-container-id-7 div.sk-estimator:hover {background-color: #d4ebff;}#sk-container-id-7 div.sk-parallel-item::after {content: \"\";width: 100%;border-bottom: 1px solid gray;flex-grow: 1;}#sk-container-id-7 div.sk-label:hover label.sk-toggleable__label {background-color: #d4ebff;}#sk-container-id-7 div.sk-serial::before {content: \"\";position: absolute;border-left: 1px solid gray;box-sizing: border-box;top: 0;bottom: 0;left: 50%;z-index: 0;}#sk-container-id-7 div.sk-serial {display: flex;flex-direction: column;align-items: center;background-color: white;padding-right: 0.2em;padding-left: 0.2em;position: relative;}#sk-container-id-7 div.sk-item {position: relative;z-index: 1;}#sk-container-id-7 div.sk-parallel {display: flex;align-items: stretch;justify-content: center;background-color: white;position: relative;}#sk-container-id-7 div.sk-item::before, #sk-container-id-7 div.sk-parallel-item::before {content: \"\";position: absolute;border-left: 1px solid gray;box-sizing: border-box;top: 0;bottom: 0;left: 50%;z-index: -1;}#sk-container-id-7 div.sk-parallel-item {display: flex;flex-direction: column;z-index: 1;position: relative;background-color: white;}#sk-container-id-7 div.sk-parallel-item:first-child::after {align-self: flex-end;width: 50%;}#sk-container-id-7 div.sk-parallel-item:last-child::after {align-self: flex-start;width: 50%;}#sk-container-id-7 div.sk-parallel-item:only-child::after {width: 0;}#sk-container-id-7 div.sk-dashed-wrapped {border: 1px dashed gray;margin: 0 0.4em 0.5em 0.4em;box-sizing: border-box;padding-bottom: 0.4em;background-color: white;}#sk-container-id-7 div.sk-label label {font-family: monospace;font-weight: bold;display: inline-block;line-height: 1.2em;}#sk-container-id-7 div.sk-label-container {text-align: center;}#sk-container-id-7 div.sk-container {/* jupyter's `normalize.less` sets `[hidden] { display: none; }` but bootstrap.min.css set `[hidden] { display: none !important; }` so we also need the `!important` here to be able to override the default hidden behavior on the sphinx rendered scikit-learn.org. See: https://github.com/scikit-learn/scikit-learn/issues/21755 */display: inline-block !important;position: relative;}#sk-container-id-7 div.sk-text-repr-fallback {display: none;}</style><div id=\"sk-container-id-7\" class=\"sk-top-container\"><div class=\"sk-text-repr-fallback\"><pre>RandomizedSearchCV(cv=5,\n",
       "                   estimator=RandomForestRegressor(n_jobs=-1, random_state=42),\n",
       "                   n_iter=100, n_jobs=-1,\n",
       "                   param_distributions={&#x27;max_depth&#x27;: [None, 3, 5, 10],\n",
       "                                        &#x27;max_features&#x27;: [0.5, 1, &#x27;sqrt&#x27;,\n",
       "                                                         &#x27;auto&#x27;],\n",
       "                                        &#x27;min_samples_leaf&#x27;: array([ 1,  3,  5,  7,  9, 11, 13, 15, 17, 19]),\n",
       "                                        &#x27;min_samples_split&#x27;: array([ 2,  4,  6,  8, 10, 12, 14, 16, 18]),\n",
       "                                        &#x27;n_estimators&#x27;: array([10, 20, 30, 40, 50, 60, 70, 80, 90])},\n",
       "                   random_state=42, verbose=2)</pre><b>In a Jupyter environment, please rerun this cell to show the HTML representation or trust the notebook. <br />On GitHub, the HTML representation is unable to render, please try loading this page with nbviewer.org.</b></div><div class=\"sk-container\" hidden><div class=\"sk-item sk-dashed-wrapped\"><div class=\"sk-label-container\"><div class=\"sk-label sk-toggleable\"><input class=\"sk-toggleable__control sk-hidden--visually\" id=\"sk-estimator-id-11\" type=\"checkbox\" ><label for=\"sk-estimator-id-11\" class=\"sk-toggleable__label sk-toggleable__label-arrow\">RandomizedSearchCV</label><div class=\"sk-toggleable__content\"><pre>RandomizedSearchCV(cv=5,\n",
       "                   estimator=RandomForestRegressor(n_jobs=-1, random_state=42),\n",
       "                   n_iter=100, n_jobs=-1,\n",
       "                   param_distributions={&#x27;max_depth&#x27;: [None, 3, 5, 10],\n",
       "                                        &#x27;max_features&#x27;: [0.5, 1, &#x27;sqrt&#x27;,\n",
       "                                                         &#x27;auto&#x27;],\n",
       "                                        &#x27;min_samples_leaf&#x27;: array([ 1,  3,  5,  7,  9, 11, 13, 15, 17, 19]),\n",
       "                                        &#x27;min_samples_split&#x27;: array([ 2,  4,  6,  8, 10, 12, 14, 16, 18]),\n",
       "                                        &#x27;n_estimators&#x27;: array([10, 20, 30, 40, 50, 60, 70, 80, 90])},\n",
       "                   random_state=42, verbose=2)</pre></div></div></div><div class=\"sk-parallel\"><div class=\"sk-parallel-item\"><div class=\"sk-item\"><div class=\"sk-label-container\"><div class=\"sk-label sk-toggleable\"><input class=\"sk-toggleable__control sk-hidden--visually\" id=\"sk-estimator-id-12\" type=\"checkbox\" ><label for=\"sk-estimator-id-12\" class=\"sk-toggleable__label sk-toggleable__label-arrow\">estimator: RandomForestRegressor</label><div class=\"sk-toggleable__content\"><pre>RandomForestRegressor(n_jobs=-1, random_state=42)</pre></div></div></div><div class=\"sk-serial\"><div class=\"sk-item\"><div class=\"sk-estimator sk-toggleable\"><input class=\"sk-toggleable__control sk-hidden--visually\" id=\"sk-estimator-id-13\" type=\"checkbox\" ><label for=\"sk-estimator-id-13\" class=\"sk-toggleable__label sk-toggleable__label-arrow\">RandomForestRegressor</label><div class=\"sk-toggleable__content\"><pre>RandomForestRegressor(n_jobs=-1, random_state=42)</pre></div></div></div></div></div></div></div></div></div></div>"
      ],
      "text/plain": [
       "RandomizedSearchCV(cv=5,\n",
       "                   estimator=RandomForestRegressor(n_jobs=-1, random_state=42),\n",
       "                   n_iter=100, n_jobs=-1,\n",
       "                   param_distributions={'max_depth': [None, 3, 5, 10],\n",
       "                                        'max_features': [0.5, 1, 'sqrt',\n",
       "                                                         'auto'],\n",
       "                                        'min_samples_leaf': array([ 1,  3,  5,  7,  9, 11, 13, 15, 17, 19]),\n",
       "                                        'min_samples_split': array([ 2,  4,  6,  8, 10, 12, 14, 16, 18]),\n",
       "                                        'n_estimators': array([10, 20, 30, 40, 50, 60, 70, 80, 90])},\n",
       "                   random_state=42, verbose=2)"
      ]
     },
     "execution_count": 45,
     "metadata": {},
     "output_type": "execute_result"
    }
   ],
   "source": [
    "rf_rs.fit(X_train,y_train)"
   ]
  },
  {
   "cell_type": "code",
   "execution_count": 48,
   "id": "76fe1297",
   "metadata": {},
   "outputs": [
    {
     "data": {
      "text/plain": [
       "{'n_estimators': 40,\n",
       " 'min_samples_split': 2,\n",
       " 'min_samples_leaf': 1,\n",
       " 'max_features': 'auto',\n",
       " 'max_depth': None}"
      ]
     },
     "execution_count": 48,
     "metadata": {},
     "output_type": "execute_result"
    }
   ],
   "source": [
    "rf_rs.best_params_"
   ]
  },
  {
   "cell_type": "code",
   "execution_count": 49,
   "id": "b8cf8bfb",
   "metadata": {},
   "outputs": [],
   "source": [
    "model2 = RandomForestRegressor(n_estimators = 40,\n",
    "                               min_samples_split = 2,\n",
    "                               min_samples_leaf = 1,\n",
    "                               max_features = 'auto',\n",
    "                               max_depth = None,\n",
    "                               random_state=42,\n",
    "                               n_jobs=-1)"
   ]
  },
  {
   "cell_type": "code",
   "execution_count": 50,
   "id": "353b4e9f",
   "metadata": {},
   "outputs": [
    {
     "name": "stderr",
     "output_type": "stream",
     "text": [
      "/Users/adityasingh/Desktop/bulldozer-price-prediction-project/env/lib/python3.11/site-packages/sklearn/ensemble/_forest.py:413: FutureWarning: `max_features='auto'` has been deprecated in 1.1 and will be removed in 1.3. To keep the past behaviour, explicitly set `max_features=1.0` or remove this parameter as it is also the default value for RandomForestRegressors and ExtraTreesRegressors.\n",
      "  warn(\n"
     ]
    },
    {
     "data": {
      "text/html": [
       "<style>#sk-container-id-8 {color: black;background-color: white;}#sk-container-id-8 pre{padding: 0;}#sk-container-id-8 div.sk-toggleable {background-color: white;}#sk-container-id-8 label.sk-toggleable__label {cursor: pointer;display: block;width: 100%;margin-bottom: 0;padding: 0.3em;box-sizing: border-box;text-align: center;}#sk-container-id-8 label.sk-toggleable__label-arrow:before {content: \"▸\";float: left;margin-right: 0.25em;color: #696969;}#sk-container-id-8 label.sk-toggleable__label-arrow:hover:before {color: black;}#sk-container-id-8 div.sk-estimator:hover label.sk-toggleable__label-arrow:before {color: black;}#sk-container-id-8 div.sk-toggleable__content {max-height: 0;max-width: 0;overflow: hidden;text-align: left;background-color: #f0f8ff;}#sk-container-id-8 div.sk-toggleable__content pre {margin: 0.2em;color: black;border-radius: 0.25em;background-color: #f0f8ff;}#sk-container-id-8 input.sk-toggleable__control:checked~div.sk-toggleable__content {max-height: 200px;max-width: 100%;overflow: auto;}#sk-container-id-8 input.sk-toggleable__control:checked~label.sk-toggleable__label-arrow:before {content: \"▾\";}#sk-container-id-8 div.sk-estimator input.sk-toggleable__control:checked~label.sk-toggleable__label {background-color: #d4ebff;}#sk-container-id-8 div.sk-label input.sk-toggleable__control:checked~label.sk-toggleable__label {background-color: #d4ebff;}#sk-container-id-8 input.sk-hidden--visually {border: 0;clip: rect(1px 1px 1px 1px);clip: rect(1px, 1px, 1px, 1px);height: 1px;margin: -1px;overflow: hidden;padding: 0;position: absolute;width: 1px;}#sk-container-id-8 div.sk-estimator {font-family: monospace;background-color: #f0f8ff;border: 1px dotted black;border-radius: 0.25em;box-sizing: border-box;margin-bottom: 0.5em;}#sk-container-id-8 div.sk-estimator:hover {background-color: #d4ebff;}#sk-container-id-8 div.sk-parallel-item::after {content: \"\";width: 100%;border-bottom: 1px solid gray;flex-grow: 1;}#sk-container-id-8 div.sk-label:hover label.sk-toggleable__label {background-color: #d4ebff;}#sk-container-id-8 div.sk-serial::before {content: \"\";position: absolute;border-left: 1px solid gray;box-sizing: border-box;top: 0;bottom: 0;left: 50%;z-index: 0;}#sk-container-id-8 div.sk-serial {display: flex;flex-direction: column;align-items: center;background-color: white;padding-right: 0.2em;padding-left: 0.2em;position: relative;}#sk-container-id-8 div.sk-item {position: relative;z-index: 1;}#sk-container-id-8 div.sk-parallel {display: flex;align-items: stretch;justify-content: center;background-color: white;position: relative;}#sk-container-id-8 div.sk-item::before, #sk-container-id-8 div.sk-parallel-item::before {content: \"\";position: absolute;border-left: 1px solid gray;box-sizing: border-box;top: 0;bottom: 0;left: 50%;z-index: -1;}#sk-container-id-8 div.sk-parallel-item {display: flex;flex-direction: column;z-index: 1;position: relative;background-color: white;}#sk-container-id-8 div.sk-parallel-item:first-child::after {align-self: flex-end;width: 50%;}#sk-container-id-8 div.sk-parallel-item:last-child::after {align-self: flex-start;width: 50%;}#sk-container-id-8 div.sk-parallel-item:only-child::after {width: 0;}#sk-container-id-8 div.sk-dashed-wrapped {border: 1px dashed gray;margin: 0 0.4em 0.5em 0.4em;box-sizing: border-box;padding-bottom: 0.4em;background-color: white;}#sk-container-id-8 div.sk-label label {font-family: monospace;font-weight: bold;display: inline-block;line-height: 1.2em;}#sk-container-id-8 div.sk-label-container {text-align: center;}#sk-container-id-8 div.sk-container {/* jupyter's `normalize.less` sets `[hidden] { display: none; }` but bootstrap.min.css set `[hidden] { display: none !important; }` so we also need the `!important` here to be able to override the default hidden behavior on the sphinx rendered scikit-learn.org. See: https://github.com/scikit-learn/scikit-learn/issues/21755 */display: inline-block !important;position: relative;}#sk-container-id-8 div.sk-text-repr-fallback {display: none;}</style><div id=\"sk-container-id-8\" class=\"sk-top-container\"><div class=\"sk-text-repr-fallback\"><pre>RandomForestRegressor(max_features=&#x27;auto&#x27;, n_estimators=40, n_jobs=-1,\n",
       "                      random_state=42)</pre><b>In a Jupyter environment, please rerun this cell to show the HTML representation or trust the notebook. <br />On GitHub, the HTML representation is unable to render, please try loading this page with nbviewer.org.</b></div><div class=\"sk-container\" hidden><div class=\"sk-item\"><div class=\"sk-estimator sk-toggleable\"><input class=\"sk-toggleable__control sk-hidden--visually\" id=\"sk-estimator-id-14\" type=\"checkbox\" checked><label for=\"sk-estimator-id-14\" class=\"sk-toggleable__label sk-toggleable__label-arrow\">RandomForestRegressor</label><div class=\"sk-toggleable__content\"><pre>RandomForestRegressor(max_features=&#x27;auto&#x27;, n_estimators=40, n_jobs=-1,\n",
       "                      random_state=42)</pre></div></div></div></div></div>"
      ],
      "text/plain": [
       "RandomForestRegressor(max_features='auto', n_estimators=40, n_jobs=-1,\n",
       "                      random_state=42)"
      ]
     },
     "execution_count": 50,
     "metadata": {},
     "output_type": "execute_result"
    }
   ],
   "source": [
    "model2.fit(X_train,y_train)"
   ]
  },
  {
   "cell_type": "code",
   "execution_count": 51,
   "id": "dd5879b8",
   "metadata": {},
   "outputs": [
    {
     "data": {
      "text/plain": [
       "0.9908955437307362"
      ]
     },
     "execution_count": 51,
     "metadata": {},
     "output_type": "execute_result"
    }
   ],
   "source": [
    "model2.score(X_test,y_test)"
   ]
  },
  {
   "cell_type": "code",
   "execution_count": 52,
   "id": "593fa64d",
   "metadata": {},
   "outputs": [
    {
     "data": {
      "text/plain": [
       "5.540102396776354"
      ]
     },
     "execution_count": 52,
     "metadata": {},
     "output_type": "execute_result"
    }
   ],
   "source": [
    "smape(y_test,model2.predict(X_test))"
   ]
  },
  {
   "cell_type": "code",
   "execution_count": 53,
   "id": "ea674ade",
   "metadata": {},
   "outputs": [
    {
     "data": {
      "text/plain": [
       "array([0.23141743, 0.47541426, 0.24599463, 0.00500309, 0.00985544,\n",
       "       0.0034305 , 0.00914049, 0.0026172 , 0.00153378, 0.00140504,\n",
       "       0.0016733 , 0.00357382, 0.00364338, 0.00401799, 0.00127964])"
      ]
     },
     "execution_count": 53,
     "metadata": {},
     "output_type": "execute_result"
    }
   ],
   "source": [
    "model.feature_importances_"
   ]
  },
  {
   "cell_type": "code",
   "execution_count": 55,
   "id": "cbf96358",
   "metadata": {},
   "outputs": [
    {
     "data": {
      "text/plain": [
       "<BarContainer object of 15 artists>"
      ]
     },
     "execution_count": 55,
     "metadata": {},
     "output_type": "execute_result"
    },
    {
     "data": {
      "image/png": "[encoded data removed]",
      "text/plain": [
       "<Figure size 1500x1000 with 1 Axes>"
      ]
     },
     "metadata": {},
     "output_type": "display_data"
    },
    {
     "name": "stdout",
     "output_type": "stream",
     "text": [
      "[CV] END max_depth=5, max_features=0.5, min_samples_leaf=19, min_samples_split=14, n_estimators=80; total time=   4.2s\n",
      "[CV] END max_depth=3, max_features=sqrt, min_samples_leaf=13, min_samples_split=10, n_estimators=90; total time=   1.5s\n",
      "[CV] END max_depth=10, max_features=sqrt, min_samples_leaf=15, min_samples_split=14, n_estimators=40; total time=   1.9s\n",
      "[CV] END max_depth=10, max_features=1, min_samples_leaf=19, min_samples_split=6, n_estimators=80; total time=   1.8s\n",
      "[CV] END max_depth=3, max_features=auto, min_samples_leaf=15, min_samples_split=8, n_estimators=20; total time=   1.3s\n",
      "[CV] END max_depth=3, max_features=1, min_samples_leaf=9, min_samples_split=12, n_estimators=80; total time=   1.0s\n",
      "[CV] END max_depth=3, max_features=sqrt, min_samples_leaf=17, min_samples_split=16, n_estimators=80; total time=   1.6s\n",
      "[CV] END max_depth=3, max_features=sqrt, min_samples_leaf=17, min_samples_split=16, n_estimators=80; total time=   1.5s\n",
      "[CV] END max_depth=10, max_features=sqrt, min_samples_leaf=7, min_samples_split=12, n_estimators=90; total time=   4.1s\n",
      "[CV] END max_depth=10, max_features=sqrt, min_samples_leaf=7, min_samples_split=12, n_estimators=90; total time=   4.1s\n",
      "[CV] END max_depth=5, max_features=sqrt, min_samples_leaf=5, min_samples_split=14, n_estimators=70; total time=   2.0s\n",
      "[CV] END max_depth=None, max_features=0.5, min_samples_leaf=19, min_samples_split=10, n_estimators=50; total time=   5.9s\n",
      "[CV] END max_depth=None, max_features=auto, min_samples_leaf=1, min_samples_split=2, n_estimators=40; total time=  14.4s\n",
      "[CV] END max_depth=3, max_features=auto, min_samples_leaf=17, min_samples_split=18, n_estimators=70; total time=   4.6s\n",
      "[CV] END max_depth=3, max_features=auto, min_samples_leaf=17, min_samples_split=18, n_estimators=70; total time=   4.4s\n",
      "[CV] END max_depth=10, max_features=1, min_samples_leaf=13, min_samples_split=18, n_estimators=90; total time=   2.0s\n",
      "[CV] END max_depth=5, max_features=sqrt, min_samples_leaf=13, min_samples_split=18, n_estimators=90; total time=   2.3s\n",
      "[CV] END max_depth=5, max_features=auto, min_samples_leaf=9, min_samples_split=10, n_estimators=50; total time=   5.2s\n",
      "[CV] END max_depth=5, max_features=1, min_samples_leaf=13, min_samples_split=18, n_estimators=20; total time=   0.1s\n",
      "[CV] END max_depth=5, max_features=1, min_samples_leaf=13, min_samples_split=18, n_estimators=20; total time=   0.3s\n",
      "[CV] END max_depth=None, max_features=sqrt, min_samples_leaf=11, min_samples_split=6, n_estimators=50; total time=   3.1s\n",
      "[CV] END max_depth=None, max_features=auto, min_samples_leaf=7, min_samples_split=18, n_estimators=30; total time=   7.5s\n",
      "[CV] END max_depth=5, max_features=auto, min_samples_leaf=7, min_samples_split=4, n_estimators=60; total time=   6.0s\n",
      "[CV] END max_depth=None, max_features=0.5, min_samples_leaf=5, min_samples_split=8, n_estimators=10; total time=   1.7s\n",
      "[CV] END max_depth=None, max_features=auto, min_samples_leaf=7, min_samples_split=14, n_estimators=80; total time=  20.1s\n",
      "[CV] END max_depth=None, max_features=auto, min_samples_leaf=15, min_samples_split=2, n_estimators=90; total time=  20.6s\n",
      "[CV] END max_depth=None, max_features=auto, min_samples_leaf=5, min_samples_split=6, n_estimators=30; total time=   8.1s\n",
      "[CV] END max_depth=5, max_features=auto, min_samples_leaf=15, min_samples_split=18, n_estimators=70; total time=   7.0s\n",
      "[CV] END max_depth=5, max_features=auto, min_samples_leaf=19, min_samples_split=8, n_estimators=50; total time=   5.3s\n",
      "[CV] END max_depth=None, max_features=0.5, min_samples_leaf=19, min_samples_split=12, n_estimators=20; total time=   2.3s\n",
      "[CV] END max_depth=5, max_features=sqrt, min_samples_leaf=3, min_samples_split=12, n_estimators=10; total time=   0.1s\n",
      "[CV] END max_depth=5, max_features=sqrt, min_samples_leaf=3, min_samples_split=12, n_estimators=10; total time=   0.3s\n",
      "[CV] END max_depth=None, max_features=auto, min_samples_leaf=17, min_samples_split=18, n_estimators=30; total time=   7.0s\n",
      "[CV] END max_depth=10, max_features=0.5, min_samples_leaf=11, min_samples_split=6, n_estimators=50; total time=   4.7s\n",
      "[CV] END max_depth=None, max_features=1, min_samples_leaf=5, min_samples_split=12, n_estimators=50; total time=   1.7s\n",
      "[CV] END max_depth=10, max_features=sqrt, min_samples_leaf=7, min_samples_split=16, n_estimators=80; total time=   3.6s\n",
      "[CV] END max_depth=10, max_features=sqrt, min_samples_leaf=7, min_samples_split=16, n_estimators=80; total time=   3.7s\n",
      "[CV] END max_depth=10, max_features=1, min_samples_leaf=7, min_samples_split=8, n_estimators=60; total time=   1.1s\n",
      "[CV] END max_depth=10, max_features=1, min_samples_leaf=7, min_samples_split=8, n_estimators=60; total time=   0.8s\n",
      "[CV] END max_depth=5, max_features=1, min_samples_leaf=17, min_samples_split=12, n_estimators=70; total time=   1.0s\n",
      "[CV] END max_depth=5, max_features=0.5, min_samples_leaf=9, min_samples_split=16, n_estimators=70; total time=   3.7s\n",
      "[CV] END max_depth=3, max_features=auto, min_samples_leaf=1, min_samples_split=2, n_estimators=60; total time=   3.8s\n",
      "[CV] END max_depth=3, max_features=auto, min_samples_leaf=1, min_samples_split=2, n_estimators=60; total time=   3.8s\n",
      "[CV] END max_depth=3, max_features=1, min_samples_leaf=7, min_samples_split=2, n_estimators=50; total time=   0.4s\n",
      "[CV] END max_depth=3, max_features=1, min_samples_leaf=7, min_samples_split=2, n_estimators=50; total time=   0.5s\n",
      "[CV] END max_depth=10, max_features=0.5, min_samples_leaf=11, min_samples_split=12, n_estimators=40; total time=   3.8s\n",
      "[CV] END max_depth=None, max_features=1, min_samples_leaf=5, min_samples_split=6, n_estimators=60; total time=   2.2s\n",
      "[CV] END max_depth=None, max_features=1, min_samples_leaf=5, min_samples_split=6, n_estimators=60; total time=   2.0s\n",
      "[CV] END max_depth=10, max_features=sqrt, min_samples_leaf=5, min_samples_split=8, n_estimators=60; total time=   2.8s\n",
      "[CV] END max_depth=10, max_features=auto, min_samples_leaf=15, min_samples_split=6, n_estimators=90; total time=  17.0s\n",
      "[CV] END max_depth=None, max_features=1, min_samples_leaf=5, min_samples_split=10, n_estimators=90; total time=   3.5s\n",
      "[CV] END max_depth=5, max_features=1, min_samples_leaf=15, min_samples_split=8, n_estimators=90; total time=   1.2s\n",
      "[CV] END max_depth=5, max_features=1, min_samples_leaf=15, min_samples_split=8, n_estimators=90; total time=   1.0s\n",
      "[CV] END max_depth=5, max_features=0.5, min_samples_leaf=9, min_samples_split=14, n_estimators=60; total time=   3.1s\n",
      "[CV] END max_depth=5, max_features=0.5, min_samples_leaf=19, min_samples_split=14, n_estimators=80; total time=   4.6s\n",
      "[CV] END max_depth=3, max_features=sqrt, min_samples_leaf=9, min_samples_split=2, n_estimators=80; total time=   1.4s\n",
      "[CV] END max_depth=10, max_features=sqrt, min_samples_leaf=15, min_samples_split=14, n_estimators=40; total time=   2.0s\n",
      "[CV] END max_depth=3, max_features=auto, min_samples_leaf=1, min_samples_split=16, n_estimators=20; total time=   1.4s\n",
      "[CV] END max_depth=None, max_features=0.5, min_samples_leaf=11, min_samples_split=14, n_estimators=80; total time=  10.0s\n",
      "[CV] END max_depth=10, max_features=sqrt, min_samples_leaf=1, min_samples_split=6, n_estimators=60; total time=   2.8s\n",
      "[CV] END max_depth=10, max_features=1, min_samples_leaf=15, min_samples_split=4, n_estimators=60; total time=   1.5s\n",
      "[CV] END max_depth=None, max_features=sqrt, min_samples_leaf=1, min_samples_split=16, n_estimators=30; total time=   2.1s\n",
      "[CV] END max_depth=10, max_features=1, min_samples_leaf=1, min_samples_split=12, n_estimators=90; total time=   2.3s\n",
      "[CV] END max_depth=10, max_features=1, min_samples_leaf=1, min_samples_split=12, n_estimators=90; total time=   2.1s\n",
      "[CV] END max_depth=5, max_features=0.5, min_samples_leaf=11, min_samples_split=16, n_estimators=20; total time=   0.9s\n",
      "[CV] END max_depth=None, max_features=auto, min_samples_leaf=1, min_samples_split=2, n_estimators=40; total time=  13.9s\n",
      "[CV] END max_depth=10, max_features=auto, min_samples_leaf=3, min_samples_split=18, n_estimators=70; total time=  13.5s\n",
      "[CV] END max_depth=5, max_features=auto, min_samples_leaf=9, min_samples_split=10, n_estimators=50; total time=   5.5s\n",
      "[CV] END max_depth=5, max_features=1, min_samples_leaf=13, min_samples_split=18, n_estimators=20; total time=   0.2s\n",
      "[CV] END max_depth=None, max_features=sqrt, min_samples_leaf=11, min_samples_split=6, n_estimators=50; total time=   3.0s\n",
      "[CV] END max_depth=None, max_features=auto, min_samples_leaf=7, min_samples_split=18, n_estimators=30; total time=   7.5s\n",
      "[CV] END max_depth=5, max_features=auto, min_samples_leaf=7, min_samples_split=4, n_estimators=60; total time=   5.9s\n",
      "[CV] END max_depth=None, max_features=0.5, min_samples_leaf=5, min_samples_split=8, n_estimators=10; total time=   1.6s\n",
      "[CV] END max_depth=None, max_features=auto, min_samples_leaf=7, min_samples_split=14, n_estimators=80; total time=  20.1s\n",
      "[CV] END max_depth=None, max_features=auto, min_samples_leaf=15, min_samples_split=2, n_estimators=90; total time=  20.9s\n",
      "[CV] END max_depth=None, max_features=auto, min_samples_leaf=5, min_samples_split=6, n_estimators=30; total time=   8.2s\n",
      "[CV] END max_depth=3, max_features=auto, min_samples_leaf=13, min_samples_split=18, n_estimators=80; total time=   5.0s\n",
      "[CV] END max_depth=3, max_features=sqrt, min_samples_leaf=15, min_samples_split=14, n_estimators=60; total time=   0.9s\n",
      "[CV] END max_depth=5, max_features=0.5, min_samples_leaf=15, min_samples_split=12, n_estimators=80; total time=   4.2s\n",
      "[CV] END max_depth=10, max_features=1, min_samples_leaf=5, min_samples_split=14, n_estimators=30; total time=   0.6s\n",
      "[CV] END max_depth=10, max_features=1, min_samples_leaf=5, min_samples_split=14, n_estimators=30; total time=   0.6s\n",
      "[CV] END max_depth=None, max_features=0.5, min_samples_leaf=19, min_samples_split=12, n_estimators=20; total time=   2.4s\n",
      "[CV] END max_depth=10, max_features=auto, min_samples_leaf=1, min_samples_split=14, n_estimators=30; total time=   5.5s\n",
      "[CV] END max_depth=10, max_features=0.5, min_samples_leaf=11, min_samples_split=6, n_estimators=50; total time=   4.7s\n",
      "[CV] END max_depth=None, max_features=1, min_samples_leaf=19, min_samples_split=12, n_estimators=20; total time=   0.5s\n",
      "[CV] END max_depth=3, max_features=0.5, min_samples_leaf=17, min_samples_split=14, n_estimators=20; total time=   0.6s\n",
      "[CV] END max_depth=5, max_features=1, min_samples_leaf=7, min_samples_split=6, n_estimators=50; total time=   0.5s\n",
      "[CV] END max_depth=None, max_features=auto, min_samples_leaf=15, min_samples_split=18, n_estimators=50; total time=  11.8s\n",
      "[CV] END max_depth=5, max_features=1, min_samples_leaf=17, min_samples_split=12, n_estimators=70; total time=   1.0s\n",
      "[CV] END max_depth=5, max_features=auto, min_samples_leaf=19, min_samples_split=12, n_estimators=90; total time=   9.2s\n",
      "[CV] END max_depth=None, max_features=0.5, min_samples_leaf=3, min_samples_split=18, n_estimators=90; total time=  11.8s\n",
      "[CV] END max_depth=10, max_features=sqrt, min_samples_leaf=5, min_samples_split=8, n_estimators=60; total time=   2.7s\n",
      "[CV] END max_depth=5, max_features=1, min_samples_leaf=9, min_samples_split=4, n_estimators=70; total time=   0.9s\n",
      "[CV] END max_depth=5, max_features=1, min_samples_leaf=9, min_samples_split=4, n_estimators=70; total time=   1.0s\n",
      "[CV] END max_depth=10, max_features=sqrt, min_samples_leaf=17, min_samples_split=2, n_estimators=30; total time=   1.3s\n",
      "[CV] END max_depth=10, max_features=sqrt, min_samples_leaf=17, min_samples_split=2, n_estimators=30; total time=   1.4s\n",
      "[CV] END max_depth=5, max_features=auto, min_samples_leaf=13, min_samples_split=16, n_estimators=90; total time=   9.2s\n",
      "[CV] END max_depth=5, max_features=auto, min_samples_leaf=13, min_samples_split=16, n_estimators=90; total time=   8.5s\n",
      "[CV] END max_depth=5, max_features=0.5, min_samples_leaf=9, min_samples_split=14, n_estimators=60; total time=   3.0s\n"
     ]
    },
    {
     "name": "stdout",
     "output_type": "stream",
     "text": [
      "[CV] END max_depth=None, max_features=1, min_samples_leaf=1, min_samples_split=12, n_estimators=60; total time=   2.6s\n",
      "[CV] END max_depth=None, max_features=1, min_samples_leaf=1, min_samples_split=12, n_estimators=60; total time=   2.2s\n",
      "[CV] END max_depth=3, max_features=sqrt, min_samples_leaf=9, min_samples_split=2, n_estimators=80; total time=   1.4s\n",
      "[CV] END max_depth=10, max_features=1, min_samples_leaf=19, min_samples_split=6, n_estimators=80; total time=   1.8s\n",
      "[CV] END max_depth=3, max_features=auto, min_samples_leaf=1, min_samples_split=16, n_estimators=20; total time=   1.5s\n",
      "[CV] END max_depth=None, max_features=0.5, min_samples_leaf=11, min_samples_split=14, n_estimators=80; total time=  10.4s\n",
      "[CV] END max_depth=10, max_features=sqrt, min_samples_leaf=1, min_samples_split=6, n_estimators=60; total time=   2.7s\n",
      "[CV] END max_depth=5, max_features=sqrt, min_samples_leaf=5, min_samples_split=14, n_estimators=70; total time=   2.0s\n",
      "[CV] END max_depth=None, max_features=sqrt, min_samples_leaf=1, min_samples_split=16, n_estimators=30; total time=   1.9s\n",
      "[CV] END max_depth=10, max_features=1, min_samples_leaf=1, min_samples_split=12, n_estimators=90; total time=   2.2s\n",
      "[CV] END max_depth=10, max_features=1, min_samples_leaf=1, min_samples_split=12, n_estimators=90; total time=   2.0s\n",
      "[CV] END max_depth=5, max_features=0.5, min_samples_leaf=11, min_samples_split=16, n_estimators=20; total time=   1.0s\n",
      "[CV] END max_depth=3, max_features=sqrt, min_samples_leaf=11, min_samples_split=12, n_estimators=20; total time=   0.3s\n",
      "[CV] END max_depth=3, max_features=sqrt, min_samples_leaf=11, min_samples_split=12, n_estimators=20; total time=   0.4s\n",
      "[CV] END max_depth=3, max_features=sqrt, min_samples_leaf=5, min_samples_split=8, n_estimators=30; total time=   0.7s\n",
      "[CV] END max_depth=3, max_features=auto, min_samples_leaf=19, min_samples_split=6, n_estimators=40; total time=   2.7s\n",
      "[CV] END max_depth=3, max_features=auto, min_samples_leaf=19, min_samples_split=6, n_estimators=40; total time=   2.5s\n",
      "[CV] END max_depth=None, max_features=1, min_samples_leaf=9, min_samples_split=12, n_estimators=60; total time=   2.1s\n",
      "[CV] END max_depth=3, max_features=1, min_samples_leaf=13, min_samples_split=6, n_estimators=20; total time=   0.1s\n",
      "[CV] END max_depth=3, max_features=1, min_samples_leaf=13, min_samples_split=6, n_estimators=20; total time=   0.3s\n",
      "[CV] END max_depth=3, max_features=0.5, min_samples_leaf=3, min_samples_split=16, n_estimators=20; total time=   0.7s\n",
      "[CV] END max_depth=3, max_features=0.5, min_samples_leaf=3, min_samples_split=16, n_estimators=20; total time=   0.6s\n",
      "[CV] END max_depth=10, max_features=auto, min_samples_leaf=3, min_samples_split=18, n_estimators=70; total time=  13.5s\n",
      "[CV] END max_depth=5, max_features=sqrt, min_samples_leaf=13, min_samples_split=18, n_estimators=90; total time=   2.3s\n",
      "[CV] END max_depth=5, max_features=auto, min_samples_leaf=9, min_samples_split=10, n_estimators=50; total time=   5.1s\n",
      "[CV] END max_depth=None, max_features=auto, min_samples_leaf=3, min_samples_split=12, n_estimators=30; total time=   8.0s\n",
      "[CV] END max_depth=5, max_features=auto, min_samples_leaf=7, min_samples_split=4, n_estimators=60; total time=   6.0s\n",
      "[CV] END max_depth=None, max_features=0.5, min_samples_leaf=5, min_samples_split=8, n_estimators=10; total time=   1.9s\n",
      "[CV] END max_depth=None, max_features=0.5, min_samples_leaf=5, min_samples_split=8, n_estimators=10; total time=   1.7s\n",
      "[CV] END max_depth=None, max_features=0.5, min_samples_leaf=5, min_samples_split=8, n_estimators=10; total time=   1.7s\n",
      "[CV] END max_depth=None, max_features=auto, min_samples_leaf=7, min_samples_split=14, n_estimators=80; total time=  20.2s\n",
      "[CV] END max_depth=3, max_features=1, min_samples_leaf=15, min_samples_split=10, n_estimators=60; total time=   0.7s\n",
      "[CV] END max_depth=3, max_features=1, min_samples_leaf=15, min_samples_split=10, n_estimators=60; total time=   0.5s\n",
      "[CV] END max_depth=None, max_features=sqrt, min_samples_leaf=7, min_samples_split=10, n_estimators=10; total time=   0.6s\n",
      "[CV] END max_depth=None, max_features=sqrt, min_samples_leaf=7, min_samples_split=10, n_estimators=10; total time=   0.4s\n",
      "[CV] END max_depth=5, max_features=1, min_samples_leaf=11, min_samples_split=10, n_estimators=40; total time=   0.6s\n",
      "[CV] END max_depth=None, max_features=1, min_samples_leaf=11, min_samples_split=12, n_estimators=80; total time=   2.7s\n",
      "[CV] END max_depth=10, max_features=sqrt, min_samples_leaf=1, min_samples_split=14, n_estimators=10; total time=   0.6s\n",
      "[CV] END max_depth=10, max_features=sqrt, min_samples_leaf=1, min_samples_split=14, n_estimators=10; total time=   0.5s\n",
      "[CV] END max_depth=10, max_features=sqrt, min_samples_leaf=1, min_samples_split=14, n_estimators=10; total time=   0.5s\n",
      "[CV] END max_depth=3, max_features=0.5, min_samples_leaf=7, min_samples_split=18, n_estimators=20; total time=   0.6s\n",
      "[CV] END max_depth=3, max_features=0.5, min_samples_leaf=7, min_samples_split=18, n_estimators=20; total time=   0.7s\n",
      "[CV] END max_depth=5, max_features=sqrt, min_samples_leaf=19, min_samples_split=4, n_estimators=10; total time=   0.2s\n",
      "[CV] END max_depth=5, max_features=sqrt, min_samples_leaf=19, min_samples_split=4, n_estimators=10; total time=   0.4s\n",
      "[CV] END max_depth=10, max_features=1, min_samples_leaf=13, min_samples_split=16, n_estimators=20; total time=   0.5s\n",
      "[CV] END max_depth=3, max_features=sqrt, min_samples_leaf=13, min_samples_split=12, n_estimators=30; total time=   0.4s\n",
      "[CV] END max_depth=10, max_features=1, min_samples_leaf=3, min_samples_split=4, n_estimators=80; total time=   2.1s\n",
      "[CV] END max_depth=5, max_features=sqrt, min_samples_leaf=17, min_samples_split=10, n_estimators=90; total time=   2.5s\n",
      "[CV] END max_depth=10, max_features=0.5, min_samples_leaf=13, min_samples_split=12, n_estimators=30; total time=   2.8s\n",
      "[CV] END max_depth=10, max_features=0.5, min_samples_leaf=13, min_samples_split=8, n_estimators=10; total time=   1.0s\n",
      "[CV] END max_depth=10, max_features=1, min_samples_leaf=13, min_samples_split=2, n_estimators=10; total time=   0.2s\n",
      "[CV] END max_depth=5, max_features=1, min_samples_leaf=5, min_samples_split=14, n_estimators=80; total time=   1.1s\n",
      "[CV] END max_depth=5, max_features=0.5, min_samples_leaf=13, min_samples_split=18, n_estimators=40; total time=   2.2s\n",
      "[CV] END max_depth=5, max_features=auto, min_samples_leaf=15, min_samples_split=18, n_estimators=70; total time=   6.9s\n",
      "[CV] END max_depth=3, max_features=auto, min_samples_leaf=13, min_samples_split=18, n_estimators=80; total time=   4.8s\n",
      "[CV] END max_depth=5, max_features=0.5, min_samples_leaf=15, min_samples_split=12, n_estimators=80; total time=   4.2s\n",
      "[CV] END max_depth=10, max_features=1, min_samples_leaf=5, min_samples_split=14, n_estimators=30; total time=   0.9s\n",
      "[CV] END max_depth=10, max_features=1, min_samples_leaf=5, min_samples_split=14, n_estimators=30; total time=   0.7s\n",
      "[CV] END max_depth=None, max_features=0.5, min_samples_leaf=19, min_samples_split=12, n_estimators=20; total time=   2.3s\n",
      "[CV] END max_depth=10, max_features=auto, min_samples_leaf=1, min_samples_split=14, n_estimators=30; total time=   5.7s\n",
      "[CV] END max_depth=10, max_features=0.5, min_samples_leaf=11, min_samples_split=6, n_estimators=50; total time=   4.6s\n",
      "[CV] END max_depth=3, max_features=0.5, min_samples_leaf=17, min_samples_split=14, n_estimators=20; total time=   0.6s\n",
      "[CV] END max_depth=5, max_features=1, min_samples_leaf=7, min_samples_split=6, n_estimators=50; total time=   0.6s\n",
      "[CV] END max_depth=None, max_features=auto, min_samples_leaf=15, min_samples_split=18, n_estimators=50; total time=  12.0s\n",
      "[CV] END max_depth=5, max_features=1, min_samples_leaf=17, min_samples_split=12, n_estimators=70; total time=   1.1s\n",
      "[CV] END max_depth=5, max_features=0.5, min_samples_leaf=9, min_samples_split=16, n_estimators=70; total time=   3.5s\n",
      "[CV] END max_depth=5, max_features=0.5, min_samples_leaf=9, min_samples_split=16, n_estimators=70; total time=   3.5s\n",
      "[CV] END max_depth=3, max_features=auto, min_samples_leaf=1, min_samples_split=2, n_estimators=60; total time=   3.6s\n",
      "[CV] END max_depth=None, max_features=0.5, min_samples_leaf=3, min_samples_split=18, n_estimators=90; total time=  12.0s\n",
      "[CV] END max_depth=10, max_features=auto, min_samples_leaf=15, min_samples_split=6, n_estimators=90; total time=  16.9s\n",
      "[CV] END max_depth=None, max_features=1, min_samples_leaf=5, min_samples_split=10, n_estimators=90; total time=   3.5s\n",
      "[CV] END max_depth=3, max_features=auto, min_samples_leaf=19, min_samples_split=10, n_estimators=50; total time=   2.8s\n",
      "[CV] END max_depth=5, max_features=0.5, min_samples_leaf=9, min_samples_split=14, n_estimators=60; total time=   3.2s\n",
      "[CV] END max_depth=None, max_features=1, min_samples_leaf=1, min_samples_split=12, n_estimators=60; total time=   2.6s\n",
      "[CV] END max_depth=None, max_features=1, min_samples_leaf=1, min_samples_split=12, n_estimators=60; total time=   2.5s\n",
      "[CV] END max_depth=3, max_features=sqrt, min_samples_leaf=9, min_samples_split=2, n_estimators=80; total time=   1.3s\n",
      "[CV] END max_depth=10, max_features=1, min_samples_leaf=19, min_samples_split=6, n_estimators=80; total time=   2.0s\n",
      "[CV] END max_depth=3, max_features=auto, min_samples_leaf=1, min_samples_split=16, n_estimators=20; total time=   1.3s\n",
      "[CV] END max_depth=None, max_features=0.5, min_samples_leaf=11, min_samples_split=14, n_estimators=80; total time=  10.0s\n",
      "[CV] END max_depth=10, max_features=sqrt, min_samples_leaf=1, min_samples_split=6, n_estimators=60; total time=   2.7s\n",
      "[CV] END max_depth=5, max_features=sqrt, min_samples_leaf=5, min_samples_split=14, n_estimators=70; total time=   2.0s\n",
      "[CV] END max_depth=None, max_features=sqrt, min_samples_leaf=1, min_samples_split=16, n_estimators=30; total time=   2.1s\n",
      "[CV] END max_depth=10, max_features=1, min_samples_leaf=1, min_samples_split=12, n_estimators=90; total time=   2.3s\n",
      "[CV] END max_depth=5, max_features=0.5, min_samples_leaf=11, min_samples_split=16, n_estimators=20; total time=   1.0s\n",
      "[CV] END max_depth=5, max_features=0.5, min_samples_leaf=11, min_samples_split=16, n_estimators=20; total time=   0.8s\n",
      "[CV] END max_depth=5, max_features=0.5, min_samples_leaf=11, min_samples_split=16, n_estimators=20; total time=   1.1s\n",
      "[CV] END max_depth=3, max_features=sqrt, min_samples_leaf=11, min_samples_split=12, n_estimators=20; total time=   0.3s\n",
      "[CV] END max_depth=3, max_features=sqrt, min_samples_leaf=11, min_samples_split=12, n_estimators=20; total time=   0.3s\n",
      "[CV] END max_depth=3, max_features=sqrt, min_samples_leaf=5, min_samples_split=8, n_estimators=30; total time=   0.5s\n",
      "[CV] END max_depth=3, max_features=sqrt, min_samples_leaf=5, min_samples_split=8, n_estimators=30; total time=   0.6s\n",
      "[CV] END max_depth=3, max_features=auto, min_samples_leaf=19, min_samples_split=6, n_estimators=40; total time=   2.7s\n",
      "[CV] END max_depth=None, max_features=1, min_samples_leaf=9, min_samples_split=12, n_estimators=60; total time=   2.0s\n",
      "[CV] END max_depth=None, max_features=1, min_samples_leaf=9, min_samples_split=12, n_estimators=60; total time=   1.9s\n",
      "[CV] END max_depth=None, max_features=1, min_samples_leaf=9, min_samples_split=12, n_estimators=60; total time=   2.0s\n",
      "[CV] END max_depth=3, max_features=0.5, min_samples_leaf=3, min_samples_split=16, n_estimators=20; total time=   0.7s\n",
      "[CV] END max_depth=10, max_features=auto, min_samples_leaf=3, min_samples_split=18, n_estimators=70; total time=  13.5s\n",
      "[CV] END max_depth=5, max_features=sqrt, min_samples_leaf=13, min_samples_split=18, n_estimators=90; total time=   2.4s\n",
      "[CV] END max_depth=None, max_features=auto, min_samples_leaf=3, min_samples_split=12, n_estimators=30; total time=   8.2s\n",
      "[CV] END max_depth=None, max_features=auto, min_samples_leaf=7, min_samples_split=18, n_estimators=30; total time=   7.6s\n",
      "[CV] END max_depth=10, max_features=0.5, min_samples_leaf=7, min_samples_split=8, n_estimators=90; total time=   8.2s\n",
      "[CV] END max_depth=None, max_features=auto, min_samples_leaf=7, min_samples_split=14, n_estimators=80; total time=  20.1s\n",
      "[CV] END max_depth=3, max_features=1, min_samples_leaf=15, min_samples_split=10, n_estimators=60; total time=   0.6s\n",
      "[CV] END max_depth=3, max_features=1, min_samples_leaf=15, min_samples_split=10, n_estimators=60; total time=   0.5s\n",
      "[CV] END max_depth=None, max_features=sqrt, min_samples_leaf=7, min_samples_split=10, n_estimators=10; total time=   0.7s\n",
      "[CV] END max_depth=5, max_features=1, min_samples_leaf=11, min_samples_split=10, n_estimators=40; total time=   0.5s\n",
      "[CV] END max_depth=None, max_features=1, min_samples_leaf=11, min_samples_split=12, n_estimators=80; total time=   2.7s\n",
      "[CV] END max_depth=None, max_features=1, min_samples_leaf=17, min_samples_split=16, n_estimators=80; total time=   2.5s\n",
      "[CV] END max_depth=3, max_features=0.5, min_samples_leaf=7, min_samples_split=18, n_estimators=20; total time=   0.7s\n",
      "[CV] END max_depth=3, max_features=0.5, min_samples_leaf=17, min_samples_split=2, n_estimators=30; total time=   0.9s\n",
      "[CV] END max_depth=10, max_features=1, min_samples_leaf=13, min_samples_split=16, n_estimators=20; total time=   0.5s\n",
      "[CV] END max_depth=3, max_features=sqrt, min_samples_leaf=13, min_samples_split=12, n_estimators=30; total time=   0.5s\n",
      "[CV] END max_depth=5, max_features=sqrt, min_samples_leaf=17, min_samples_split=10, n_estimators=90; total time=   2.3s\n",
      "[CV] END max_depth=10, max_features=1, min_samples_leaf=1, min_samples_split=6, n_estimators=80; total time=   1.8s\n",
      "[CV] END max_depth=10, max_features=0.5, min_samples_leaf=13, min_samples_split=12, n_estimators=30; total time=   2.9s\n",
      "[CV] END max_depth=10, max_features=0.5, min_samples_leaf=13, min_samples_split=8, n_estimators=10; total time=   1.1s\n",
      "[CV] END max_depth=10, max_features=0.5, min_samples_leaf=13, min_samples_split=8, n_estimators=10; total time=   0.8s\n",
      "[CV] END max_depth=None, max_features=auto, min_samples_leaf=5, min_samples_split=6, n_estimators=30; total time=   8.2s\n",
      "[CV] END max_depth=5, max_features=auto, min_samples_leaf=15, min_samples_split=18, n_estimators=70; total time=   6.8s\n",
      "[CV] END max_depth=5, max_features=auto, min_samples_leaf=19, min_samples_split=8, n_estimators=50; total time=   5.4s\n",
      "[CV] END max_depth=None, max_features=0.5, min_samples_leaf=19, min_samples_split=12, n_estimators=20; total time=   2.3s\n",
      "[CV] END max_depth=10, max_features=auto, min_samples_leaf=1, min_samples_split=14, n_estimators=30; total time=   5.6s\n",
      "[CV] END max_depth=10, max_features=0.5, min_samples_leaf=11, min_samples_split=6, n_estimators=50; total time=   4.8s\n",
      "[CV] END max_depth=3, max_features=0.5, min_samples_leaf=17, min_samples_split=14, n_estimators=20; total time=   0.5s\n",
      "[CV] END max_depth=3, max_features=0.5, min_samples_leaf=17, min_samples_split=14, n_estimators=20; total time=   0.6s\n",
      "[CV] END max_depth=5, max_features=1, min_samples_leaf=7, min_samples_split=6, n_estimators=50; total time=   0.9s\n",
      "[CV] END max_depth=None, max_features=1, min_samples_leaf=5, min_samples_split=12, n_estimators=50; total time=   1.9s\n",
      "[CV] END max_depth=None, max_features=1, min_samples_leaf=5, min_samples_split=12, n_estimators=50; total time=   1.8s\n",
      "[CV] END max_depth=10, max_features=sqrt, min_samples_leaf=7, min_samples_split=16, n_estimators=80; total time=   3.7s\n",
      "[CV] END max_depth=10, max_features=sqrt, min_samples_leaf=7, min_samples_split=16, n_estimators=80; total time=   3.4s\n",
      "[CV] END max_depth=3, max_features=0.5, min_samples_leaf=15, min_samples_split=10, n_estimators=10; total time=   0.1s\n",
      "[CV] END max_depth=3, max_features=0.5, min_samples_leaf=15, min_samples_split=10, n_estimators=10; total time=   0.1s\n",
      "[CV] END max_depth=3, max_features=0.5, min_samples_leaf=15, min_samples_split=10, n_estimators=10; total time=   0.1s\n",
      "[CV] END max_depth=3, max_features=0.5, min_samples_leaf=15, min_samples_split=10, n_estimators=10; total time=   0.3s\n",
      "[CV] END max_depth=5, max_features=auto, min_samples_leaf=19, min_samples_split=12, n_estimators=90; total time=   9.0s\n",
      "[CV] END max_depth=3, max_features=auto, min_samples_leaf=1, min_samples_split=2, n_estimators=60; total time=   3.7s\n",
      "[CV] END max_depth=3, max_features=1, min_samples_leaf=7, min_samples_split=2, n_estimators=50; total time=   0.3s\n",
      "[CV] END max_depth=10, max_features=0.5, min_samples_leaf=11, min_samples_split=12, n_estimators=40; total time=   3.6s\n",
      "[CV] END max_depth=10, max_features=0.5, min_samples_leaf=11, min_samples_split=12, n_estimators=40; total time=   3.6s\n",
      "[CV] END max_depth=None, max_features=1, min_samples_leaf=5, min_samples_split=6, n_estimators=60; total time=   2.2s\n",
      "[CV] END max_depth=10, max_features=auto, min_samples_leaf=15, min_samples_split=6, n_estimators=90; total time=  17.1s\n",
      "[CV] END max_depth=None, max_features=1, min_samples_leaf=5, min_samples_split=10, n_estimators=90; total time=   3.1s\n",
      "[CV] END max_depth=3, max_features=auto, min_samples_leaf=19, min_samples_split=10, n_estimators=50; total time=   3.2s\n",
      "[CV] END max_depth=5, max_features=1, min_samples_leaf=15, min_samples_split=8, n_estimators=90; total time=   1.4s\n",
      "[CV] END max_depth=5, max_features=1, min_samples_leaf=15, min_samples_split=14, n_estimators=60; total time=   1.0s\n",
      "[CV] END max_depth=5, max_features=sqrt, min_samples_leaf=11, min_samples_split=6, n_estimators=70; total time=   1.5s\n",
      "[CV] END max_depth=5, max_features=0.5, min_samples_leaf=19, min_samples_split=14, n_estimators=80; total time=   4.0s\n",
      "[CV] END max_depth=3, max_features=sqrt, min_samples_leaf=13, min_samples_split=10, n_estimators=90; total time=   1.5s\n",
      "[CV] END max_depth=3, max_features=sqrt, min_samples_leaf=9, min_samples_split=2, n_estimators=80; total time=   1.5s\n",
      "[CV] END max_depth=10, max_features=1, min_samples_leaf=19, min_samples_split=6, n_estimators=80; total time=   1.8s\n",
      "[CV] END max_depth=3, max_features=auto, min_samples_leaf=15, min_samples_split=8, n_estimators=20; total time=   1.3s\n",
      "[CV] END max_depth=None, max_features=0.5, min_samples_leaf=11, min_samples_split=14, n_estimators=80; total time=   9.9s\n",
      "[CV] END max_depth=10, max_features=sqrt, min_samples_leaf=1, min_samples_split=6, n_estimators=60; total time=   3.0s\n",
      "[CV] END max_depth=5, max_features=sqrt, min_samples_leaf=5, min_samples_split=14, n_estimators=70; total time=   2.2s\n",
      "[CV] END max_depth=None, max_features=0.5, min_samples_leaf=19, min_samples_split=10, n_estimators=50; total time=   5.8s\n",
      "[CV] END max_depth=None, max_features=auto, min_samples_leaf=1, min_samples_split=2, n_estimators=40; total time=  14.5s\n",
      "[CV] END max_depth=3, max_features=auto, min_samples_leaf=17, min_samples_split=18, n_estimators=70; total time=   4.6s\n",
      "[CV] END max_depth=3, max_features=auto, min_samples_leaf=17, min_samples_split=18, n_estimators=70; total time=   4.3s\n",
      "[CV] END max_depth=10, max_features=1, min_samples_leaf=13, min_samples_split=18, n_estimators=90; total time=   2.0s\n",
      "[CV] END max_depth=5, max_features=sqrt, min_samples_leaf=13, min_samples_split=18, n_estimators=90; total time=   2.5s\n",
      "[CV] END max_depth=None, max_features=auto, min_samples_leaf=3, min_samples_split=12, n_estimators=30; total time=   7.8s\n",
      "[CV] END max_depth=None, max_features=sqrt, min_samples_leaf=11, min_samples_split=6, n_estimators=50; total time=   3.0s\n",
      "[CV] END max_depth=5, max_features=auto, min_samples_leaf=7, min_samples_split=4, n_estimators=60; total time=   5.9s\n",
      "[CV] END max_depth=10, max_features=0.5, min_samples_leaf=7, min_samples_split=8, n_estimators=90; total time=   8.4s\n",
      "[CV] END max_depth=None, max_features=auto, min_samples_leaf=15, min_samples_split=2, n_estimators=90; total time=  21.0s\n",
      "[CV] END max_depth=5, max_features=1, min_samples_leaf=11, min_samples_split=10, n_estimators=40; total time=   0.5s\n",
      "[CV] END max_depth=None, max_features=1, min_samples_leaf=11, min_samples_split=12, n_estimators=80; total time=   2.7s\n",
      "[CV] END max_depth=None, max_features=1, min_samples_leaf=17, min_samples_split=16, n_estimators=80; total time=   2.6s\n",
      "[CV] END max_depth=3, max_features=0.5, min_samples_leaf=7, min_samples_split=18, n_estimators=20; total time=   0.6s\n",
      "[CV] END max_depth=3, max_features=0.5, min_samples_leaf=17, min_samples_split=2, n_estimators=30; total time=   0.9s\n",
      "[CV] END max_depth=3, max_features=sqrt, min_samples_leaf=13, min_samples_split=12, n_estimators=30; total time=   0.6s\n",
      "[CV] END max_depth=10, max_features=1, min_samples_leaf=3, min_samples_split=4, n_estimators=80; total time=   1.7s\n",
      "[CV] END max_depth=5, max_features=sqrt, min_samples_leaf=17, min_samples_split=10, n_estimators=90; total time=   2.4s\n",
      "[CV] END max_depth=10, max_features=1, min_samples_leaf=1, min_samples_split=6, n_estimators=80; total time=   2.1s\n",
      "[CV] END max_depth=5, max_features=sqrt, min_samples_leaf=9, min_samples_split=4, n_estimators=10; total time=   0.3s\n",
      "[CV] END max_depth=5, max_features=sqrt, min_samples_leaf=9, min_samples_split=4, n_estimators=10; total time=   0.3s\n",
      "[CV] END max_depth=5, max_features=sqrt, min_samples_leaf=9, min_samples_split=4, n_estimators=10; total time=   0.1s\n",
      "[CV] END max_depth=5, max_features=sqrt, min_samples_leaf=9, min_samples_split=4, n_estimators=10; total time=   0.2s\n",
      "[CV] END max_depth=5, max_features=sqrt, min_samples_leaf=9, min_samples_split=4, n_estimators=10; total time=   0.3s\n",
      "[CV] END max_depth=10, max_features=0.5, min_samples_leaf=13, min_samples_split=8, n_estimators=10; total time=   1.0s\n",
      "[CV] END max_depth=10, max_features=1, min_samples_leaf=13, min_samples_split=2, n_estimators=10; total time=   0.1s\n",
      "[CV] END max_depth=5, max_features=1, min_samples_leaf=5, min_samples_split=14, n_estimators=80; total time=   1.3s\n",
      "[CV] END max_depth=5, max_features=0.5, min_samples_leaf=13, min_samples_split=18, n_estimators=40; total time=   2.0s\n",
      "[CV] END max_depth=5, max_features=0.5, min_samples_leaf=13, min_samples_split=18, n_estimators=40; total time=   2.0s\n",
      "[CV] END max_depth=5, max_features=auto, min_samples_leaf=15, min_samples_split=18, n_estimators=70; total time=   6.8s\n",
      "[CV] END max_depth=3, max_features=sqrt, min_samples_leaf=15, min_samples_split=14, n_estimators=60; total time=   1.0s\n",
      "[CV] END max_depth=3, max_features=sqrt, min_samples_leaf=15, min_samples_split=14, n_estimators=60; total time=   1.0s\n",
      "[CV] END max_depth=3, max_features=sqrt, min_samples_leaf=15, min_samples_split=14, n_estimators=60; total time=   1.0s\n",
      "[CV] END max_depth=5, max_features=0.5, min_samples_leaf=15, min_samples_split=12, n_estimators=80; total time=   4.3s\n",
      "[CV] END max_depth=10, max_features=1, min_samples_leaf=5, min_samples_split=14, n_estimators=30; total time=   0.7s\n",
      "[CV] END max_depth=None, max_features=0.5, min_samples_leaf=19, min_samples_split=12, n_estimators=20; total time=   2.4s\n",
      "[CV] END max_depth=10, max_features=auto, min_samples_leaf=1, min_samples_split=14, n_estimators=30; total time=   5.5s\n",
      "[CV] END max_depth=None, max_features=auto, min_samples_leaf=17, min_samples_split=18, n_estimators=30; total time=   6.7s\n",
      "[CV] END max_depth=None, max_features=auto, min_samples_leaf=15, min_samples_split=18, n_estimators=50; total time=  11.9s\n",
      "[CV] END max_depth=5, max_features=1, min_samples_leaf=17, min_samples_split=12, n_estimators=70; total time=   1.1s\n",
      "[CV] END max_depth=5, max_features=0.5, min_samples_leaf=9, min_samples_split=16, n_estimators=70; total time=   3.6s\n",
      "[CV] END max_depth=5, max_features=0.5, min_samples_leaf=9, min_samples_split=16, n_estimators=70; total time=   3.6s\n",
      "[CV] END max_depth=3, max_features=auto, min_samples_leaf=1, min_samples_split=2, n_estimators=60; total time=   3.7s\n",
      "[CV] END max_depth=3, max_features=1, min_samples_leaf=7, min_samples_split=2, n_estimators=50; total time=   0.5s\n",
      "[CV] END max_depth=3, max_features=1, min_samples_leaf=7, min_samples_split=2, n_estimators=50; total time=   0.6s\n",
      "[CV] END max_depth=10, max_features=0.5, min_samples_leaf=11, min_samples_split=12, n_estimators=40; total time=   3.7s\n",
      "[CV] END max_depth=10, max_features=0.5, min_samples_leaf=11, min_samples_split=12, n_estimators=40; total time=   3.6s\n",
      "[CV] END max_depth=None, max_features=1, min_samples_leaf=5, min_samples_split=6, n_estimators=60; total time=   2.2s\n",
      "[CV] END max_depth=10, max_features=sqrt, min_samples_leaf=5, min_samples_split=8, n_estimators=60; total time=   2.9s\n",
      "[CV] END max_depth=5, max_features=1, min_samples_leaf=9, min_samples_split=4, n_estimators=70; total time=   0.9s\n",
      "[CV] END max_depth=10, max_features=sqrt, min_samples_leaf=17, min_samples_split=2, n_estimators=30; total time=   1.4s\n",
      "[CV] END max_depth=10, max_features=sqrt, min_samples_leaf=17, min_samples_split=2, n_estimators=30; total time=   1.3s\n",
      "[CV] END max_depth=5, max_features=auto, min_samples_leaf=13, min_samples_split=16, n_estimators=90; total time=   9.3s\n",
      "[CV] END max_depth=None, max_features=1, min_samples_leaf=5, min_samples_split=10, n_estimators=90; total time=   3.2s\n",
      "[CV] END max_depth=5, max_features=1, min_samples_leaf=15, min_samples_split=4, n_estimators=40; total time=   0.6s\n",
      "[CV] END max_depth=5, max_features=1, min_samples_leaf=15, min_samples_split=4, n_estimators=40; total time=   0.6s\n",
      "[CV] END max_depth=3, max_features=auto, min_samples_leaf=19, min_samples_split=10, n_estimators=50; total time=   3.3s\n",
      "[CV] END max_depth=5, max_features=1, min_samples_leaf=15, min_samples_split=8, n_estimators=90; total time=   1.2s\n",
      "[CV] END max_depth=5, max_features=1, min_samples_leaf=15, min_samples_split=14, n_estimators=60; total time=   0.7s\n",
      "[CV] END max_depth=5, max_features=1, min_samples_leaf=15, min_samples_split=14, n_estimators=60; total time=   0.7s\n",
      "[CV] END max_depth=5, max_features=sqrt, min_samples_leaf=11, min_samples_split=6, n_estimators=70; total time=   1.4s\n"
     ]
    },
    {
     "name": "stdout",
     "output_type": "stream",
     "text": [
      "[CV] END max_depth=5, max_features=0.5, min_samples_leaf=19, min_samples_split=14, n_estimators=80; total time=   4.2s\n",
      "[CV] END max_depth=3, max_features=sqrt, min_samples_leaf=13, min_samples_split=10, n_estimators=90; total time=   1.5s\n",
      "[CV] END max_depth=10, max_features=sqrt, min_samples_leaf=15, min_samples_split=14, n_estimators=40; total time=   1.7s\n",
      "[CV] END max_depth=10, max_features=1, min_samples_leaf=19, min_samples_split=6, n_estimators=80; total time=   1.9s\n",
      "[CV] END max_depth=3, max_features=auto, min_samples_leaf=15, min_samples_split=8, n_estimators=20; total time=   1.4s\n",
      "[CV] END max_depth=3, max_features=1, min_samples_leaf=9, min_samples_split=12, n_estimators=80; total time=   0.8s\n",
      "[CV] END max_depth=3, max_features=1, min_samples_leaf=9, min_samples_split=12, n_estimators=80; total time=   0.9s\n",
      "[CV] END max_depth=3, max_features=sqrt, min_samples_leaf=17, min_samples_split=16, n_estimators=80; total time=   1.5s\n",
      "[CV] END max_depth=10, max_features=sqrt, min_samples_leaf=7, min_samples_split=12, n_estimators=90; total time=   4.1s\n",
      "[CV] END max_depth=10, max_features=sqrt, min_samples_leaf=7, min_samples_split=12, n_estimators=90; total time=   4.1s\n",
      "[CV] END max_depth=10, max_features=1, min_samples_leaf=15, min_samples_split=4, n_estimators=60; total time=   1.5s\n",
      "[CV] END max_depth=None, max_features=sqrt, min_samples_leaf=1, min_samples_split=16, n_estimators=30; total time=   2.1s\n",
      "[CV] END max_depth=None, max_features=0.5, min_samples_leaf=19, min_samples_split=10, n_estimators=50; total time=   6.1s\n",
      "[CV] END max_depth=3, max_features=sqrt, min_samples_leaf=11, min_samples_split=12, n_estimators=20; total time=   0.3s\n",
      "[CV] END max_depth=3, max_features=sqrt, min_samples_leaf=5, min_samples_split=8, n_estimators=30; total time=   0.4s\n",
      "[CV] END max_depth=3, max_features=sqrt, min_samples_leaf=5, min_samples_split=8, n_estimators=30; total time=   0.4s\n",
      "[CV] END max_depth=3, max_features=auto, min_samples_leaf=19, min_samples_split=6, n_estimators=40; total time=   2.7s\n",
      "[CV] END max_depth=3, max_features=auto, min_samples_leaf=19, min_samples_split=6, n_estimators=40; total time=   2.5s\n",
      "[CV] END max_depth=None, max_features=1, min_samples_leaf=9, min_samples_split=12, n_estimators=60; total time=   2.0s\n",
      "[CV] END max_depth=3, max_features=1, min_samples_leaf=13, min_samples_split=6, n_estimators=20; total time=   0.3s\n",
      "[CV] END max_depth=3, max_features=1, min_samples_leaf=13, min_samples_split=6, n_estimators=20; total time=   0.2s\n",
      "[CV] END max_depth=3, max_features=1, min_samples_leaf=13, min_samples_split=6, n_estimators=20; total time=   0.4s\n",
      "[CV] END max_depth=3, max_features=0.5, min_samples_leaf=3, min_samples_split=16, n_estimators=20; total time=   0.7s\n",
      "[CV] END max_depth=3, max_features=0.5, min_samples_leaf=3, min_samples_split=16, n_estimators=20; total time=   0.6s\n",
      "[CV] END max_depth=10, max_features=auto, min_samples_leaf=3, min_samples_split=18, n_estimators=70; total time=  13.5s\n",
      "[CV] END max_depth=5, max_features=sqrt, min_samples_leaf=13, min_samples_split=18, n_estimators=90; total time=   2.5s\n",
      "[CV] END max_depth=None, max_features=auto, min_samples_leaf=3, min_samples_split=12, n_estimators=30; total time=   8.0s\n",
      "[CV] END max_depth=None, max_features=sqrt, min_samples_leaf=11, min_samples_split=6, n_estimators=50; total time=   3.0s\n",
      "[CV] END max_depth=None, max_features=auto, min_samples_leaf=7, min_samples_split=18, n_estimators=30; total time=   7.5s\n",
      "[CV] END max_depth=10, max_features=0.5, min_samples_leaf=7, min_samples_split=8, n_estimators=90; total time=   8.2s\n",
      "[CV] END max_depth=None, max_features=auto, min_samples_leaf=15, min_samples_split=2, n_estimators=90; total time=  21.1s\n",
      "[CV] END max_depth=None, max_features=1, min_samples_leaf=17, min_samples_split=16, n_estimators=80; total time=   2.5s\n",
      "[CV] END max_depth=10, max_features=sqrt, min_samples_leaf=1, min_samples_split=14, n_estimators=10; total time=   0.6s\n",
      "[CV] END max_depth=10, max_features=sqrt, min_samples_leaf=1, min_samples_split=14, n_estimators=10; total time=   0.5s\n",
      "[CV] END max_depth=3, max_features=0.5, min_samples_leaf=7, min_samples_split=18, n_estimators=20; total time=   0.8s\n",
      "[CV] END max_depth=3, max_features=0.5, min_samples_leaf=17, min_samples_split=2, n_estimators=30; total time=   1.1s\n",
      "[CV] END max_depth=5, max_features=sqrt, min_samples_leaf=19, min_samples_split=4, n_estimators=10; total time=   0.1s\n",
      "[CV] END max_depth=10, max_features=1, min_samples_leaf=13, min_samples_split=16, n_estimators=20; total time=   0.5s\n",
      "[CV] END max_depth=10, max_features=1, min_samples_leaf=3, min_samples_split=4, n_estimators=80; total time=   2.0s\n",
      "[CV] END max_depth=5, max_features=sqrt, min_samples_leaf=17, min_samples_split=10, n_estimators=90; total time=   2.2s\n",
      "[CV] END max_depth=10, max_features=1, min_samples_leaf=1, min_samples_split=6, n_estimators=80; total time=   1.9s\n",
      "[CV] END max_depth=10, max_features=0.5, min_samples_leaf=13, min_samples_split=12, n_estimators=30; total time=   2.6s\n",
      "[CV] END max_depth=10, max_features=1, min_samples_leaf=13, min_samples_split=2, n_estimators=10; total time=   0.1s\n",
      "[CV] END max_depth=5, max_features=1, min_samples_leaf=5, min_samples_split=14, n_estimators=80; total time=   1.0s\n",
      "[CV] END max_depth=None, max_features=auto, min_samples_leaf=5, min_samples_split=6, n_estimators=30; total time=   8.5s\n",
      "[CV] END max_depth=3, max_features=auto, min_samples_leaf=13, min_samples_split=18, n_estimators=80; total time=   4.8s\n",
      "[CV] END max_depth=5, max_features=0.5, min_samples_leaf=15, min_samples_split=12, n_estimators=80; total time=   4.2s\n",
      "[CV] END max_depth=5, max_features=auto, min_samples_leaf=19, min_samples_split=8, n_estimators=50; total time=   5.2s\n",
      "[CV] END max_depth=5, max_features=sqrt, min_samples_leaf=3, min_samples_split=12, n_estimators=10; total time=   0.2s\n",
      "[CV] END max_depth=5, max_features=sqrt, min_samples_leaf=3, min_samples_split=12, n_estimators=10; total time=   0.3s\n",
      "[CV] END max_depth=None, max_features=auto, min_samples_leaf=17, min_samples_split=18, n_estimators=30; total time=   6.7s\n",
      "[CV] END max_depth=10, max_features=0.5, min_samples_leaf=11, min_samples_split=6, n_estimators=50; total time=   4.6s\n",
      "[CV] END max_depth=None, max_features=1, min_samples_leaf=5, min_samples_split=12, n_estimators=50; total time=   1.8s\n",
      "[CV] END max_depth=None, max_features=1, min_samples_leaf=5, min_samples_split=12, n_estimators=50; total time=   2.0s\n",
      "[CV] END max_depth=10, max_features=sqrt, min_samples_leaf=7, min_samples_split=16, n_estimators=80; total time=   3.6s\n",
      "[CV] END max_depth=10, max_features=1, min_samples_leaf=7, min_samples_split=8, n_estimators=60; total time=   1.5s\n",
      "[CV] END max_depth=10, max_features=1, min_samples_leaf=7, min_samples_split=8, n_estimators=60; total time=   1.4s\n",
      "[CV] END max_depth=10, max_features=1, min_samples_leaf=7, min_samples_split=8, n_estimators=60; total time=   0.9s\n",
      "[CV] END max_depth=5, max_features=1, min_samples_leaf=17, min_samples_split=12, n_estimators=70; total time=   1.0s\n",
      "[CV] END max_depth=5, max_features=auto, min_samples_leaf=19, min_samples_split=12, n_estimators=90; total time=   9.4s\n",
      "[CV] END max_depth=None, max_features=0.5, min_samples_leaf=3, min_samples_split=18, n_estimators=90; total time=  11.7s\n",
      "[CV] END max_depth=10, max_features=sqrt, min_samples_leaf=5, min_samples_split=8, n_estimators=60; total time=   2.8s\n",
      "[CV] END max_depth=5, max_features=1, min_samples_leaf=9, min_samples_split=4, n_estimators=70; total time=   1.1s\n",
      "[CV] END max_depth=5, max_features=1, min_samples_leaf=9, min_samples_split=4, n_estimators=70; total time=   1.0s\n",
      "[CV] END max_depth=10, max_features=sqrt, min_samples_leaf=17, min_samples_split=2, n_estimators=30; total time=   1.3s\n",
      "[CV] END max_depth=5, max_features=auto, min_samples_leaf=13, min_samples_split=16, n_estimators=90; total time=   9.4s\n",
      "[CV] END max_depth=5, max_features=auto, min_samples_leaf=13, min_samples_split=16, n_estimators=90; total time=   8.6s\n",
      "[CV] END max_depth=5, max_features=1, min_samples_leaf=15, min_samples_split=8, n_estimators=90; total time=   1.1s\n",
      "[CV] END max_depth=5, max_features=1, min_samples_leaf=15, min_samples_split=14, n_estimators=60; total time=   0.8s\n",
      "[CV] END max_depth=5, max_features=1, min_samples_leaf=15, min_samples_split=14, n_estimators=60; total time=   0.7s\n",
      "[CV] END max_depth=5, max_features=sqrt, min_samples_leaf=11, min_samples_split=6, n_estimators=70; total time=   1.4s\n",
      "[CV] END max_depth=None, max_features=1, min_samples_leaf=1, min_samples_split=12, n_estimators=60; total time=   2.8s\n",
      "[CV] END max_depth=3, max_features=sqrt, min_samples_leaf=13, min_samples_split=10, n_estimators=90; total time=   1.5s\n",
      "[CV] END max_depth=3, max_features=sqrt, min_samples_leaf=13, min_samples_split=10, n_estimators=90; total time=   1.6s\n",
      "[CV] END max_depth=10, max_features=sqrt, min_samples_leaf=15, min_samples_split=14, n_estimators=40; total time=   1.7s\n",
      "[CV] END max_depth=3, max_features=auto, min_samples_leaf=1, min_samples_split=16, n_estimators=20; total time=   1.3s\n",
      "[CV] END max_depth=3, max_features=auto, min_samples_leaf=15, min_samples_split=8, n_estimators=20; total time=   1.3s\n",
      "[CV] END max_depth=3, max_features=1, min_samples_leaf=9, min_samples_split=12, n_estimators=80; total time=   0.7s\n",
      "[CV] END max_depth=3, max_features=1, min_samples_leaf=9, min_samples_split=12, n_estimators=80; total time=   0.9s\n",
      "[CV] END max_depth=3, max_features=sqrt, min_samples_leaf=17, min_samples_split=16, n_estimators=80; total time=   1.4s\n",
      "[CV] END max_depth=3, max_features=sqrt, min_samples_leaf=17, min_samples_split=16, n_estimators=80; total time=   1.4s\n",
      "[CV] END max_depth=10, max_features=sqrt, min_samples_leaf=7, min_samples_split=12, n_estimators=90; total time=   4.2s\n",
      "[CV] END max_depth=10, max_features=sqrt, min_samples_leaf=1, min_samples_split=6, n_estimators=60; total time=   2.8s\n",
      "[CV] END max_depth=10, max_features=1, min_samples_leaf=15, min_samples_split=4, n_estimators=60; total time=   1.3s\n",
      "[CV] END max_depth=None, max_features=sqrt, min_samples_leaf=1, min_samples_split=16, n_estimators=30; total time=   2.3s\n",
      "[CV] END max_depth=None, max_features=0.5, min_samples_leaf=19, min_samples_split=10, n_estimators=50; total time=   6.0s\n",
      "[CV] END max_depth=None, max_features=auto, min_samples_leaf=1, min_samples_split=2, n_estimators=40; total time=  14.5s\n",
      "[CV] END max_depth=3, max_features=auto, min_samples_leaf=17, min_samples_split=18, n_estimators=70; total time=   4.6s\n",
      "[CV] END max_depth=10, max_features=1, min_samples_leaf=13, min_samples_split=18, n_estimators=90; total time=   2.2s\n",
      "[CV] END max_depth=10, max_features=1, min_samples_leaf=13, min_samples_split=18, n_estimators=90; total time=   2.2s\n",
      "[CV] END max_depth=10, max_features=1, min_samples_leaf=13, min_samples_split=18, n_estimators=90; total time=   2.0s\n",
      "[CV] END max_depth=5, max_features=auto, min_samples_leaf=9, min_samples_split=10, n_estimators=50; total time=   5.4s\n",
      "[CV] END max_depth=None, max_features=auto, min_samples_leaf=3, min_samples_split=12, n_estimators=30; total time=   8.0s\n",
      "[CV] END max_depth=5, max_features=auto, min_samples_leaf=7, min_samples_split=4, n_estimators=60; total time=   5.9s\n",
      "[CV] END max_depth=10, max_features=0.5, min_samples_leaf=7, min_samples_split=8, n_estimators=90; total time=   8.3s\n",
      "[CV] END max_depth=None, max_features=auto, min_samples_leaf=15, min_samples_split=2, n_estimators=90; total time=  21.0s\n",
      "[CV] END max_depth=5, max_features=1, min_samples_leaf=11, min_samples_split=10, n_estimators=40; total time=   0.4s\n",
      "[CV] END max_depth=None, max_features=1, min_samples_leaf=11, min_samples_split=12, n_estimators=80; total time=   2.5s\n",
      "[CV] END max_depth=None, max_features=1, min_samples_leaf=17, min_samples_split=16, n_estimators=80; total time=   2.6s\n",
      "[CV] END max_depth=3, max_features=0.5, min_samples_leaf=17, min_samples_split=2, n_estimators=30; total time=   0.9s\n",
      "[CV] END max_depth=5, max_features=sqrt, min_samples_leaf=19, min_samples_split=4, n_estimators=10; total time=   0.2s\n",
      "[CV] END max_depth=10, max_features=1, min_samples_leaf=13, min_samples_split=16, n_estimators=20; total time=   0.5s\n",
      "[CV] END max_depth=3, max_features=sqrt, min_samples_leaf=13, min_samples_split=12, n_estimators=30; total time=   0.5s\n",
      "[CV] END max_depth=10, max_features=1, min_samples_leaf=3, min_samples_split=4, n_estimators=80; total time=   1.9s\n",
      "[CV] END max_depth=5, max_features=sqrt, min_samples_leaf=17, min_samples_split=10, n_estimators=90; total time=   2.4s\n",
      "[CV] END max_depth=10, max_features=0.5, min_samples_leaf=13, min_samples_split=12, n_estimators=30; total time=   2.8s\n",
      "[CV] END max_depth=10, max_features=0.5, min_samples_leaf=13, min_samples_split=8, n_estimators=10; total time=   1.1s\n",
      "[CV] END max_depth=10, max_features=1, min_samples_leaf=13, min_samples_split=2, n_estimators=10; total time=   0.1s\n",
      "[CV] END max_depth=10, max_features=1, min_samples_leaf=13, min_samples_split=2, n_estimators=10; total time=   0.2s\n",
      "[CV] END max_depth=5, max_features=1, min_samples_leaf=5, min_samples_split=14, n_estimators=80; total time=   0.9s\n",
      "[CV] END max_depth=None, max_features=auto, min_samples_leaf=5, min_samples_split=6, n_estimators=30; total time=   8.5s\n",
      "[CV] END max_depth=3, max_features=auto, min_samples_leaf=13, min_samples_split=18, n_estimators=80; total time=   4.8s\n",
      "[CV] END max_depth=3, max_features=sqrt, min_samples_leaf=15, min_samples_split=14, n_estimators=60; total time=   1.0s\n",
      "[CV] END max_depth=5, max_features=0.5, min_samples_leaf=15, min_samples_split=12, n_estimators=80; total time=   4.1s\n",
      "[CV] END max_depth=5, max_features=auto, min_samples_leaf=19, min_samples_split=8, n_estimators=50; total time=   4.9s\n",
      "[CV] END max_depth=5, max_features=sqrt, min_samples_leaf=3, min_samples_split=12, n_estimators=10; total time=   0.3s\n",
      "[CV] END max_depth=None, max_features=auto, min_samples_leaf=17, min_samples_split=18, n_estimators=30; total time=   7.0s\n",
      "[CV] END max_depth=None, max_features=1, min_samples_leaf=19, min_samples_split=12, n_estimators=20; total time=   0.6s\n",
      "[CV] END max_depth=None, max_features=1, min_samples_leaf=19, min_samples_split=12, n_estimators=20; total time=   0.4s\n",
      "[CV] END max_depth=None, max_features=1, min_samples_leaf=19, min_samples_split=12, n_estimators=20; total time=   0.5s\n",
      "[CV] END max_depth=None, max_features=1, min_samples_leaf=19, min_samples_split=12, n_estimators=20; total time=   0.5s\n",
      "[CV] END max_depth=3, max_features=0.5, min_samples_leaf=17, min_samples_split=14, n_estimators=20; total time=   0.6s\n",
      "[CV] END max_depth=5, max_features=1, min_samples_leaf=7, min_samples_split=6, n_estimators=50; total time=   0.6s\n",
      "[CV] END max_depth=None, max_features=auto, min_samples_leaf=15, min_samples_split=18, n_estimators=50; total time=  12.1s\n",
      "[CV] END max_depth=3, max_features=0.5, min_samples_leaf=15, min_samples_split=10, n_estimators=10; total time=   0.2s\n",
      "[CV] END max_depth=5, max_features=auto, min_samples_leaf=19, min_samples_split=12, n_estimators=90; total time=   9.4s\n",
      "[CV] END max_depth=None, max_features=0.5, min_samples_leaf=3, min_samples_split=18, n_estimators=90; total time=  11.9s\n",
      "[CV] END max_depth=10, max_features=sqrt, min_samples_leaf=5, min_samples_split=8, n_estimators=60; total time=   2.7s\n",
      "[CV] END max_depth=10, max_features=auto, min_samples_leaf=15, min_samples_split=6, n_estimators=90; total time=  17.0s\n",
      "[CV] END max_depth=5, max_features=1, min_samples_leaf=15, min_samples_split=4, n_estimators=40; total time=   0.6s\n",
      "[CV] END max_depth=5, max_features=1, min_samples_leaf=15, min_samples_split=4, n_estimators=40; total time=   0.6s\n",
      "[CV] END max_depth=5, max_features=1, min_samples_leaf=15, min_samples_split=4, n_estimators=40; total time=   0.6s\n",
      "[CV] END max_depth=3, max_features=auto, min_samples_leaf=19, min_samples_split=10, n_estimators=50; total time=   3.3s\n",
      "[CV] END max_depth=5, max_features=0.5, min_samples_leaf=9, min_samples_split=14, n_estimators=60; total time=   3.2s\n",
      "[CV] END max_depth=5, max_features=sqrt, min_samples_leaf=11, min_samples_split=6, n_estimators=70; total time=   0.9s\n",
      "[CV] END max_depth=5, max_features=0.5, min_samples_leaf=19, min_samples_split=14, n_estimators=80; total time=   4.5s\n",
      "[CV] END max_depth=3, max_features=sqrt, min_samples_leaf=9, min_samples_split=2, n_estimators=80; total time=   1.3s\n",
      "[CV] END max_depth=10, max_features=sqrt, min_samples_leaf=15, min_samples_split=14, n_estimators=40; total time=   1.8s\n",
      "[CV] END max_depth=3, max_features=auto, min_samples_leaf=1, min_samples_split=16, n_estimators=20; total time=   1.4s\n",
      "[CV] END max_depth=3, max_features=auto, min_samples_leaf=15, min_samples_split=8, n_estimators=20; total time=   1.3s\n",
      "[CV] END max_depth=None, max_features=0.5, min_samples_leaf=11, min_samples_split=14, n_estimators=80; total time=  10.0s\n",
      "[CV] END max_depth=10, max_features=1, min_samples_leaf=15, min_samples_split=4, n_estimators=60; total time=   1.4s\n",
      "[CV] END max_depth=10, max_features=1, min_samples_leaf=15, min_samples_split=4, n_estimators=60; total time=   1.3s\n",
      "[CV] END max_depth=5, max_features=sqrt, min_samples_leaf=5, min_samples_split=14, n_estimators=70; total time=   2.1s\n",
      "[CV] END max_depth=None, max_features=0.5, min_samples_leaf=19, min_samples_split=10, n_estimators=50; total time=   6.2s\n",
      "[CV] END max_depth=None, max_features=auto, min_samples_leaf=1, min_samples_split=2, n_estimators=40; total time=  13.9s\n",
      "[CV] END max_depth=10, max_features=auto, min_samples_leaf=3, min_samples_split=18, n_estimators=70; total time=  13.4s\n",
      "[CV] END max_depth=5, max_features=auto, min_samples_leaf=9, min_samples_split=10, n_estimators=50; total time=   5.1s\n",
      "[CV] END max_depth=5, max_features=1, min_samples_leaf=13, min_samples_split=18, n_estimators=20; total time=   0.2s\n",
      "[CV] END max_depth=5, max_features=1, min_samples_leaf=13, min_samples_split=18, n_estimators=20; total time=   0.4s\n",
      "[CV] END max_depth=None, max_features=sqrt, min_samples_leaf=11, min_samples_split=6, n_estimators=50; total time=   3.2s\n",
      "[CV] END max_depth=None, max_features=auto, min_samples_leaf=7, min_samples_split=18, n_estimators=30; total time=   7.7s\n",
      "[CV] END max_depth=10, max_features=0.5, min_samples_leaf=7, min_samples_split=8, n_estimators=90; total time=   8.1s\n",
      "[CV] END max_depth=None, max_features=auto, min_samples_leaf=7, min_samples_split=14, n_estimators=80; total time=  20.0s\n",
      "[CV] END max_depth=3, max_features=1, min_samples_leaf=15, min_samples_split=10, n_estimators=60; total time=   0.6s\n",
      "[CV] END max_depth=None, max_features=sqrt, min_samples_leaf=7, min_samples_split=10, n_estimators=10; total time=   0.7s\n",
      "[CV] END max_depth=None, max_features=sqrt, min_samples_leaf=7, min_samples_split=10, n_estimators=10; total time=   0.6s\n",
      "[CV] END max_depth=5, max_features=1, min_samples_leaf=11, min_samples_split=10, n_estimators=40; total time=   0.5s\n",
      "[CV] END max_depth=None, max_features=1, min_samples_leaf=11, min_samples_split=12, n_estimators=80; total time=   2.5s\n",
      "[CV] END max_depth=None, max_features=1, min_samples_leaf=17, min_samples_split=16, n_estimators=80; total time=   2.6s\n",
      "[CV] END max_depth=3, max_features=0.5, min_samples_leaf=17, min_samples_split=2, n_estimators=30; total time=   1.0s\n",
      "[CV] END max_depth=5, max_features=sqrt, min_samples_leaf=19, min_samples_split=4, n_estimators=10; total time=   0.3s\n",
      "[CV] END max_depth=10, max_features=1, min_samples_leaf=13, min_samples_split=16, n_estimators=20; total time=   0.5s\n",
      "[CV] END max_depth=3, max_features=sqrt, min_samples_leaf=13, min_samples_split=12, n_estimators=30; total time=   0.5s\n",
      "[CV] END max_depth=10, max_features=1, min_samples_leaf=3, min_samples_split=4, n_estimators=80; total time=   2.1s\n",
      "[CV] END max_depth=10, max_features=1, min_samples_leaf=1, min_samples_split=6, n_estimators=80; total time=   1.9s\n",
      "[CV] END max_depth=10, max_features=1, min_samples_leaf=1, min_samples_split=6, n_estimators=80; total time=   2.0s\n",
      "[CV] END max_depth=10, max_features=0.5, min_samples_leaf=13, min_samples_split=12, n_estimators=30; total time=   2.6s\n",
      "[CV] END max_depth=5, max_features=1, min_samples_leaf=5, min_samples_split=14, n_estimators=80; total time=   0.9s\n",
      "[CV] END max_depth=5, max_features=0.5, min_samples_leaf=13, min_samples_split=18, n_estimators=40; total time=   2.0s\n",
      "[CV] END max_depth=5, max_features=0.5, min_samples_leaf=13, min_samples_split=18, n_estimators=40; total time=   1.9s\n",
      "[CV] END max_depth=5, max_features=auto, min_samples_leaf=15, min_samples_split=18, n_estimators=70; total time=   6.9s\n",
      "[CV] END max_depth=3, max_features=auto, min_samples_leaf=13, min_samples_split=18, n_estimators=80; total time=   4.9s\n",
      "[CV] END max_depth=5, max_features=auto, min_samples_leaf=19, min_samples_split=8, n_estimators=50; total time=   5.2s\n",
      "[CV] END max_depth=10, max_features=auto, min_samples_leaf=1, min_samples_split=14, n_estimators=30; total time=   5.4s\n",
      "[CV] END max_depth=None, max_features=auto, min_samples_leaf=17, min_samples_split=18, n_estimators=30; total time=   6.9s\n",
      "[CV] END max_depth=5, max_features=1, min_samples_leaf=7, min_samples_split=6, n_estimators=50; total time=   0.7s\n",
      "[CV] END max_depth=None, max_features=auto, min_samples_leaf=15, min_samples_split=18, n_estimators=50; total time=  11.8s\n",
      "[CV] END max_depth=5, max_features=auto, min_samples_leaf=19, min_samples_split=12, n_estimators=90; total time=   9.4s\n",
      "[CV] END max_depth=None, max_features=0.5, min_samples_leaf=3, min_samples_split=18, n_estimators=90; total time=  11.8s\n",
      "[CV] END max_depth=None, max_features=1, min_samples_leaf=5, min_samples_split=6, n_estimators=60; total time=   2.4s\n",
      "[CV] END max_depth=10, max_features=auto, min_samples_leaf=15, min_samples_split=6, n_estimators=90; total time=  16.9s\n",
      "[CV] END max_depth=None, max_features=1, min_samples_leaf=5, min_samples_split=10, n_estimators=90; total time=   3.3s\n",
      "[CV] END max_depth=3, max_features=auto, min_samples_leaf=19, min_samples_split=10, n_estimators=50; total time=   2.9s\n",
      "[CV] END max_depth=5, max_features=0.5, min_samples_leaf=9, min_samples_split=14, n_estimators=60; total time=   3.0s\n",
      "[CV] END max_depth=5, max_features=sqrt, min_samples_leaf=11, min_samples_split=6, n_estimators=70; total time=   0.8s\n"
     ]
    }
   ],
   "source": [
    "fig, ax = plt.subplots(figsize=(15,10))\n",
    "ax.bar(X_train.columns,model.feature_importances_)"
   ]
  },
  {
   "cell_type": "code",
   "execution_count": 56,
   "id": "2c624aec",
   "metadata": {},
   "outputs": [],
   "source": [
    "X = train.drop([\"date\",\"num_sold\",\"day_sin\",\"day_cos\",\"month_sin\",\"holidays\"],axis=1)\n",
    "y = train[\"num_sold\"]\n",
    "\n",
    "X_train, X_test, y_train, y_test = train_test_split(X,y,test_size=.2,random_state=42)\n",
    "\n",
    "model = RandomForestRegressor(random_state=42,n_jobs=-1)\n",
    "model.fit(X_train,y_train)\n",
    "score = model.score(X_test,y_test)\n",
    "\n",
    "y_preds = model.predict(X_test)\n",
    "\n",
    "smape = smape(y_test,y_preds)"
   ]
  },
  {
   "cell_type": "code",
   "execution_count": 57,
   "id": "954b9cf7",
   "metadata": {},
   "outputs": [
    {
     "data": {
      "text/plain": [
       "0.9919621380829705"
      ]
     },
     "execution_count": 57,
     "metadata": {},
     "output_type": "execute_result"
    }
   ],
   "source": [
    "score"
   ]
  },
  {
   "cell_type": "code",
   "execution_count": 58,
   "id": "1ef39f43",
   "metadata": {},
   "outputs": [
    {
     "data": {
      "text/plain": [
       "5.319814332777161"
      ]
     },
     "execution_count": 58,
     "metadata": {},
     "output_type": "execute_result"
    }
   ],
   "source": [
    "smape"
   ]
  },
  {
   "cell_type": "code",
   "execution_count": 61,
   "id": "22ccf175",
   "metadata": {},
   "outputs": [],
   "source": [
    "y_preds_test_2 = model.predict(test.drop([\"date\",\"day_sin\",\"day_cos\",\"month_sin\",\"holidays\"],axis=1))"
   ]
  },
  {
   "cell_type": "code",
   "execution_count": 62,
   "id": "1b7d6d71",
   "metadata": {},
   "outputs": [
    {
     "data": {
      "text/html": [
       "<div>\n",
       "<style scoped>\n",
       "    .dataframe tbody tr th:only-of-type {\n",
       "        vertical-align: middle;\n",
       "    }\n",
       "\n",
       "    .dataframe tbody tr th {\n",
       "        vertical-align: top;\n",
       "    }\n",
       "\n",
       "    .dataframe thead th {\n",
       "        text-align: right;\n",
       "    }\n",
       "</style>\n",
       "<table border=\"1\" class=\"dataframe\">\n",
       "  <thead>\n",
       "    <tr style=\"text-align: right;\">\n",
       "      <th></th>\n",
       "      <th>id</th>\n",
       "      <th>num_sold</th>\n",
       "    </tr>\n",
       "  </thead>\n",
       "  <tbody>\n",
       "    <tr>\n",
       "      <th>0</th>\n",
       "      <td>136950</td>\n",
       "      <td>34.10</td>\n",
       "    </tr>\n",
       "    <tr>\n",
       "      <th>1</th>\n",
       "      <td>136951</td>\n",
       "      <td>34.72</td>\n",
       "    </tr>\n",
       "    <tr>\n",
       "      <th>2</th>\n",
       "      <td>136952</td>\n",
       "      <td>5.03</td>\n",
       "    </tr>\n",
       "    <tr>\n",
       "      <th>3</th>\n",
       "      <td>136953</td>\n",
       "      <td>33.83</td>\n",
       "    </tr>\n",
       "    <tr>\n",
       "      <th>4</th>\n",
       "      <td>136954</td>\n",
       "      <td>30.08</td>\n",
       "    </tr>\n",
       "    <tr>\n",
       "      <th>...</th>\n",
       "      <td>...</td>\n",
       "      <td>...</td>\n",
       "    </tr>\n",
       "    <tr>\n",
       "      <th>27370</th>\n",
       "      <td>164320</td>\n",
       "      <td>699.41</td>\n",
       "    </tr>\n",
       "    <tr>\n",
       "      <th>27371</th>\n",
       "      <td>164321</td>\n",
       "      <td>714.83</td>\n",
       "    </tr>\n",
       "    <tr>\n",
       "      <th>27372</th>\n",
       "      <td>164322</td>\n",
       "      <td>114.07</td>\n",
       "    </tr>\n",
       "    <tr>\n",
       "      <th>27373</th>\n",
       "      <td>164323</td>\n",
       "      <td>696.75</td>\n",
       "    </tr>\n",
       "    <tr>\n",
       "      <th>27374</th>\n",
       "      <td>164324</td>\n",
       "      <td>537.23</td>\n",
       "    </tr>\n",
       "  </tbody>\n",
       "</table>\n",
       "<p>27375 rows × 2 columns</p>\n",
       "</div>"
      ],
      "text/plain": [
       "           id  num_sold\n",
       "0      136950     34.10\n",
       "1      136951     34.72\n",
       "2      136952      5.03\n",
       "3      136953     33.83\n",
       "4      136954     30.08\n",
       "...       ...       ...\n",
       "27370  164320    699.41\n",
       "27371  164321    714.83\n",
       "27372  164322    114.07\n",
       "27373  164323    696.75\n",
       "27374  164324    537.23\n",
       "\n",
       "[27375 rows x 2 columns]"
      ]
     },
     "execution_count": 62,
     "metadata": {},
     "output_type": "execute_result"
    }
   ],
   "source": [
    "results2 = pd.DataFrame()\n",
    "df_s = pd.read_csv(\"playground-series-s3e19/sample_submission.csv\")\n",
    "results2[\"id\"] = df_s[\"id\"]\n",
    "results2[\"num_sold\"] = y_preds_test_2\n",
    "results2"
   ]
  },
  {
   "cell_type": "code",
   "execution_count": 63,
   "id": "e09bd99f",
   "metadata": {},
   "outputs": [],
   "source": [
    "results2.to_csv(\"playground-series-s3e19/results\",index=False)"
   ]
  },
  {
   "cell_type": "code",
   "execution_count": 64,
   "id": "2ddbd7ab",
   "metadata": {},
   "outputs": [
    {
     "data": {
      "text/plain": [
       "<BarContainer object of 11 artists>"
      ]
     },
     "execution_count": 64,
     "metadata": {},
     "output_type": "execute_result"
    },
    {
     "data": {
      "image/png": "[encoded data removed]",
      "text/plain": [
       "<Figure size 1500x1000 with 1 Axes>"
      ]
     },
     "metadata": {},
     "output_type": "display_data"
    }
   ],
   "source": [
    "fig, ax = plt.subplots(figsize=(15,10))\n",
    "ax.bar(X_train.columns,model.feature_importances_)"
   ]
  },
  {
   "cell_type": "code",
   "execution_count": 66,
   "id": "7b46077d",
   "metadata": {},
   "outputs": [],
   "source": [
    "X = train.drop([\"date\",\"num_sold\",\"day_sin\",\"day_cos\",\"month_sin\",\"holidays\",\"quater\",\"sale_year\",\"month_cos\",\"year_sin\",\"year_cos\"],axis=1)\n",
    "y = train[\"num_sold\"]\n",
    "\n",
    "X_train, X_test, y_train, y_test = train_test_split(X,y,test_size=.2,random_state=42)\n",
    "\n",
    "model = RandomForestRegressor(random_state=42,n_jobs=-1)\n",
    "model.fit(X_train,y_train)\n",
    "score = model.score(X_test,y_test)\n",
    "\n",
    "y_preds = model.predict(X_test)\n",
    "\n",
    "# smape = smape(y_test,y_preds)"
   ]
  },
  {
   "cell_type": "code",
   "execution_count": 67,
   "id": "ff41b7b9",
   "metadata": {},
   "outputs": [
    {
     "data": {
      "text/plain": [
       "0.9700297702909444"
      ]
     },
     "execution_count": 67,
     "metadata": {},
     "output_type": "execute_result"
    }
   ],
   "source": [
    "score"
   ]
  },
  {
   "cell_type": "code",
   "execution_count": 70,
   "id": "39118fab",
   "metadata": {},
   "outputs": [
    {
     "data": {
      "text/plain": [
       "12.070043745016186"
      ]
     },
     "execution_count": 70,
     "metadata": {},
     "output_type": "execute_result"
    }
   ],
   "source": [
    "smape(y_test,y_preds)"
   ]
  },
  {
   "cell_type": "code",
   "execution_count": 71,
   "id": "8ab42df5",
   "metadata": {},
   "outputs": [
    {
     "data": {
      "text/plain": [
       "<BarContainer object of 6 artists>"
      ]
     },
     "execution_count": 71,
     "metadata": {},
     "output_type": "execute_result"
    },
    {
     "data": {
      "image/png": "[encoded data removed]",
      "text/plain": [
       "<Figure size 1500x1000 with 1 Axes>"
      ]
     },
     "metadata": {},
     "output_type": "display_data"
    }
   ],
   "source": [
    "fig, ax = plt.subplots(figsize=(15,10))\n",
    "ax.bar(X_train.columns,model.feature_importances_)"
   ]
  },
  {
   "cell_type": "code",
   "execution_count": 77,
   "id": "cd27eeb1",
   "metadata": {},
   "outputs": [],
   "source": [
    "X = train[train.sale_year!=2021]\n",
    "y = train[train.sale_year==2021]"
   ]
  },
  {
   "cell_type": "code",
   "execution_count": 78,
   "id": "f21b40a2",
   "metadata": {},
   "outputs": [],
   "source": [
    "X_train, y_train = X.drop(\"num_sold\",axis=1),X[\"num_sold\"]\n",
    "X_test, y_test = y.drop(\"num_sold\",axis=1),y[\"num_sold\"]"
   ]
  },
  {
   "cell_type": "code",
   "execution_count": 81,
   "id": "59de9913",
   "metadata": {},
   "outputs": [
    {
     "data": {
      "text/html": [
       "<style>#sk-container-id-9 {color: black;background-color: white;}#sk-container-id-9 pre{padding: 0;}#sk-container-id-9 div.sk-toggleable {background-color: white;}#sk-container-id-9 label.sk-toggleable__label {cursor: pointer;display: block;width: 100%;margin-bottom: 0;padding: 0.3em;box-sizing: border-box;text-align: center;}#sk-container-id-9 label.sk-toggleable__label-arrow:before {content: \"▸\";float: left;margin-right: 0.25em;color: #696969;}#sk-container-id-9 label.sk-toggleable__label-arrow:hover:before {color: black;}#sk-container-id-9 div.sk-estimator:hover label.sk-toggleable__label-arrow:before {color: black;}#sk-container-id-9 div.sk-toggleable__content {max-height: 0;max-width: 0;overflow: hidden;text-align: left;background-color: #f0f8ff;}#sk-container-id-9 div.sk-toggleable__content pre {margin: 0.2em;color: black;border-radius: 0.25em;background-color: #f0f8ff;}#sk-container-id-9 input.sk-toggleable__control:checked~div.sk-toggleable__content {max-height: 200px;max-width: 100%;overflow: auto;}#sk-container-id-9 input.sk-toggleable__control:checked~label.sk-toggleable__label-arrow:before {content: \"▾\";}#sk-container-id-9 div.sk-estimator input.sk-toggleable__control:checked~label.sk-toggleable__label {background-color: #d4ebff;}#sk-container-id-9 div.sk-label input.sk-toggleable__control:checked~label.sk-toggleable__label {background-color: #d4ebff;}#sk-container-id-9 input.sk-hidden--visually {border: 0;clip: rect(1px 1px 1px 1px);clip: rect(1px, 1px, 1px, 1px);height: 1px;margin: -1px;overflow: hidden;padding: 0;position: absolute;width: 1px;}#sk-container-id-9 div.sk-estimator {font-family: monospace;background-color: #f0f8ff;border: 1px dotted black;border-radius: 0.25em;box-sizing: border-box;margin-bottom: 0.5em;}#sk-container-id-9 div.sk-estimator:hover {background-color: #d4ebff;}#sk-container-id-9 div.sk-parallel-item::after {content: \"\";width: 100%;border-bottom: 1px solid gray;flex-grow: 1;}#sk-container-id-9 div.sk-label:hover label.sk-toggleable__label {background-color: #d4ebff;}#sk-container-id-9 div.sk-serial::before {content: \"\";position: absolute;border-left: 1px solid gray;box-sizing: border-box;top: 0;bottom: 0;left: 50%;z-index: 0;}#sk-container-id-9 div.sk-serial {display: flex;flex-direction: column;align-items: center;background-color: white;padding-right: 0.2em;padding-left: 0.2em;position: relative;}#sk-container-id-9 div.sk-item {position: relative;z-index: 1;}#sk-container-id-9 div.sk-parallel {display: flex;align-items: stretch;justify-content: center;background-color: white;position: relative;}#sk-container-id-9 div.sk-item::before, #sk-container-id-9 div.sk-parallel-item::before {content: \"\";position: absolute;border-left: 1px solid gray;box-sizing: border-box;top: 0;bottom: 0;left: 50%;z-index: -1;}#sk-container-id-9 div.sk-parallel-item {display: flex;flex-direction: column;z-index: 1;position: relative;background-color: white;}#sk-container-id-9 div.sk-parallel-item:first-child::after {align-self: flex-end;width: 50%;}#sk-container-id-9 div.sk-parallel-item:last-child::after {align-self: flex-start;width: 50%;}#sk-container-id-9 div.sk-parallel-item:only-child::after {width: 0;}#sk-container-id-9 div.sk-dashed-wrapped {border: 1px dashed gray;margin: 0 0.4em 0.5em 0.4em;box-sizing: border-box;padding-bottom: 0.4em;background-color: white;}#sk-container-id-9 div.sk-label label {font-family: monospace;font-weight: bold;display: inline-block;line-height: 1.2em;}#sk-container-id-9 div.sk-label-container {text-align: center;}#sk-container-id-9 div.sk-container {/* jupyter's `normalize.less` sets `[hidden] { display: none; }` but bootstrap.min.css set `[hidden] { display: none !important; }` so we also need the `!important` here to be able to override the default hidden behavior on the sphinx rendered scikit-learn.org. See: https://github.com/scikit-learn/scikit-learn/issues/21755 */display: inline-block !important;position: relative;}#sk-container-id-9 div.sk-text-repr-fallback {display: none;}</style><div id=\"sk-container-id-9\" class=\"sk-top-container\"><div class=\"sk-text-repr-fallback\"><pre>RandomForestRegressor(n_jobs=-1, random_state=42)</pre><b>In a Jupyter environment, please rerun this cell to show the HTML representation or trust the notebook. <br />On GitHub, the HTML representation is unable to render, please try loading this page with nbviewer.org.</b></div><div class=\"sk-container\" hidden><div class=\"sk-item\"><div class=\"sk-estimator sk-toggleable\"><input class=\"sk-toggleable__control sk-hidden--visually\" id=\"sk-estimator-id-15\" type=\"checkbox\" checked><label for=\"sk-estimator-id-15\" class=\"sk-toggleable__label sk-toggleable__label-arrow\">RandomForestRegressor</label><div class=\"sk-toggleable__content\"><pre>RandomForestRegressor(n_jobs=-1, random_state=42)</pre></div></div></div></div></div>"
      ],
      "text/plain": [
       "RandomForestRegressor(n_jobs=-1, random_state=42)"
      ]
     },
     "execution_count": 81,
     "metadata": {},
     "output_type": "execute_result"
    }
   ],
   "source": [
    "model = RandomForestRegressor(random_state=42,n_jobs=-1)\n",
    "model.fit(X_train,y_train)"
   ]
  },
  {
   "cell_type": "code",
   "execution_count": 82,
   "id": "1daf9b53",
   "metadata": {},
   "outputs": [
    {
     "data": {
      "text/plain": [
       "0.9246894215519995"
      ]
     },
     "execution_count": 82,
     "metadata": {},
     "output_type": "execute_result"
    }
   ],
   "source": [
    "model.score(X_test,y_test)"
   ]
  },
  {
   "cell_type": "code",
   "execution_count": 83,
   "id": "afbdfde3",
   "metadata": {},
   "outputs": [
    {
     "data": {
      "text/plain": [
       "16.88650646139533"
      ]
     },
     "execution_count": 83,
     "metadata": {},
     "output_type": "execute_result"
    }
   ],
   "source": [
    "smape(y_test,model.predict(X_test))"
   ]
  },
  {
   "cell_type": "code",
   "execution_count": 84,
   "id": "528baa80",
   "metadata": {},
   "outputs": [
    {
     "data": {
      "text/plain": [
       "(109575, 16)"
      ]
     },
     "execution_count": 84,
     "metadata": {},
     "output_type": "execute_result"
    }
   ],
   "source": [
    "X_train.shape"
   ]
  },
  {
   "cell_type": "code",
   "execution_count": 85,
   "id": "2ec3bd12",
   "metadata": {},
   "outputs": [
    {
     "data": {
      "text/plain": [
       "(27375, 16)"
      ]
     },
     "execution_count": 85,
     "metadata": {},
     "output_type": "execute_result"
    }
   ],
   "source": [
    "X_test.shape"
   ]
  },
  {
   "cell_type": "code",
   "execution_count": null,
   "id": "929dd929",
   "metadata": {},
   "outputs": [],
   "source": [
    "10"
   ]
  }
 ],
 "metadata": {
  "kernelspec": {
   "display_name": "Python 3 (ipykernel)",
   "language": "python",
   "name": "python3"
  },
  "language_info": {
   "codemirror_mode": {
    "name": "ipython",
    "version": 3
   },
   "file_extension": ".py",
   "mimetype": "text/x-python",
   "name": "python",
   "nbconvert_exporter": "python",
   "pygments_lexer": "ipython3",
   "version": "3.11.4"
  }
 },
 "nbformat": 4,
 "nbformat_minor": 5
}
